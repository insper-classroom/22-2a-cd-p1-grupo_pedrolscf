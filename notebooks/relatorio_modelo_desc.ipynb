{
 "cells": [
  {
   "cell_type": "markdown",
   "metadata": {},
   "source": [
    "# Projeto 1 - Ciência dos Dados"
   ]
  },
  {
   "cell_type": "markdown",
   "metadata": {},
   "source": [
    "Nome: Pedro De Lucca Sartori Chagas Ferro\n",
    "\n",
    "Nome: Pedro Antônio Braga Dutra"
   ]
  },
  {
   "cell_type": "markdown",
   "metadata": {},
   "source": [
    "___\n",
    "Carregando algumas bibliotecas:"
   ]
  },
  {
   "cell_type": "code",
   "execution_count": 54,
   "metadata": {},
   "outputs": [],
   "source": [
    "%matplotlib inline\n",
    "import pandas as pd\n",
    "import matplotlib.pyplot as plt\n",
    "import numpy as np\n",
    "import os"
   ]
  },
  {
   "cell_type": "code",
   "execution_count": 55,
   "metadata": {},
   "outputs": [
    {
     "name": "stdout",
     "output_type": "stream",
     "text": [
      "Esperamos trabalhar no diretório\n",
      "c:\\Users\\Pedro De Lucca\\Documents\\Insper\\2° Semestre\\CDados\\22-2a-cd-p1-grupo_pedrolscf\\notebooks\n"
     ]
    }
   ],
   "source": [
    "print('Esperamos trabalhar no diretório')\n",
    "print(os.getcwd())"
   ]
  },
  {
   "cell_type": "code",
   "execution_count": 56,
   "metadata": {},
   "outputs": [],
   "source": [
    "filename = 'dados.xlsx'"
   ]
  },
  {
   "cell_type": "code",
   "execution_count": 57,
   "metadata": {},
   "outputs": [
    {
     "data": {
      "text/html": [
       "<div>\n",
       "<style scoped>\n",
       "    .dataframe tbody tr th:only-of-type {\n",
       "        vertical-align: middle;\n",
       "    }\n",
       "\n",
       "    .dataframe tbody tr th {\n",
       "        vertical-align: top;\n",
       "    }\n",
       "\n",
       "    .dataframe thead th {\n",
       "        text-align: right;\n",
       "    }\n",
       "</style>\n",
       "<table border=\"1\" class=\"dataframe\">\n",
       "  <thead>\n",
       "    <tr style=\"text-align: right;\">\n",
       "      <th></th>\n",
       "      <th>Categoria</th>\n",
       "      <th>Titulo</th>\n",
       "      <th>Descrição</th>\n",
       "      <th>Data</th>\n",
       "      <th>Pagina</th>\n",
       "      <th>Target</th>\n",
       "      <th>P_Chave</th>\n",
       "    </tr>\n",
       "  </thead>\n",
       "  <tbody>\n",
       "    <tr>\n",
       "      <th>0</th>\n",
       "      <td>bolsonaro</td>\n",
       "      <td>Após repercussão, site com críticas ao preside...</td>\n",
       "      <td>Após a repercussão, o domínio ‘bolsonaro.com.b...</td>\n",
       "      <td>01/09/2022 15:50</td>\n",
       "      <td>1</td>\n",
       "      <td>0</td>\n",
       "      <td>crítica e acusações sobre a família bolsonaro</td>\n",
       "    </tr>\n",
       "    <tr>\n",
       "      <th>1</th>\n",
       "      <td>bolsonaro</td>\n",
       "      <td>Bolsonaro chama de narrativa críticas de compo...</td>\n",
       "      <td>O presidente Jair Bolsonaro (PL) atribuiu a um...</td>\n",
       "      <td>01/09/2022 20:56</td>\n",
       "      <td>1</td>\n",
       "      <td>0</td>\n",
       "      <td>ataques à jornalista</td>\n",
       "    </tr>\n",
       "    <tr>\n",
       "      <th>2</th>\n",
       "      <td>bolsonaro</td>\n",
       "      <td>Lula cai dois pontos, Bolsonaro fica estável, ...</td>\n",
       "      <td>Uma nova pesquisa Datafolha presidencial foi d...</td>\n",
       "      <td>01/09/2022 21:42</td>\n",
       "      <td>1</td>\n",
       "      <td>0</td>\n",
       "      <td>NaN</td>\n",
       "    </tr>\n",
       "    <tr>\n",
       "      <th>3</th>\n",
       "      <td>bolsonaro</td>\n",
       "      <td>Datafolha: Entre mulheres, Lula tem 48%, Bolso...</td>\n",
       "      <td>A pesquisa do Instituto Datafolha divulgada ne...</td>\n",
       "      <td>01/09/2022 22:01</td>\n",
       "      <td>1</td>\n",
       "      <td>0</td>\n",
       "      <td>protagonizou agressão verbal à jornalista vera</td>\n",
       "    </tr>\n",
       "    <tr>\n",
       "      <th>4</th>\n",
       "      <td>bolsonaro</td>\n",
       "      <td>Lula diz que orçamento de Bolsonaro não prevê ...</td>\n",
       "      <td>O ex-presidente e candidato Luiz Inácio Lula d...</td>\n",
       "      <td>01/09/2022 22:24</td>\n",
       "      <td>1</td>\n",
       "      <td>0</td>\n",
       "      <td>não inclui reajuste do salário mínimo</td>\n",
       "    </tr>\n",
       "  </tbody>\n",
       "</table>\n",
       "</div>"
      ],
      "text/plain": [
       "   Categoria                                             Titulo  \\\n",
       "0  bolsonaro  Após repercussão, site com críticas ao preside...   \n",
       "1  bolsonaro  Bolsonaro chama de narrativa críticas de compo...   \n",
       "2  bolsonaro  Lula cai dois pontos, Bolsonaro fica estável, ...   \n",
       "3  bolsonaro  Datafolha: Entre mulheres, Lula tem 48%, Bolso...   \n",
       "4  bolsonaro  Lula diz que orçamento de Bolsonaro não prevê ...   \n",
       "\n",
       "                                           Descrição              Data  \\\n",
       "0  Após a repercussão, o domínio ‘bolsonaro.com.b...  01/09/2022 15:50   \n",
       "1  O presidente Jair Bolsonaro (PL) atribuiu a um...  01/09/2022 20:56   \n",
       "2  Uma nova pesquisa Datafolha presidencial foi d...  01/09/2022 21:42   \n",
       "3  A pesquisa do Instituto Datafolha divulgada ne...  01/09/2022 22:01   \n",
       "4  O ex-presidente e candidato Luiz Inácio Lula d...  01/09/2022 22:24   \n",
       "\n",
       "   Pagina  Target                                         P_Chave  \n",
       "0       1       0   crítica e acusações sobre a família bolsonaro  \n",
       "1       1       0                            ataques à jornalista  \n",
       "2       1       0                                             NaN  \n",
       "3       1       0  protagonizou agressão verbal à jornalista vera  \n",
       "4       1       0           não inclui reajuste do salário mínimo  "
      ]
     },
     "execution_count": 57,
     "metadata": {},
     "output_type": "execute_result"
    }
   ],
   "source": [
    "train = pd.read_excel(filename, sheet_name = 'Treinamento')\n",
    "train.head(5)"
   ]
  },
  {
   "cell_type": "code",
   "execution_count": 58,
   "metadata": {},
   "outputs": [
    {
     "data": {
      "text/html": [
       "<div>\n",
       "<style scoped>\n",
       "    .dataframe tbody tr th:only-of-type {\n",
       "        vertical-align: middle;\n",
       "    }\n",
       "\n",
       "    .dataframe tbody tr th {\n",
       "        vertical-align: top;\n",
       "    }\n",
       "\n",
       "    .dataframe thead th {\n",
       "        text-align: right;\n",
       "    }\n",
       "</style>\n",
       "<table border=\"1\" class=\"dataframe\">\n",
       "  <thead>\n",
       "    <tr style=\"text-align: right;\">\n",
       "      <th></th>\n",
       "      <th>Categoria</th>\n",
       "      <th>Titulo</th>\n",
       "      <th>Descrição</th>\n",
       "      <th>Data</th>\n",
       "      <th>Pagina</th>\n",
       "      <th>Target</th>\n",
       "      <th>P_Chave</th>\n",
       "    </tr>\n",
       "  </thead>\n",
       "  <tbody>\n",
       "    <tr>\n",
       "      <th>0</th>\n",
       "      <td>bolsonaro</td>\n",
       "      <td>Bolsonaro critica TSE e diz que medidas da Cor...</td>\n",
       "      <td>O presidente Jair Bolsonaro (PL) fez críticas ...</td>\n",
       "      <td>02/09/2022 15:30</td>\n",
       "      <td>1</td>\n",
       "      <td>0</td>\n",
       "      <td>críticas TSE</td>\n",
       "    </tr>\n",
       "    <tr>\n",
       "      <th>1</th>\n",
       "      <td>bolsonaro</td>\n",
       "      <td>Esquerda se solidarizou com facada em 2018, ao...</td>\n",
       "      <td>Diferentemente do que disse o presidente Jair ...</td>\n",
       "      <td>02/09/2022 17:48</td>\n",
       "      <td>1</td>\n",
       "      <td>0</td>\n",
       "      <td>contrário diferentemente Bolsonaro</td>\n",
       "    </tr>\n",
       "    <tr>\n",
       "      <th>2</th>\n",
       "      <td>bolsonaro</td>\n",
       "      <td>Bolsonaro cometeu crime contra a humanidade na...</td>\n",
       "      <td>O júri simbólico do Tribunal Permanente dos Po...</td>\n",
       "      <td>01/09/2022 14:08</td>\n",
       "      <td>2</td>\n",
       "      <td>0</td>\n",
       "      <td>condenou crime sentença Bolsonaro</td>\n",
       "    </tr>\n",
       "    <tr>\n",
       "      <th>3</th>\n",
       "      <td>bolsonaro</td>\n",
       "      <td>Crítico de Bolsonaro compra domínio e ‘recria’...</td>\n",
       "      <td>Um site que antes era usado para exibir feitos...</td>\n",
       "      <td>31/08/2022 12:21</td>\n",
       "      <td>2</td>\n",
       "      <td>0</td>\n",
       "      <td>críticas Bolsonaro presidente ameaça Brasil</td>\n",
       "    </tr>\n",
       "    <tr>\n",
       "      <th>4</th>\n",
       "      <td>bolsonaro</td>\n",
       "      <td>Bolsonaro cometeu crime contra a humanidade na...</td>\n",
       "      <td>O júri simbólico do Tribunal Permanente dos Po...</td>\n",
       "      <td>01/09/2022 14:08</td>\n",
       "      <td>2</td>\n",
       "      <td>0</td>\n",
       "      <td>condenou crime sentença Bolsonaro</td>\n",
       "    </tr>\n",
       "  </tbody>\n",
       "</table>\n",
       "</div>"
      ],
      "text/plain": [
       "   Categoria                                             Titulo  \\\n",
       "0  bolsonaro  Bolsonaro critica TSE e diz que medidas da Cor...   \n",
       "1  bolsonaro  Esquerda se solidarizou com facada em 2018, ao...   \n",
       "2  bolsonaro  Bolsonaro cometeu crime contra a humanidade na...   \n",
       "3  bolsonaro  Crítico de Bolsonaro compra domínio e ‘recria’...   \n",
       "4  bolsonaro  Bolsonaro cometeu crime contra a humanidade na...   \n",
       "\n",
       "                                           Descrição              Data  \\\n",
       "0  O presidente Jair Bolsonaro (PL) fez críticas ...  02/09/2022 15:30   \n",
       "1  Diferentemente do que disse o presidente Jair ...  02/09/2022 17:48   \n",
       "2  O júri simbólico do Tribunal Permanente dos Po...  01/09/2022 14:08   \n",
       "3  Um site que antes era usado para exibir feitos...  31/08/2022 12:21   \n",
       "4  O júri simbólico do Tribunal Permanente dos Po...  01/09/2022 14:08   \n",
       "\n",
       "   Pagina  Target                                      P_Chave  \n",
       "0       1       0                                 críticas TSE  \n",
       "1       1       0           contrário diferentemente Bolsonaro  \n",
       "2       2       0            condenou crime sentença Bolsonaro  \n",
       "3       2       0  críticas Bolsonaro presidente ameaça Brasil  \n",
       "4       2       0            condenou crime sentença Bolsonaro  "
      ]
     },
     "execution_count": 58,
     "metadata": {},
     "output_type": "execute_result"
    }
   ],
   "source": [
    "test = pd.read_excel(filename, sheet_name = 'Teste')\n",
    "test.head(5)"
   ]
  },
  {
   "cell_type": "markdown",
   "metadata": {},
   "source": [
    "___\n",
    "## Classificador automático"
   ]
  },
  {
   "cell_type": "markdown",
   "metadata": {},
   "source": [
    "Faça aqui uma descrição do seu assunto e o que considerou como relevante ou não relevante na classificação das notícias (Target).\n",
    "\n",
    "Vamos analisar o desempenho do governo Bolsonaro entre os anos de 2019 e 2022, com base nas notícias do site IstoÉ Dinheiro. Foram analisadas mais de 800 notícias."
   ]
  },
  {
   "cell_type": "markdown",
   "metadata": {},
   "source": [
    "# Criando O Classificador"
   ]
  },
  {
   "cell_type": "code",
   "execution_count": 59,
   "metadata": {},
   "outputs": [],
   "source": [
    "import re \n",
    "\n",
    "\n",
    "def limpador(text):\n",
    "    punctuation = '[!-.:?;%()‘’“”/]'\n",
    "    pattern = re.compile(punctuation)\n",
    "    text_subbed = re.sub(pattern, '', text)\n",
    "    text_subbed = text_subbed.lower()\n",
    "    return text_subbed"
   ]
  },
  {
   "cell_type": "code",
   "execution_count": 60,
   "metadata": {},
   "outputs": [],
   "source": [
    "train['P_Chave']=train['P_Chave'].astype(str)\n",
    "train['Titulo']=train['Titulo'].astype(str)\n",
    "train['Descrição']=train['Descrição'].astype(str)\n",
    "\n",
    "train['Descrição']=train['Descrição'].apply(limpador)\n",
    "train['Titulo']=train['Titulo'].apply(limpador)\n",
    "train['P_Chave']=train['P_Chave'].apply(limpador)"
   ]
  },
  {
   "cell_type": "code",
   "execution_count": 61,
   "metadata": {},
   "outputs": [],
   "source": [
    "test['P_Chave']=test['P_Chave'].astype(str)\n",
    "test['Titulo']=test['Titulo'].astype(str)\n",
    "test['Descrição']=test['Descrição'].astype(str)\n",
    "\n",
    "test['Descrição']=test['Descrição'].apply(limpador)\n",
    "test['Titulo']=test['Titulo'].apply(limpador)\n",
    "test['P_Chave']=test['P_Chave'].apply(limpador)"
   ]
  },
  {
   "cell_type": "code",
   "execution_count": 62,
   "metadata": {},
   "outputs": [],
   "source": [
    "train0_tit=train.loc[train['Target']==0,['Descrição','Target']]\n",
    "train1_tit=train.loc[train['Target']==1,['Descrição','Target']]\n",
    "train2_tit=train.loc[train['Target']==2,['Descrição','Target']]"
   ]
  },
  {
   "cell_type": "code",
   "execution_count": 63,
   "metadata": {},
   "outputs": [],
   "source": [
    "excluidos=['[…]','nan','–','de','a','o','e','na','no','do','em','ao','da','é','à','os','nas','nos','das','que',\n",
    "          'dos','as','r','se','para', '', 'como', 'com', 'um', 'nesta', 'diz', 'uma', 'por', 'foi', 'vai', 'após', 'durante',\n",
    "          'ele', 'ela', 'pelo', 'pela', 'segundafeira', 'terçafeira', 'quartafeira', 'quintafeira', 'sextafeira', \n",
    "          'sábado', 'domingo', 'são', 'ser','jair','presidente','bolsonaro']"
   ]
  },
  {
   "cell_type": "markdown",
   "metadata": {},
   "source": [
    "# Analisando os Títulos (TREINO)"
   ]
  },
  {
   "cell_type": "markdown",
   "metadata": {},
   "source": [
    "### Lista dos NEGATIVOS (0)"
   ]
  },
  {
   "cell_type": "code",
   "execution_count": 64,
   "metadata": {},
   "outputs": [],
   "source": [
    "lista_train0_tit=[]\n",
    "lista_train0_tit_quero=[]\n",
    "for i in range(0,len(train0_tit)):\n",
    "    quero=train0_tit.iloc[i,0]\n",
    "    final = quero.split()\n",
    "    lista_train0_tit+=(final)\n",
    "w=0\n",
    "while w <len(lista_train0_tit):\n",
    "    if lista_train0_tit[w] not in excluidos:\n",
    "        lista_train0_tit_quero.append(lista_train0_tit[w])\n",
    "    w+=1"
   ]
  },
  {
   "cell_type": "markdown",
   "metadata": {},
   "source": [
    "### Lista dos POSITIVOS (1)"
   ]
  },
  {
   "cell_type": "code",
   "execution_count": 65,
   "metadata": {},
   "outputs": [],
   "source": [
    "lista_train1_tit=[]\n",
    "lista_train1_tit_quero=[]\n",
    "for i in range(0,len(train1_tit)):\n",
    "    quero=train1_tit.iloc[i,0]\n",
    "    final = quero.split()\n",
    "    lista_train1_tit+=(final)\n",
    "w=0\n",
    "while w <len(lista_train1_tit):\n",
    "    if lista_train1_tit[w] not in excluidos:\n",
    "        lista_train1_tit_quero.append(lista_train1_tit[w])\n",
    "    w+=1"
   ]
  },
  {
   "cell_type": "markdown",
   "metadata": {},
   "source": [
    "### Lista dos NEUTROS (2)"
   ]
  },
  {
   "cell_type": "code",
   "execution_count": 66,
   "metadata": {},
   "outputs": [],
   "source": [
    "lista_train2_tit=[]\n",
    "lista_train2_tit_quero=[]\n",
    "for i in range(0,len(train2_tit)):\n",
    "    quero=train2_tit.iloc[i,0]\n",
    "    final = quero.split()\n",
    "    lista_train2_tit+=(final)\n",
    "w=0\n",
    "while w <len(lista_train2_tit):\n",
    "    if lista_train2_tit[w] not in excluidos:\n",
    "        lista_train2_tit_quero.append(lista_train2_tit[w])\n",
    "    w+=1"
   ]
  },
  {
   "cell_type": "markdown",
   "metadata": {},
   "source": [
    "### Transformando para Serie"
   ]
  },
  {
   "cell_type": "code",
   "execution_count": 67,
   "metadata": {},
   "outputs": [],
   "source": [
    "serie0_tit=pd.Series(lista_train0_tit_quero).value_counts()\n",
    "serie1_tit=pd.Series(lista_train1_tit_quero).value_counts()\n",
    "serie2_tit=pd.Series(lista_train2_tit_quero).value_counts()\n",
    "\n",
    "#print(lista_train1_tit_quero)"
   ]
  },
  {
   "cell_type": "markdown",
   "metadata": {},
   "source": [
    "## Testando Iterações"
   ]
  },
  {
   "cell_type": "code",
   "execution_count": 68,
   "metadata": {},
   "outputs": [],
   "source": [
    "lista_total = lista_train2_tit_quero + lista_train1_tit_quero + lista_train0_tit_quero\n",
    "lista_exclusivas = []\n",
    "\n",
    "for i in range(0, len(lista_total)):\n",
    "    palavra = lista_total[i]\n",
    "    if (palavra not in serie0_tit.index and palavra not in serie1_tit.index) or (palavra not in serie0_tit.index and palavra not in serie2_tit.index) or (palavra not in serie1_tit.index and palavra not in serie2_tit.index):\n",
    "        lista_exclusivas.append(palavra)\n",
    "\n",
    "notexclusivo0 = []\n",
    "for i in range(0, len(serie0_tit)):\n",
    "    palavra = serie0_tit.index[i]\n",
    "    if palavra in lista_exclusivas:\n",
    "        notexclusivo0.append(palavra)\n",
    "\n",
    "notexclusivo1 = []\n",
    "for i in range(0, len(serie1_tit)):\n",
    "    palavra = serie1_tit.index[i]\n",
    "    if palavra in lista_exclusivas:\n",
    "        notexclusivo1.append(palavra)\n",
    "\n",
    "notexclusivo2 = []\n",
    "for i in range(0, len(serie2_tit)):\n",
    "    palavra = serie2_tit.index[i]\n",
    "    if palavra in lista_exclusivas:\n",
    "        notexclusivo2.append(palavra)\n",
    "\n",
    "\n",
    "serie0_tit = serie0_tit.drop(notexclusivo0) \n",
    "serie1_tit = serie1_tit.drop(notexclusivo1)\n",
    "serie2_tit = serie2_tit.drop(notexclusivo2)"
   ]
  },
  {
   "cell_type": "code",
   "execution_count": 69,
   "metadata": {},
   "outputs": [],
   "source": [
    "len0 = len(serie0_tit)\n",
    "len1 = len(serie1_tit)\n",
    "len2 = len(serie2_tit)\n",
    "\n",
    "if len0 < len1 and len0 < len2:\n",
    "    serie1_tit = serie1_tit.to_frame()\n",
    "    serie1_tit = serie1_tit.iloc[0:len0,:]\n",
    "    serie2_tit = serie2_tit.to_frame()\n",
    "    serie2_tit = serie2_tit.iloc[0:len0,:]\n",
    "elif len1 < len2:\n",
    "    serie0_tit = serie0_tit.to_frame()\n",
    "    serie0_tit = serie0_tit.iloc[0:len1,:]\n",
    "    serie2_tit = serie2_tit.to_frame()\n",
    "    serie2_tit = serie2_tit.iloc[0:len0,:]\n",
    "else:\n",
    "    serie0_tit = serie0_tit.to_frame()\n",
    "    serie0_tit = serie0_tit.iloc[0:len2,:]\n",
    "    serie1_tit = serie1_tit.to_frame()\n",
    "    serie1_tit = serie1_tit.iloc[0:len0,:]\n",
    "\n",
    "serie0_tit = serie0_tit.squeeze()\n",
    "serie1_tit = serie1_tit.squeeze()\n",
    "serie2_tit = serie2_tit.squeeze()"
   ]
  },
  {
   "cell_type": "code",
   "execution_count": 70,
   "metadata": {},
   "outputs": [],
   "source": [
    "for palavra in lista_train0_tit_quero:\n",
    "    if palavra not in serie0_tit.index:\n",
    "        lista_train0_tit_quero.remove(palavra)\n",
    "\n",
    "for palavra in lista_train1_tit_quero:\n",
    "    if palavra not in serie1_tit.index:\n",
    "        lista_train1_tit_quero.remove(palavra)\n",
    "    \n",
    "for palavra in lista_train2_tit_quero:\n",
    "    if palavra not in serie2_tit.index:\n",
    "        lista_train2_tit_quero.remove(palavra)"
   ]
  },
  {
   "cell_type": "code",
   "execution_count": null,
   "metadata": {},
   "outputs": [],
   "source": []
  },
  {
   "cell_type": "markdown",
   "metadata": {},
   "source": [
    "# Analisando Probabilidades"
   ]
  },
  {
   "cell_type": "code",
   "execution_count": 71,
   "metadata": {},
   "outputs": [
    {
     "name": "stdout",
     "output_type": "stream",
     "text": [
      "Probabilidade NEGATIVAS/TOTAL: 0.21875\n",
      "Probabilidade POSITIVAS/TOTAL: 0.26667\n",
      "Probabilidade NEUTRAS/TOTAL: 0.51458\n"
     ]
    }
   ],
   "source": [
    "tam0=len(train0_tit)\n",
    "tam1=len(train1_tit)\n",
    "tam2=len(train2_tit)\n",
    "total= tam0 + tam1 + tam2\n",
    "\n",
    "prob0=tam0/total\n",
    "prob1=tam1/total\n",
    "prob2=tam2/total\n",
    "\n",
    "print(f'Probabilidade NEGATIVAS/TOTAL: {float(prob0):.5f}')\n",
    "print(f'Probabilidade POSITIVAS/TOTAL: {float(prob1):.5f}')\n",
    "print(f'Probabilidade NEUTRAS/TOTAL: {float(prob2):.5f}')"
   ]
  },
  {
   "cell_type": "markdown",
   "metadata": {},
   "source": [
    "# Analisando o Desempenho do Classificador"
   ]
  },
  {
   "cell_type": "code",
   "execution_count": 72,
   "metadata": {},
   "outputs": [],
   "source": [
    "test['Auto_Target']='Vazio'\n",
    "test_tit=test.loc[:,['Titulo','Target','Auto_Target']]"
   ]
  },
  {
   "cell_type": "code",
   "execution_count": 73,
   "metadata": {},
   "outputs": [
    {
     "data": {
      "text/plain": [
       "2    187\n",
       "1     80\n",
       "0     53\n",
       "Name: Target, dtype: int64"
      ]
     },
     "execution_count": 73,
     "metadata": {},
     "output_type": "execute_result"
    }
   ],
   "source": [
    "test_tit['Target'].value_counts()"
   ]
  },
  {
   "cell_type": "code",
   "execution_count": 74,
   "metadata": {},
   "outputs": [],
   "source": [
    "neutro = positivo = negativo = 0\n",
    "contagem_0 = len(lista_train0_tit_quero)\n",
    "contagem_1 = len(lista_train1_tit_quero)\n",
    "contagem_2 = len(lista_train2_tit_quero)\n",
    "\n",
    "lista_total = lista_train2_tit_quero + lista_train1_tit_quero + lista_train0_tit_quero\n",
    "conta_palavras = []\n",
    "for i in range(0, len(lista_total)):\n",
    "    palavra = lista_total[i]\n",
    "    if palavra not in conta_palavras:\n",
    "        conta_palavras.append(palavra)\n",
    "universo = len(conta_palavras)\n",
    "\n",
    "\n",
    "for i in range(0, len(test_tit)):\n",
    "\n",
    "    frases = ''\n",
    "    lista_splits = []\n",
    "    probFraseDado0 = 0\n",
    "    probFraseDado1 = 0\n",
    "    probFraseDado2 = 0\n",
    "\n",
    "    frases += test_tit.iloc[i,0]\n",
    "    lista_splits = frases.split()\n",
    "    '''conta_palavras_test = []\n",
    "    for w in range(0, len(lista_splits)):\n",
    "        palavra = lista_splits[w]\n",
    "        if palavra not in conta_palavras:\n",
    "            conta_palavras.append(palavra)\n",
    "    #universo += len(conta_palavras_test)'''\n",
    "\n",
    "    for w in range(0, len(lista_splits)):\n",
    "        palavra = lista_splits[w]\n",
    "        if palavra in serie0_tit.index.to_list():\n",
    "            if probFraseDado0 == 0:\n",
    "                probFraseDado0 = (serie0_tit[palavra]+1) / (contagem_0 + universo)\n",
    "            else:\n",
    "                probFraseDado0 *= (serie0_tit[palavra]+1) / (contagem_0 + universo)\n",
    "        else:\n",
    "            if probFraseDado0 == 0:\n",
    "                probFraseDado0 = 1 / (contagem_0 + universo)\n",
    "            else:\n",
    "                probFraseDado0 *= 1 / (contagem_0 + universo)\n",
    "        if palavra in serie1_tit.index.to_list():\n",
    "            if probFraseDado1 == 0:\n",
    "                probFraseDado1 = (serie1_tit[palavra]+1) / (contagem_1 + universo)\n",
    "            else:\n",
    "                probFraseDado1 *= (serie1_tit[palavra]+1) / (contagem_1 + universo)\n",
    "        else:\n",
    "            if probFraseDado1 == 0:\n",
    "                probFraseDado1 = 1 / (contagem_1 + universo)\n",
    "            else:\n",
    "                probFraseDado1 *= 1 / (contagem_1 + universo)\n",
    "        if palavra in serie2_tit.index.to_list():\n",
    "            if probFraseDado2 == 0:\n",
    "                probFraseDado2 *= (serie2_tit[palavra]+1) / (contagem_2 + universo)\n",
    "            else:\n",
    "                probFraseDado2 *= (serie2_tit[palavra]+1) / (contagem_2 + universo)\n",
    "        else:\n",
    "            if probFraseDado2 == 0:\n",
    "                probFraseDado2 = 1 / (contagem_2 + universo)\n",
    "            else:\n",
    "                probFraseDado2 *= 1 / (contagem_2 + universo)\n",
    "\n",
    "    prob0DadoFrase = probFraseDado0 * prob0\n",
    "    prob1DadoFrase = probFraseDado1 * prob1\n",
    "    prob2DadoFrase = probFraseDado2 * prob2\n",
    "\n",
    "    if float(prob0DadoFrase) > float(prob1DadoFrase) and float(prob0DadoFrase) > float(prob2DadoFrase):\n",
    "        negativo += 1\n",
    "        test_tit.iloc[i, 2] = 0\n",
    "\n",
    "    elif float(prob1DadoFrase) > float(prob2DadoFrase):\n",
    "        positivo += 1\n",
    "        test_tit.iloc[i, 2] = 1\n",
    "\n",
    "    else:\n",
    "        neutro += 1\n",
    "        test_tit.iloc[i, 2] = 2\n"
   ]
  },
  {
   "cell_type": "code",
   "execution_count": null,
   "metadata": {},
   "outputs": [],
   "source": []
  },
  {
   "cell_type": "code",
   "execution_count": 75,
   "metadata": {},
   "outputs": [
    {
     "name": "stdout",
     "output_type": "stream",
     "text": [
      "Bot NEGATIVO: 140\n",
      "Bot POSITIVO: 70\n",
      "Bot NEUTRO: 110\n"
     ]
    }
   ],
   "source": [
    "print(f'Bot NEGATIVO: {negativo}')\n",
    "print(f'Bot POSITIVO: {positivo}')\n",
    "print(f'Bot NEUTRO: {neutro}')"
   ]
  },
  {
   "cell_type": "code",
   "execution_count": 76,
   "metadata": {},
   "outputs": [
    {
     "name": "stdout",
     "output_type": "stream",
     "text": [
      "Bot FAKE NEGATIVO: 113\n",
      "Bot FAKE POSITIVO: 42\n",
      "Bot FAKE NEUTRO: 35\n"
     ]
    }
   ],
   "source": [
    "falso0 = 0\n",
    "falso1 = 0\n",
    "falso2 = 0\n",
    "\n",
    "for i in range(0, len(test_tit)):\n",
    "    if test_tit.iloc[i, 1] != test_tit.iloc[i, 2]:\n",
    "        if test_tit.iloc[i, 2] == 0:\n",
    "            falso0 += 1\n",
    "        elif test_tit.iloc[i, 2] == 1:\n",
    "            falso1 += 1\n",
    "        else:\n",
    "            falso2 += 1\n",
    "        \n",
    "print(f'Bot FAKE NEGATIVO: {falso0}')\n",
    "print(f'Bot FAKE POSITIVO: {falso1}')\n",
    "print(f'Bot FAKE NEUTRO: {falso2}')"
   ]
  },
  {
   "cell_type": "code",
   "execution_count": 77,
   "metadata": {},
   "outputs": [
    {
     "name": "stdout",
     "output_type": "stream",
     "text": [
      "0.40625\n"
     ]
    }
   ],
   "source": [
    "acuracia = 1- (falso0 + falso1 + falso2) / len(test)\n",
    "\n",
    "print(acuracia)"
   ]
  },
  {
   "cell_type": "code",
   "execution_count": 78,
   "metadata": {},
   "outputs": [
    {
     "data": {
      "text/html": [
       "<div>\n",
       "<style scoped>\n",
       "    .dataframe tbody tr th:only-of-type {\n",
       "        vertical-align: middle;\n",
       "    }\n",
       "\n",
       "    .dataframe tbody tr th {\n",
       "        vertical-align: top;\n",
       "    }\n",
       "\n",
       "    .dataframe thead th {\n",
       "        text-align: right;\n",
       "    }\n",
       "</style>\n",
       "<table border=\"1\" class=\"dataframe\">\n",
       "  <thead>\n",
       "    <tr style=\"text-align: right;\">\n",
       "      <th></th>\n",
       "      <th>Titulo</th>\n",
       "      <th>Target</th>\n",
       "      <th>Auto_Target</th>\n",
       "    </tr>\n",
       "  </thead>\n",
       "  <tbody>\n",
       "    <tr>\n",
       "      <th>0</th>\n",
       "      <td>bolsonaro critica tse e diz que medidas da cor...</td>\n",
       "      <td>0</td>\n",
       "      <td>0</td>\n",
       "    </tr>\n",
       "    <tr>\n",
       "      <th>1</th>\n",
       "      <td>esquerda se solidarizou com facada em 2018 ao ...</td>\n",
       "      <td>0</td>\n",
       "      <td>2</td>\n",
       "    </tr>\n",
       "    <tr>\n",
       "      <th>2</th>\n",
       "      <td>bolsonaro cometeu crime contra a humanidade na...</td>\n",
       "      <td>0</td>\n",
       "      <td>0</td>\n",
       "    </tr>\n",
       "    <tr>\n",
       "      <th>3</th>\n",
       "      <td>crítico de bolsonaro compra domínio e recria s...</td>\n",
       "      <td>0</td>\n",
       "      <td>0</td>\n",
       "    </tr>\n",
       "    <tr>\n",
       "      <th>4</th>\n",
       "      <td>bolsonaro cometeu crime contra a humanidade na...</td>\n",
       "      <td>0</td>\n",
       "      <td>0</td>\n",
       "    </tr>\n",
       "    <tr>\n",
       "      <th>5</th>\n",
       "      <td>pgr defende prorrogar investigação de bolsonar...</td>\n",
       "      <td>0</td>\n",
       "      <td>2</td>\n",
       "    </tr>\n",
       "    <tr>\n",
       "      <th>6</th>\n",
       "      <td>consultorias de orçamento discordam de veto à ...</td>\n",
       "      <td>0</td>\n",
       "      <td>0</td>\n",
       "    </tr>\n",
       "    <tr>\n",
       "      <th>7</th>\n",
       "      <td>entrevista de bolsonaro a jn tem panelaços em ...</td>\n",
       "      <td>0</td>\n",
       "      <td>2</td>\n",
       "    </tr>\n",
       "    <tr>\n",
       "      <th>8</th>\n",
       "      <td>lula tem 47 contra 32 de bolsonaro diz datafolha</td>\n",
       "      <td>2</td>\n",
       "      <td>2</td>\n",
       "    </tr>\n",
       "    <tr>\n",
       "      <th>9</th>\n",
       "      <td>bolsonaro passou ao centrão área com licitação...</td>\n",
       "      <td>0</td>\n",
       "      <td>0</td>\n",
       "    </tr>\n",
       "  </tbody>\n",
       "</table>\n",
       "</div>"
      ],
      "text/plain": [
       "                                              Titulo  Target Auto_Target\n",
       "0  bolsonaro critica tse e diz que medidas da cor...       0           0\n",
       "1  esquerda se solidarizou com facada em 2018 ao ...       0           2\n",
       "2  bolsonaro cometeu crime contra a humanidade na...       0           0\n",
       "3  crítico de bolsonaro compra domínio e recria s...       0           0\n",
       "4  bolsonaro cometeu crime contra a humanidade na...       0           0\n",
       "5  pgr defende prorrogar investigação de bolsonar...       0           2\n",
       "6  consultorias de orçamento discordam de veto à ...       0           0\n",
       "7  entrevista de bolsonaro a jn tem panelaços em ...       0           2\n",
       "8   lula tem 47 contra 32 de bolsonaro diz datafolha       2           2\n",
       "9  bolsonaro passou ao centrão área com licitação...       0           0"
      ]
     },
     "execution_count": 78,
     "metadata": {},
     "output_type": "execute_result"
    }
   ],
   "source": [
    "test_tit.head(10)"
   ]
  },
  {
   "cell_type": "code",
   "execution_count": null,
   "metadata": {},
   "outputs": [],
   "source": []
  },
  {
   "cell_type": "markdown",
   "metadata": {},
   "source": [
    "___\n",
    "### Concluindo"
   ]
  },
  {
   "cell_type": "code",
   "execution_count": null,
   "metadata": {},
   "outputs": [],
   "source": []
  },
  {
   "cell_type": "code",
   "execution_count": null,
   "metadata": {},
   "outputs": [],
   "source": []
  },
  {
   "cell_type": "code",
   "execution_count": null,
   "metadata": {},
   "outputs": [],
   "source": []
  },
  {
   "cell_type": "markdown",
   "metadata": {},
   "source": [
    "___\n",
    "### Qualidade do Classificador a partir de novas separações das notícias entre Treinamento e Teste\n",
    "\n",
    "Caso for fazer esse item do Projeto"
   ]
  },
  {
   "cell_type": "code",
   "execution_count": null,
   "metadata": {},
   "outputs": [],
   "source": []
  },
  {
   "cell_type": "code",
   "execution_count": null,
   "metadata": {},
   "outputs": [],
   "source": []
  },
  {
   "cell_type": "code",
   "execution_count": null,
   "metadata": {},
   "outputs": [],
   "source": []
  },
  {
   "cell_type": "markdown",
   "metadata": {},
   "source": [
    "___\n",
    "## Aperfeiçoamento:\n",
    "\n",
    "Trabalhos que conseguirem pelo menos conceito B vão evoluir em conceito dependendo da quantidade de itens avançados:\n",
    "\n",
    "* IMPLEMENTOU outras limpezas e transformações que não afetem a qualidade da informação contida nas notícias. Ex: stemming, lemmatization, stopwords\n",
    "* CONSIDEROU mais de duas caterogias na variável Target e INCREMENTOU a quantidade de notícias, mantendo pelo menos 250 notícias por caterogia (OBRIGATÓRIO PARA TRIOS, sem contar como item avançado)\n",
    "* Para Target com duas categorias: CRIOU pelo menos quatro categorias intermediárias de relevância baseadas na probabilidade: ex.: muito relevante, relevante, neutro, irrelevante, muito irrelevante\n",
    "* EXPLICOU porquê não pode usar o próprio classificador para gerar mais amostras de treinamento\n",
    "* PROPÔS diferentes cenários para Naïve Bayes fora do contexto do projeto (pelo menos dois cenários, exceto aqueles já apresentados em sala pelos professores: por exemplo, filtro de spam)\n",
    "* SUGERIU e EXPLICOU melhorias reais com indicações concretas de como implementar (indicar como fazer e indicar material de pesquisa)\n",
    "* FEZ o item Qualidade do Classificador a partir de novas separações das Notícias entre Treinamento e Teste descrito no enunciado do projeto (OBRIGATÓRIO para conceitos A ou A+)"
   ]
  },
  {
   "cell_type": "markdown",
   "metadata": {},
   "source": [
    "___\n",
    "## Referências"
   ]
  },
  {
   "cell_type": "markdown",
   "metadata": {},
   "source": [
    "[Naive Bayes and Text Classification](https://arxiv.org/pdf/1410.5329.pdf)  **Mais completo**\n",
    "\n",
    "[A practical explanation of a Naive Bayes Classifier](https://monkeylearn.com/blog/practical-explanation-naive-bayes-classifier/) **Mais simples**"
   ]
  }
 ],
 "metadata": {
  "kernelspec": {
   "display_name": "Python 3.9.7 ('base')",
   "language": "python",
   "name": "python3"
  },
  "language_info": {
   "codemirror_mode": {
    "name": "ipython",
    "version": 3
   },
   "file_extension": ".py",
   "mimetype": "text/x-python",
   "name": "python",
   "nbconvert_exporter": "python",
   "pygments_lexer": "ipython3",
   "version": "3.9.7"
  },
  "orig_nbformat": 4,
  "vscode": {
   "interpreter": {
    "hash": "bd2d49180acf4888e6c19e4e0f59a062d636affdef1eef64c56316519b0294c5"
   }
  }
 },
 "nbformat": 4,
 "nbformat_minor": 2
}
