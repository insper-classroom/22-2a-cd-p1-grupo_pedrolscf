{
 "cells": [
  {
   "cell_type": "markdown",
   "metadata": {},
   "source": [
    "# Projeto 1 - Ciência dos Dados"
   ]
  },
  {
   "cell_type": "markdown",
   "metadata": {},
   "source": [
    "Nome: Pedro De Lucca Sartori Chagas Ferro\n",
    "\n",
    "Nome: Pedro Antônio Braga Dutra"
   ]
  },
  {
   "cell_type": "markdown",
   "metadata": {},
   "source": [
    "___\n",
    "Carregando algumas bibliotecas:"
   ]
  },
  {
   "cell_type": "code",
   "execution_count": 2,
   "metadata": {},
   "outputs": [],
   "source": [
    "%matplotlib inline\n",
    "import pandas as pd\n",
    "import matplotlib.pyplot as plt\n",
    "import numpy as np\n",
    "import os"
   ]
  },
  {
   "cell_type": "code",
   "execution_count": 452,
   "metadata": {
    "scrolled": false
   },
   "outputs": [
    {
     "name": "stdout",
     "output_type": "stream",
     "text": [
      "Esperamos trabalhar no diretório\n",
      "c:\\Users\\Pedro De Lucca\\Documents\\Insper\\2° Semestre\\CDados\\22-2a-cd-p1-grupo_pedrolscf\\notebooks\n"
     ]
    }
   ],
   "source": [
    "print('Esperamos trabalhar no diretório')\n",
    "print(os.getcwd())"
   ]
  },
  {
   "cell_type": "markdown",
   "metadata": {},
   "source": [
    "Carregando a base de dados com as notícias classificadas manualmente:"
   ]
  },
  {
   "cell_type": "code",
   "execution_count": 453,
   "metadata": {},
   "outputs": [],
   "source": [
    "filename = 'dados.xlsx'"
   ]
  },
  {
   "cell_type": "code",
   "execution_count": 454,
   "metadata": {},
   "outputs": [
    {
     "data": {
      "text/html": [
       "<div>\n",
       "<style scoped>\n",
       "    .dataframe tbody tr th:only-of-type {\n",
       "        vertical-align: middle;\n",
       "    }\n",
       "\n",
       "    .dataframe tbody tr th {\n",
       "        vertical-align: top;\n",
       "    }\n",
       "\n",
       "    .dataframe thead th {\n",
       "        text-align: right;\n",
       "    }\n",
       "</style>\n",
       "<table border=\"1\" class=\"dataframe\">\n",
       "  <thead>\n",
       "    <tr style=\"text-align: right;\">\n",
       "      <th></th>\n",
       "      <th>Categoria</th>\n",
       "      <th>Titulo</th>\n",
       "      <th>Descrição</th>\n",
       "      <th>Data</th>\n",
       "      <th>Pagina</th>\n",
       "      <th>Target</th>\n",
       "      <th>P_Chave</th>\n",
       "    </tr>\n",
       "  </thead>\n",
       "  <tbody>\n",
       "    <tr>\n",
       "      <th>0</th>\n",
       "      <td>bolsonaro</td>\n",
       "      <td>Após repercussão, site com críticas ao preside...</td>\n",
       "      <td>Após a repercussão, o domínio ‘bolsonaro.com.b...</td>\n",
       "      <td>01/09/2022 15:50</td>\n",
       "      <td>1</td>\n",
       "      <td>0</td>\n",
       "      <td>crítica e acusações sobre a família bolsonaro</td>\n",
       "    </tr>\n",
       "    <tr>\n",
       "      <th>1</th>\n",
       "      <td>bolsonaro</td>\n",
       "      <td>Bolsonaro chama de narrativa críticas de compo...</td>\n",
       "      <td>O presidente Jair Bolsonaro (PL) atribuiu a um...</td>\n",
       "      <td>01/09/2022 20:56</td>\n",
       "      <td>1</td>\n",
       "      <td>0</td>\n",
       "      <td>ataques à jornalista</td>\n",
       "    </tr>\n",
       "    <tr>\n",
       "      <th>2</th>\n",
       "      <td>bolsonaro</td>\n",
       "      <td>Lula cai dois pontos, Bolsonaro fica estável, ...</td>\n",
       "      <td>Uma nova pesquisa Datafolha presidencial foi d...</td>\n",
       "      <td>01/09/2022 21:42</td>\n",
       "      <td>1</td>\n",
       "      <td>0</td>\n",
       "      <td>NaN</td>\n",
       "    </tr>\n",
       "    <tr>\n",
       "      <th>3</th>\n",
       "      <td>bolsonaro</td>\n",
       "      <td>Datafolha: Entre mulheres, Lula tem 48%, Bolso...</td>\n",
       "      <td>A pesquisa do Instituto Datafolha divulgada ne...</td>\n",
       "      <td>01/09/2022 22:01</td>\n",
       "      <td>1</td>\n",
       "      <td>0</td>\n",
       "      <td>protagonizou agressão verbal à jornalista vera</td>\n",
       "    </tr>\n",
       "    <tr>\n",
       "      <th>4</th>\n",
       "      <td>bolsonaro</td>\n",
       "      <td>Lula diz que orçamento de Bolsonaro não prevê ...</td>\n",
       "      <td>O ex-presidente e candidato Luiz Inácio Lula d...</td>\n",
       "      <td>01/09/2022 22:24</td>\n",
       "      <td>1</td>\n",
       "      <td>0</td>\n",
       "      <td>não inclui reajuste do salário mínimo</td>\n",
       "    </tr>\n",
       "  </tbody>\n",
       "</table>\n",
       "</div>"
      ],
      "text/plain": [
       "   Categoria                                             Titulo  \\\n",
       "0  bolsonaro  Após repercussão, site com críticas ao preside...   \n",
       "1  bolsonaro  Bolsonaro chama de narrativa críticas de compo...   \n",
       "2  bolsonaro  Lula cai dois pontos, Bolsonaro fica estável, ...   \n",
       "3  bolsonaro  Datafolha: Entre mulheres, Lula tem 48%, Bolso...   \n",
       "4  bolsonaro  Lula diz que orçamento de Bolsonaro não prevê ...   \n",
       "\n",
       "                                           Descrição              Data  \\\n",
       "0  Após a repercussão, o domínio ‘bolsonaro.com.b...  01/09/2022 15:50   \n",
       "1  O presidente Jair Bolsonaro (PL) atribuiu a um...  01/09/2022 20:56   \n",
       "2  Uma nova pesquisa Datafolha presidencial foi d...  01/09/2022 21:42   \n",
       "3  A pesquisa do Instituto Datafolha divulgada ne...  01/09/2022 22:01   \n",
       "4  O ex-presidente e candidato Luiz Inácio Lula d...  01/09/2022 22:24   \n",
       "\n",
       "   Pagina  Target                                         P_Chave  \n",
       "0       1       0   crítica e acusações sobre a família bolsonaro  \n",
       "1       1       0                            ataques à jornalista  \n",
       "2       1       0                                             NaN  \n",
       "3       1       0  protagonizou agressão verbal à jornalista vera  \n",
       "4       1       0           não inclui reajuste do salário mínimo  "
      ]
     },
     "execution_count": 454,
     "metadata": {},
     "output_type": "execute_result"
    }
   ],
   "source": [
    "train = pd.read_excel(filename, sheet_name = 'Treinamento')\n",
    "train.head(5)"
   ]
  },
  {
   "cell_type": "code",
   "execution_count": 455,
   "metadata": {},
   "outputs": [
    {
     "data": {
      "text/html": [
       "<div>\n",
       "<style scoped>\n",
       "    .dataframe tbody tr th:only-of-type {\n",
       "        vertical-align: middle;\n",
       "    }\n",
       "\n",
       "    .dataframe tbody tr th {\n",
       "        vertical-align: top;\n",
       "    }\n",
       "\n",
       "    .dataframe thead th {\n",
       "        text-align: right;\n",
       "    }\n",
       "</style>\n",
       "<table border=\"1\" class=\"dataframe\">\n",
       "  <thead>\n",
       "    <tr style=\"text-align: right;\">\n",
       "      <th></th>\n",
       "      <th>Categoria</th>\n",
       "      <th>Titulo</th>\n",
       "      <th>Descrição</th>\n",
       "      <th>Data</th>\n",
       "      <th>Pagina</th>\n",
       "      <th>Target</th>\n",
       "      <th>P_Chave</th>\n",
       "    </tr>\n",
       "  </thead>\n",
       "  <tbody>\n",
       "    <tr>\n",
       "      <th>0</th>\n",
       "      <td>bolsonaro</td>\n",
       "      <td>Bolsonaro critica TSE e diz que medidas da Cor...</td>\n",
       "      <td>O presidente Jair Bolsonaro (PL) fez críticas ...</td>\n",
       "      <td>02/09/2022 15:30</td>\n",
       "      <td>1</td>\n",
       "      <td>0</td>\n",
       "      <td>críticas TSE</td>\n",
       "    </tr>\n",
       "    <tr>\n",
       "      <th>1</th>\n",
       "      <td>bolsonaro</td>\n",
       "      <td>Esquerda se solidarizou com facada em 2018, ao...</td>\n",
       "      <td>Diferentemente do que disse o presidente Jair ...</td>\n",
       "      <td>02/09/2022 17:48</td>\n",
       "      <td>1</td>\n",
       "      <td>0</td>\n",
       "      <td>contrário diferentemente Bolsonaro</td>\n",
       "    </tr>\n",
       "    <tr>\n",
       "      <th>2</th>\n",
       "      <td>bolsonaro</td>\n",
       "      <td>Bolsonaro cometeu crime contra a humanidade na...</td>\n",
       "      <td>O júri simbólico do Tribunal Permanente dos Po...</td>\n",
       "      <td>01/09/2022 14:08</td>\n",
       "      <td>2</td>\n",
       "      <td>0</td>\n",
       "      <td>condenou crime sentença Bolsonaro</td>\n",
       "    </tr>\n",
       "    <tr>\n",
       "      <th>3</th>\n",
       "      <td>bolsonaro</td>\n",
       "      <td>Crítico de Bolsonaro compra domínio e ‘recria’...</td>\n",
       "      <td>Um site que antes era usado para exibir feitos...</td>\n",
       "      <td>31/08/2022 12:21</td>\n",
       "      <td>2</td>\n",
       "      <td>0</td>\n",
       "      <td>críticas Bolsonaro presidente ameaça Brasil</td>\n",
       "    </tr>\n",
       "    <tr>\n",
       "      <th>4</th>\n",
       "      <td>bolsonaro</td>\n",
       "      <td>Bolsonaro cometeu crime contra a humanidade na...</td>\n",
       "      <td>O júri simbólico do Tribunal Permanente dos Po...</td>\n",
       "      <td>01/09/2022 14:08</td>\n",
       "      <td>2</td>\n",
       "      <td>0</td>\n",
       "      <td>condenou crime sentença Bolsonaro</td>\n",
       "    </tr>\n",
       "  </tbody>\n",
       "</table>\n",
       "</div>"
      ],
      "text/plain": [
       "   Categoria                                             Titulo  \\\n",
       "0  bolsonaro  Bolsonaro critica TSE e diz que medidas da Cor...   \n",
       "1  bolsonaro  Esquerda se solidarizou com facada em 2018, ao...   \n",
       "2  bolsonaro  Bolsonaro cometeu crime contra a humanidade na...   \n",
       "3  bolsonaro  Crítico de Bolsonaro compra domínio e ‘recria’...   \n",
       "4  bolsonaro  Bolsonaro cometeu crime contra a humanidade na...   \n",
       "\n",
       "                                           Descrição              Data  \\\n",
       "0  O presidente Jair Bolsonaro (PL) fez críticas ...  02/09/2022 15:30   \n",
       "1  Diferentemente do que disse o presidente Jair ...  02/09/2022 17:48   \n",
       "2  O júri simbólico do Tribunal Permanente dos Po...  01/09/2022 14:08   \n",
       "3  Um site que antes era usado para exibir feitos...  31/08/2022 12:21   \n",
       "4  O júri simbólico do Tribunal Permanente dos Po...  01/09/2022 14:08   \n",
       "\n",
       "   Pagina  Target                                      P_Chave  \n",
       "0       1       0                                 críticas TSE  \n",
       "1       1       0           contrário diferentemente Bolsonaro  \n",
       "2       2       0            condenou crime sentença Bolsonaro  \n",
       "3       2       0  críticas Bolsonaro presidente ameaça Brasil  \n",
       "4       2       0            condenou crime sentença Bolsonaro  "
      ]
     },
     "execution_count": 455,
     "metadata": {},
     "output_type": "execute_result"
    }
   ],
   "source": [
    "test = pd.read_excel(filename, sheet_name = 'Teste')\n",
    "test.head(5)"
   ]
  },
  {
   "cell_type": "markdown",
   "metadata": {},
   "source": [
    "___\n",
    "## Classificador automático\n"
   ]
  },
  {
   "cell_type": "markdown",
   "metadata": {},
   "source": [
    "___\n",
    "### Montando um Classificador Naive-Bayes\n",
    "\n",
    "Considerando apenas as mensagens da planilha Treinamento, ensine  seu classificador."
   ]
  },
  {
   "cell_type": "code",
   "execution_count": 456,
   "metadata": {},
   "outputs": [],
   "source": [
    "import re \n",
    "\n",
    "\n",
    "def limpador(text):\n",
    "    \"\"\"\n",
    "        Função de limpeza muito simples que troca alguns sinais básicos por espaços\n",
    "    \"\"\"\n",
    "    #import string\n",
    "    punctuation = '[!-.:?;%()‘’“”]' # Note que os sinais [] são delimitadores de um conjunto.\n",
    "    pattern = re.compile(punctuation)\n",
    "    text_subbed = re.sub(pattern, '', text)\n",
    "    text_subbed = text_subbed.lower()\n",
    "    return text_subbed"
   ]
  },
  {
   "cell_type": "code",
   "execution_count": 457,
   "metadata": {},
   "outputs": [
    {
     "data": {
      "text/html": [
       "<div>\n",
       "<style scoped>\n",
       "    .dataframe tbody tr th:only-of-type {\n",
       "        vertical-align: middle;\n",
       "    }\n",
       "\n",
       "    .dataframe tbody tr th {\n",
       "        vertical-align: top;\n",
       "    }\n",
       "\n",
       "    .dataframe thead th {\n",
       "        text-align: right;\n",
       "    }\n",
       "</style>\n",
       "<table border=\"1\" class=\"dataframe\">\n",
       "  <thead>\n",
       "    <tr style=\"text-align: right;\">\n",
       "      <th></th>\n",
       "      <th>Categoria</th>\n",
       "      <th>Titulo</th>\n",
       "      <th>Descrição</th>\n",
       "      <th>Data</th>\n",
       "      <th>Pagina</th>\n",
       "      <th>Target</th>\n",
       "      <th>P_Chave</th>\n",
       "    </tr>\n",
       "  </thead>\n",
       "  <tbody>\n",
       "    <tr>\n",
       "      <th>0</th>\n",
       "      <td>bolsonaro</td>\n",
       "      <td>após repercussão site com críticas ao presiden...</td>\n",
       "      <td>após a repercussão o domínio bolsonarocombr co...</td>\n",
       "      <td>01/09/2022 15:50</td>\n",
       "      <td>1</td>\n",
       "      <td>0</td>\n",
       "      <td>crítica e acusações sobre a família bolsonaro</td>\n",
       "    </tr>\n",
       "    <tr>\n",
       "      <th>1</th>\n",
       "      <td>bolsonaro</td>\n",
       "      <td>bolsonaro chama de narrativa críticas de compo...</td>\n",
       "      <td>o presidente jair bolsonaro pl atribuiu a uma ...</td>\n",
       "      <td>01/09/2022 20:56</td>\n",
       "      <td>1</td>\n",
       "      <td>0</td>\n",
       "      <td>ataques à jornalista</td>\n",
       "    </tr>\n",
       "    <tr>\n",
       "      <th>2</th>\n",
       "      <td>bolsonaro</td>\n",
       "      <td>lula cai dois pontos bolsonaro fica estável di...</td>\n",
       "      <td>uma nova pesquisa datafolha presidencial foi d...</td>\n",
       "      <td>01/09/2022 21:42</td>\n",
       "      <td>1</td>\n",
       "      <td>0</td>\n",
       "      <td>nan</td>\n",
       "    </tr>\n",
       "    <tr>\n",
       "      <th>3</th>\n",
       "      <td>bolsonaro</td>\n",
       "      <td>datafolha entre mulheres lula tem 48 bolsonaro 29</td>\n",
       "      <td>a pesquisa do instituto datafolha divulgada ne...</td>\n",
       "      <td>01/09/2022 22:01</td>\n",
       "      <td>1</td>\n",
       "      <td>0</td>\n",
       "      <td>protagonizou agressão verbal à jornalista vera</td>\n",
       "    </tr>\n",
       "    <tr>\n",
       "      <th>4</th>\n",
       "      <td>bolsonaro</td>\n",
       "      <td>lula diz que orçamento de bolsonaro não prevê ...</td>\n",
       "      <td>o expresidente e candidato luiz inácio lula da...</td>\n",
       "      <td>01/09/2022 22:24</td>\n",
       "      <td>1</td>\n",
       "      <td>0</td>\n",
       "      <td>não inclui reajuste do salário mínimo</td>\n",
       "    </tr>\n",
       "  </tbody>\n",
       "</table>\n",
       "</div>"
      ],
      "text/plain": [
       "   Categoria                                             Titulo  \\\n",
       "0  bolsonaro  após repercussão site com críticas ao presiden...   \n",
       "1  bolsonaro  bolsonaro chama de narrativa críticas de compo...   \n",
       "2  bolsonaro  lula cai dois pontos bolsonaro fica estável di...   \n",
       "3  bolsonaro  datafolha entre mulheres lula tem 48 bolsonaro 29   \n",
       "4  bolsonaro  lula diz que orçamento de bolsonaro não prevê ...   \n",
       "\n",
       "                                           Descrição              Data  \\\n",
       "0  após a repercussão o domínio bolsonarocombr co...  01/09/2022 15:50   \n",
       "1  o presidente jair bolsonaro pl atribuiu a uma ...  01/09/2022 20:56   \n",
       "2  uma nova pesquisa datafolha presidencial foi d...  01/09/2022 21:42   \n",
       "3  a pesquisa do instituto datafolha divulgada ne...  01/09/2022 22:01   \n",
       "4  o expresidente e candidato luiz inácio lula da...  01/09/2022 22:24   \n",
       "\n",
       "   Pagina  Target                                         P_Chave  \n",
       "0       1       0   crítica e acusações sobre a família bolsonaro  \n",
       "1       1       0                            ataques à jornalista  \n",
       "2       1       0                                             nan  \n",
       "3       1       0  protagonizou agressão verbal à jornalista vera  \n",
       "4       1       0           não inclui reajuste do salário mínimo  "
      ]
     },
     "execution_count": 457,
     "metadata": {},
     "output_type": "execute_result"
    }
   ],
   "source": [
    "train['P_Chave']=train['P_Chave'].astype(str)\n",
    "train['Titulo']=train['Titulo'].astype(str)\n",
    "train['Descrição']=train['Descrição'].astype(str)\n",
    "\n",
    "train['Descrição']=train['Descrição'].apply(limpador)\n",
    "train['Titulo']=train['Titulo'].apply(limpador)\n",
    "train['P_Chave']=train['P_Chave'].apply(limpador)\n",
    "\n",
    "train.head()\n"
   ]
  },
  {
   "cell_type": "code",
   "execution_count": 458,
   "metadata": {},
   "outputs": [
    {
     "data": {
      "text/html": [
       "<div>\n",
       "<style scoped>\n",
       "    .dataframe tbody tr th:only-of-type {\n",
       "        vertical-align: middle;\n",
       "    }\n",
       "\n",
       "    .dataframe tbody tr th {\n",
       "        vertical-align: top;\n",
       "    }\n",
       "\n",
       "    .dataframe thead th {\n",
       "        text-align: right;\n",
       "    }\n",
       "</style>\n",
       "<table border=\"1\" class=\"dataframe\">\n",
       "  <thead>\n",
       "    <tr style=\"text-align: right;\">\n",
       "      <th></th>\n",
       "      <th>Titulo</th>\n",
       "      <th>Descrição</th>\n",
       "      <th>P_Chave</th>\n",
       "    </tr>\n",
       "  </thead>\n",
       "  <tbody>\n",
       "    <tr>\n",
       "      <th>0</th>\n",
       "      <td>após repercussão site com críticas ao presiden...</td>\n",
       "      <td>após a repercussão o domínio bolsonarocombr co...</td>\n",
       "      <td>crítica e acusações sobre a família bolsonaro</td>\n",
       "    </tr>\n",
       "    <tr>\n",
       "      <th>1</th>\n",
       "      <td>bolsonaro chama de narrativa críticas de compo...</td>\n",
       "      <td>o presidente jair bolsonaro pl atribuiu a uma ...</td>\n",
       "      <td>ataques à jornalista</td>\n",
       "    </tr>\n",
       "    <tr>\n",
       "      <th>2</th>\n",
       "      <td>lula cai dois pontos bolsonaro fica estável di...</td>\n",
       "      <td>uma nova pesquisa datafolha presidencial foi d...</td>\n",
       "      <td>nan</td>\n",
       "    </tr>\n",
       "    <tr>\n",
       "      <th>3</th>\n",
       "      <td>datafolha entre mulheres lula tem 48 bolsonaro 29</td>\n",
       "      <td>a pesquisa do instituto datafolha divulgada ne...</td>\n",
       "      <td>protagonizou agressão verbal à jornalista vera</td>\n",
       "    </tr>\n",
       "    <tr>\n",
       "      <th>4</th>\n",
       "      <td>lula diz que orçamento de bolsonaro não prevê ...</td>\n",
       "      <td>o expresidente e candidato luiz inácio lula da...</td>\n",
       "      <td>não inclui reajuste do salário mínimo</td>\n",
       "    </tr>\n",
       "  </tbody>\n",
       "</table>\n",
       "</div>"
      ],
      "text/plain": [
       "                                              Titulo  \\\n",
       "0  após repercussão site com críticas ao presiden...   \n",
       "1  bolsonaro chama de narrativa críticas de compo...   \n",
       "2  lula cai dois pontos bolsonaro fica estável di...   \n",
       "3  datafolha entre mulheres lula tem 48 bolsonaro 29   \n",
       "4  lula diz que orçamento de bolsonaro não prevê ...   \n",
       "\n",
       "                                           Descrição  \\\n",
       "0  após a repercussão o domínio bolsonarocombr co...   \n",
       "1  o presidente jair bolsonaro pl atribuiu a uma ...   \n",
       "2  uma nova pesquisa datafolha presidencial foi d...   \n",
       "3  a pesquisa do instituto datafolha divulgada ne...   \n",
       "4  o expresidente e candidato luiz inácio lula da...   \n",
       "\n",
       "                                          P_Chave  \n",
       "0   crítica e acusações sobre a família bolsonaro  \n",
       "1                            ataques à jornalista  \n",
       "2                                             nan  \n",
       "3  protagonizou agressão verbal à jornalista vera  \n",
       "4           não inclui reajuste do salário mínimo  "
      ]
     },
     "execution_count": 458,
     "metadata": {},
     "output_type": "execute_result"
    }
   ],
   "source": [
    "train_0 = train.loc[train['Target'] == 0 , ['Titulo','Descrição','P_Chave']]\n",
    "train_0.head()\n"
   ]
  },
  {
   "cell_type": "code",
   "execution_count": 459,
   "metadata": {},
   "outputs": [
    {
     "data": {
      "text/html": [
       "<div>\n",
       "<style scoped>\n",
       "    .dataframe tbody tr th:only-of-type {\n",
       "        vertical-align: middle;\n",
       "    }\n",
       "\n",
       "    .dataframe tbody tr th {\n",
       "        vertical-align: top;\n",
       "    }\n",
       "\n",
       "    .dataframe thead th {\n",
       "        text-align: right;\n",
       "    }\n",
       "</style>\n",
       "<table border=\"1\" class=\"dataframe\">\n",
       "  <thead>\n",
       "    <tr style=\"text-align: right;\">\n",
       "      <th></th>\n",
       "      <th>Titulo</th>\n",
       "      <th>Descrição</th>\n",
       "      <th>P_Chave</th>\n",
       "    </tr>\n",
       "  </thead>\n",
       "  <tbody>\n",
       "    <tr>\n",
       "      <th>109</th>\n",
       "      <td>bolsonaro diz que projeto da carteira verde e ...</td>\n",
       "      <td>o presidente e candidato à reeleição jair bols...</td>\n",
       "      <td>redução de encargos trabalhistas</td>\n",
       "    </tr>\n",
       "    <tr>\n",
       "      <th>110</th>\n",
       "      <td>entenda por que será difícil manter o ritmo de...</td>\n",
       "      <td>a notícia de aumento de 12 no produto interno ...</td>\n",
       "      <td>aumento pib</td>\n",
       "    </tr>\n",
       "    <tr>\n",
       "      <th>111</th>\n",
       "      <td>bolsonaro comemora queda no preço da gasolina ...</td>\n",
       "      <td>após ter dito na quartafeira que haveria uma b...</td>\n",
       "      <td>redução no preço da gasolina</td>\n",
       "    </tr>\n",
       "    <tr>\n",
       "      <th>112</th>\n",
       "      <td>ministro da justiça manda pf investigar site a...</td>\n",
       "      <td>o ministério da justiça pediu uma investigação...</td>\n",
       "      <td>crime contra a honra do presidente</td>\n",
       "    </tr>\n",
       "    <tr>\n",
       "      <th>113</th>\n",
       "      <td>abin faz seu trabalho diz bolsonaro após pf ap...</td>\n",
       "      <td>o presidente jair bolsonaro pl negou nesta ter...</td>\n",
       "      <td>o presidente negou</td>\n",
       "    </tr>\n",
       "  </tbody>\n",
       "</table>\n",
       "</div>"
      ],
      "text/plain": [
       "                                                Titulo  \\\n",
       "109  bolsonaro diz que projeto da carteira verde e ...   \n",
       "110  entenda por que será difícil manter o ritmo de...   \n",
       "111  bolsonaro comemora queda no preço da gasolina ...   \n",
       "112  ministro da justiça manda pf investigar site a...   \n",
       "113  abin faz seu trabalho diz bolsonaro após pf ap...   \n",
       "\n",
       "                                             Descrição  \\\n",
       "109  o presidente e candidato à reeleição jair bols...   \n",
       "110  a notícia de aumento de 12 no produto interno ...   \n",
       "111  após ter dito na quartafeira que haveria uma b...   \n",
       "112  o ministério da justiça pediu uma investigação...   \n",
       "113  o presidente jair bolsonaro pl negou nesta ter...   \n",
       "\n",
       "                                P_Chave  \n",
       "109    redução de encargos trabalhistas  \n",
       "110                        aumento pib   \n",
       "111        redução no preço da gasolina  \n",
       "112  crime contra a honra do presidente  \n",
       "113                  o presidente negou  "
      ]
     },
     "execution_count": 459,
     "metadata": {},
     "output_type": "execute_result"
    }
   ],
   "source": [
    "train_1 = train.loc[train['Target'] == 1 , ['Titulo', 'Descrição', 'P_Chave']]\n",
    "\n",
    "train_1.head(5)"
   ]
  },
  {
   "cell_type": "code",
   "execution_count": 460,
   "metadata": {},
   "outputs": [
    {
     "data": {
      "text/html": [
       "<div>\n",
       "<style scoped>\n",
       "    .dataframe tbody tr th:only-of-type {\n",
       "        vertical-align: middle;\n",
       "    }\n",
       "\n",
       "    .dataframe tbody tr th {\n",
       "        vertical-align: top;\n",
       "    }\n",
       "\n",
       "    .dataframe thead th {\n",
       "        text-align: right;\n",
       "    }\n",
       "</style>\n",
       "<table border=\"1\" class=\"dataframe\">\n",
       "  <thead>\n",
       "    <tr style=\"text-align: right;\">\n",
       "      <th></th>\n",
       "      <th>Titulo</th>\n",
       "      <th>Descrição</th>\n",
       "      <th>P_Chave</th>\n",
       "    </tr>\n",
       "  </thead>\n",
       "  <tbody>\n",
       "    <tr>\n",
       "      <th>5</th>\n",
       "      <td>datafolha 52 dizem não votar em bolsonaro de j...</td>\n",
       "      <td>nova rodada da pesquisa datafolha divulgada ne...</td>\n",
       "      <td>lidera a rejeição entre os eleitores</td>\n",
       "    </tr>\n",
       "    <tr>\n",
       "      <th>14</th>\n",
       "      <td>lula tem 44 e bolsonaro 32 na pesquisa ipec</td>\n",
       "      <td>o expresidente luiz inácio lula da silva pt se...</td>\n",
       "      <td>expresidente luiz inácio lula da silva pt segu...</td>\n",
       "    </tr>\n",
       "    <tr>\n",
       "      <th>15</th>\n",
       "      <td>média estadão dados aponta lula com 51 dos vot...</td>\n",
       "      <td>o agregador de pesquisas eleitorais do estadão...</td>\n",
       "      <td>luiz inácio lula da silva tem 45 das intenções...</td>\n",
       "    </tr>\n",
       "    <tr>\n",
       "      <th>20</th>\n",
       "      <td>média estadão dados mostra lula com 51 dos vot...</td>\n",
       "      <td>o agregador de pesquisas eleitorais do estadão...</td>\n",
       "      <td>luiz inácio lula da silva tem 45 das intenções...</td>\n",
       "    </tr>\n",
       "    <tr>\n",
       "      <th>237</th>\n",
       "      <td>cármen nega pedido para remover vídeos em que ...</td>\n",
       "      <td>a ministra cármen lúcia do tribunal superior e...</td>\n",
       "      <td>nan</td>\n",
       "    </tr>\n",
       "  </tbody>\n",
       "</table>\n",
       "</div>"
      ],
      "text/plain": [
       "                                                Titulo  \\\n",
       "5    datafolha 52 dizem não votar em bolsonaro de j...   \n",
       "14         lula tem 44 e bolsonaro 32 na pesquisa ipec   \n",
       "15   média estadão dados aponta lula com 51 dos vot...   \n",
       "20   média estadão dados mostra lula com 51 dos vot...   \n",
       "237  cármen nega pedido para remover vídeos em que ...   \n",
       "\n",
       "                                             Descrição  \\\n",
       "5    nova rodada da pesquisa datafolha divulgada ne...   \n",
       "14   o expresidente luiz inácio lula da silva pt se...   \n",
       "15   o agregador de pesquisas eleitorais do estadão...   \n",
       "20   o agregador de pesquisas eleitorais do estadão...   \n",
       "237  a ministra cármen lúcia do tribunal superior e...   \n",
       "\n",
       "                                               P_Chave  \n",
       "5                 lidera a rejeição entre os eleitores  \n",
       "14   expresidente luiz inácio lula da silva pt segu...  \n",
       "15   luiz inácio lula da silva tem 45 das intenções...  \n",
       "20   luiz inácio lula da silva tem 45 das intenções...  \n",
       "237                                                nan  "
      ]
     },
     "execution_count": 460,
     "metadata": {},
     "output_type": "execute_result"
    }
   ],
   "source": [
    "train_2 = train.loc[train['Target'] == 2, ['Titulo','Descrição','P_Chave']]\n",
    "train_2.head()"
   ]
  },
  {
   "cell_type": "code",
   "execution_count": 461,
   "metadata": {
    "scrolled": true
   },
   "outputs": [
    {
     "data": {
      "text/plain": [
       "Titulo       object\n",
       "Descrição    object\n",
       "P_Chave      object\n",
       "dtype: object"
      ]
     },
     "execution_count": 461,
     "metadata": {},
     "output_type": "execute_result"
    }
   ],
   "source": [
    "train_2.dtypes"
   ]
  },
  {
   "cell_type": "code",
   "execution_count": 462,
   "metadata": {},
   "outputs": [],
   "source": [
    "excluidos=['[…]','nan','–','de','a','o','e','na','no','do','em','ao','da','é','à','os','nas','nos','das','que',\n",
    "          'dos','as','r','se','para', '', 'como', 'com', 'um', 'nesta', 'diz', 'uma', 'por', 'foi', 'vai', 'após', 'durante',\n",
    "          'ele', 'ela', 'pelo', 'pela', 'segundafeira', 'terçafeira', 'quartafeira', 'quintafeira', 'sextafeira', \n",
    "          'sábado', 'domingo', 'são', 'ser']"
   ]
  },
  {
   "cell_type": "markdown",
   "metadata": {},
   "source": [
    "# Lista de Palavras da Coluna Irrelevante (2)"
   ]
  },
  {
   "cell_type": "code",
   "execution_count": 463,
   "metadata": {},
   "outputs": [],
   "source": [
    "lista_train2=[]\n",
    "lista_train2_quero=[]\n",
    "z = 0\n",
    "while z < 3:\n",
    "    for i in range(0,len(train_2)):\n",
    "        quero=train_2.iloc[i,z]\n",
    "        final = quero.split()\n",
    "        lista_train2+=(final)\n",
    "    z += 1\n",
    "w=0\n",
    "\n",
    "while w <len(lista_train2):\n",
    "    if lista_train2[w] not in excluidos:\n",
    "        lista_train2_quero.append(lista_train2[w])\n",
    "    w+=1\n",
    "\n",
    "#print(lista_train2_quero)"
   ]
  },
  {
   "cell_type": "code",
   "execution_count": 464,
   "metadata": {},
   "outputs": [
    {
     "data": {
      "text/plain": [
       "11623"
      ]
     },
     "execution_count": 464,
     "metadata": {},
     "output_type": "execute_result"
    }
   ],
   "source": [
    "len(lista_train2_quero)"
   ]
  },
  {
   "cell_type": "markdown",
   "metadata": {},
   "source": [
    "### Analisando os 1841 mais relevantes"
   ]
  },
  {
   "cell_type": "code",
   "execution_count": 465,
   "metadata": {},
   "outputs": [
    {
     "data": {
      "text/plain": [
       "bolsonaro     0.040265\n",
       "presidente    0.022455\n",
       "jair          0.017551\n",
       "pl            0.012733\n",
       "lula          0.012647\n",
       "                ...   \n",
       "anthony       0.000086\n",
       "marcos        0.000086\n",
       "cgadb         0.000086\n",
       "auge          0.000086\n",
       "bolsonar      0.000086\n",
       "Length: 3216, dtype: float64"
      ]
     },
     "execution_count": 465,
     "metadata": {},
     "output_type": "execute_result"
    }
   ],
   "source": [
    "serie_2=pd.Series(lista_train2_quero).value_counts(True)\n",
    "'''.to_frame()\n",
    "serie_2=serie_2.iloc[0:1841,:]\n",
    "\n",
    "lista_2 = serie_2.index.tolist()\n",
    "serie_2=serie_2.squeeze() '''\n",
    "serie_2"
   ]
  },
  {
   "cell_type": "markdown",
   "metadata": {},
   "source": [
    "# Lista de Palavras da Coluna Positiva (1)\n"
   ]
  },
  {
   "cell_type": "code",
   "execution_count": 466,
   "metadata": {},
   "outputs": [],
   "source": [
    "lista_train1=[]\n",
    "lista_train1_quero=[]\n",
    "z = 0\n",
    "while z < 3:\n",
    "    for i in range(0,len(train_1)):\n",
    "        quero=train_1.iloc[i,z]\n",
    "        final = quero.split()\n",
    "        lista_train1+=(final)\n",
    "    z += 1\n",
    "w=0\n",
    "while w <len(lista_train1):\n",
    "    if lista_train1[w] not in excluidos:\n",
    "        lista_train1_quero.append(lista_train1[w])\n",
    "    w+=1\n",
    "\n",
    "#print(lista_train1_quero)"
   ]
  },
  {
   "cell_type": "markdown",
   "metadata": {},
   "source": [
    "### Analisando os 1841 mais relevantes"
   ]
  },
  {
   "cell_type": "code",
   "execution_count": 467,
   "metadata": {},
   "outputs": [
    {
     "data": {
      "text/plain": [
       "bolsonaro          0.041748\n",
       "presidente         0.023301\n",
       "jair               0.018770\n",
       "brasil             0.012621\n",
       "sobre              0.007767\n",
       "                     ...   \n",
       "ponto              0.000162\n",
       "botamos            0.000162\n",
       "participou         0.000162\n",
       "santo              0.000162\n",
       "zerados/zeragem    0.000162\n",
       "Length: 2052, dtype: float64"
      ]
     },
     "execution_count": 467,
     "metadata": {},
     "output_type": "execute_result"
    }
   ],
   "source": [
    "serie_1=pd.Series(lista_train1_quero).value_counts(True)\n",
    "'''.to_frame()\n",
    "serie_1=serie_1.iloc[0:1841,:]\n",
    "\n",
    "\n",
    "lista_1 = serie_1.index.tolist()\n",
    "serie_1 = serie_1.squeeze() '''\n",
    "serie_1 "
   ]
  },
  {
   "cell_type": "markdown",
   "metadata": {},
   "source": [
    "# Lista de Palavras da Coluna Negativa (0)"
   ]
  },
  {
   "cell_type": "code",
   "execution_count": 468,
   "metadata": {},
   "outputs": [],
   "source": [
    "lista_train0=[]\n",
    "lista_train0_quero=[]\n",
    "z = 0\n",
    "while z < 3:\n",
    "    for i in range(0,len(train_0)):\n",
    "        quero=train_0.iloc[i,z]\n",
    "        final = quero.split()\n",
    "        lista_train0+=(final)\n",
    "    z += 1\n",
    "w=0\n",
    "while w <len(lista_train0):\n",
    "    if lista_train0[w] not in excluidos:\n",
    "        lista_train0_quero.append(lista_train0[w])\n",
    "    w+=1\n",
    "\n",
    "#print(lista_train0_quero)"
   ]
  },
  {
   "cell_type": "markdown",
   "metadata": {},
   "source": [
    "### Analisando os 1841 mais relevantes"
   ]
  },
  {
   "cell_type": "code",
   "execution_count": 469,
   "metadata": {},
   "outputs": [
    {
     "data": {
      "text/plain": [
       "bolsonaro       0.040450\n",
       "presidente      0.025848\n",
       "jair            0.018745\n",
       "não             0.007893\n",
       "pl              0.007893\n",
       "                  ...   \n",
       "manifestação    0.000197\n",
       "s               0.000197\n",
       "edson           0.000197\n",
       "programado      0.000197\n",
       "declarção       0.000197\n",
       "Length: 1844, dtype: float64"
      ]
     },
     "execution_count": 469,
     "metadata": {},
     "output_type": "execute_result"
    }
   ],
   "source": [
    "\n",
    "serie_0=pd.Series(lista_train0_quero).value_counts(True)\n",
    "'''.to_frame()\n",
    "serie_0=serie_0.iloc[0:1841,:]\n",
    "\n",
    "lista_0 = serie_0.index.tolist()\n",
    "\n",
    "serie_0=serie_0.squeeze() '''\n",
    "serie_0"
   ]
  },
  {
   "cell_type": "code",
   "execution_count": null,
   "metadata": {},
   "outputs": [],
   "source": []
  },
  {
   "cell_type": "code",
   "execution_count": 470,
   "metadata": {},
   "outputs": [],
   "source": [
    "lista_quero_total = lista_train2_quero + lista_train1_quero + lista_train0_quero\n",
    "lista_exclusivas = []\n",
    "\n",
    "for i in range(0, len(lista_quero_total)):\n",
    "    palavra = lista_quero_total[i]\n",
    "    if (palavra not in serie_0.index and palavra not in serie_1.index) or (palavra not in serie_0.index and palavra not in serie_2.index) or (palavra not in serie_1.index and palavra not in serie_2.index):\n",
    "        lista_exclusivas.append(palavra)\n",
    "\n",
    "notexclusivo0 = []\n",
    "for i in range(0, len(serie_0)):\n",
    "    palavra = serie_0.index[i]\n",
    "    if palavra not in lista_exclusivas:\n",
    "        notexclusivo0.append(palavra)\n",
    "\n",
    "notexclusivo1 = []\n",
    "for i in range(0, len(serie_1)):\n",
    "    palavra = serie_1.index[i]\n",
    "    if palavra not in lista_exclusivas:\n",
    "        notexclusivo1.append(palavra)\n",
    "\n",
    "notexclusivo2 = []\n",
    "for i in range(0, len(serie_2)):\n",
    "    palavra = serie_2.index[i]\n",
    "    if palavra not in lista_exclusivas:\n",
    "        notexclusivo2.append(palavra)\n",
    "\n",
    "\n",
    "serie_0_limpa = serie_0.drop(notexclusivo0) \n",
    "serie_1_limpa = serie_1.drop(notexclusivo1)\n",
    "serie_2_limpa = serie_2.drop(notexclusivo2)\n",
    "\n"
   ]
  },
  {
   "cell_type": "code",
   "execution_count": null,
   "metadata": {},
   "outputs": [],
   "source": []
  },
  {
   "cell_type": "code",
   "execution_count": 471,
   "metadata": {},
   "outputs": [],
   "source": [
    "len0 = len(serie_0)\n",
    "len1 = len(serie_1)\n",
    "len2 = len(serie_2)\n",
    "\n",
    "if len0 < len1 and len0 < len2:\n",
    "#    serie_0 = serie_0\n",
    "    serie_1 = serie_1.to_frame()\n",
    "    serie_1 = serie_1.iloc[0:len0,:]\n",
    "    serie_2 = serie_2.to_frame()\n",
    "    serie_2 = serie_2.iloc[0:len0,:]\n",
    "elif len1 < len2:\n",
    "    serie_0 = serie_0.to_frame()\n",
    "    serie_0 = serie_0.iloc[0:len1,:]\n",
    "#    serie_1 = serie_1\n",
    "    serie_2 = serie_2.to_frame()\n",
    "    serie_2 = serie_2.iloc[0:len1,:]\n",
    "else:\n",
    "    serie_0 = serie_0.to_frame()\n",
    "    serie_0 = serie_0.iloc[0:len2,:]\n",
    "    serie_1 = serie_1.to_frame()\n",
    "    serie_1 = serie_1.iloc[0:len2,:]\n",
    "#    serie_2 = serie_2\n",
    "\n",
    "\n",
    "serie_0 = serie_0.squeeze()\n",
    "serie_1 = serie_1.squeeze()\n",
    "serie_2 = serie_2.squeeze()\n",
    "\n",
    "\n",
    "lista_0 = serie_0.index.tolist()\n",
    "lista_1 = serie_1.index.tolist()\n",
    "lista_2 = serie_2.index.tolist()\n",
    "\n",
    "lista_0_limpa = serie_0_limpa.index.tolist()\n",
    "lista_1_limpa = serie_1_limpa.index.tolist()\n",
    "lista_2_limpa = serie_2_limpa.index.tolist()"
   ]
  },
  {
   "cell_type": "markdown",
   "metadata": {},
   "source": [
    "# Encontrando Probabilidades Totais"
   ]
  },
  {
   "cell_type": "code",
   "execution_count": 472,
   "metadata": {},
   "outputs": [],
   "source": [
    "#lista_total=lista_train0_quero + lista_train1_quero + lista_train2_quero\n",
    "#print(lista_total)\n",
    "\n",
    "target_manual=train['Target'].value_counts()\n",
    "target_manual\n",
    "\n",
    "t0 = target_manual.to_frame().loc[0]\n",
    "t1 = target_manual.to_frame().loc[1]\n",
    "t2 = target_manual.to_frame().loc[2]\n",
    "\n",
    "total = t0 + t1 + t2\n",
    "\n",
    "#total = target_manual['2']"
   ]
  },
  {
   "cell_type": "code",
   "execution_count": 473,
   "metadata": {},
   "outputs": [
    {
     "name": "stdout",
     "output_type": "stream",
     "text": [
      "Probabilidade NEGATIVAS/TOTAL: Target    0.21875\n",
      "dtype: float64\n",
      "Probabilidade POSITIVA/TOTAL: Target    0.266667\n",
      "dtype: float64\n",
      "Probabilidade NEUTRA/TOTAL: Target    0.514583\n",
      "dtype: float64\n"
     ]
    }
   ],
   "source": [
    "#prob_0=len(lista_train0_quero)/len(lista_total)\n",
    "#prob_1=len(lista_train1_quero)/len(lista_total)\n",
    "#prob_2=len(lista_train2_quero)/len(lista_total)\n",
    "\n",
    "prob_0=t0/total\n",
    "prob_1=t1/total\n",
    "prob_2=t2/total\n",
    "\n",
    "print(f'Probabilidade NEGATIVAS/TOTAL: {prob_0}')\n",
    "print(f'Probabilidade POSITIVA/TOTAL: {prob_1}')\n",
    "print(f'Probabilidade NEUTRA/TOTAL: {prob_2}')"
   ]
  },
  {
   "cell_type": "markdown",
   "metadata": {},
   "source": [
    "# Criando o Classificador"
   ]
  },
  {
   "cell_type": "code",
   "execution_count": 474,
   "metadata": {},
   "outputs": [],
   "source": [
    "test['P_Chave']=test['P_Chave'].astype(str)\n",
    "test['Titulo']=test['Titulo'].astype(str)\n",
    "test['Descrição']=test['Descrição'].astype(str)\n",
    "\n",
    "test['Descrição']=test['Descrição'].apply(limpador)\n",
    "test['Titulo']=test['Titulo'].apply(limpador)\n",
    "test['P_Chave']=test['P_Chave'].apply(limpador)"
   ]
  },
  {
   "cell_type": "code",
   "execution_count": 475,
   "metadata": {},
   "outputs": [
    {
     "data": {
      "text/html": [
       "<div>\n",
       "<style scoped>\n",
       "    .dataframe tbody tr th:only-of-type {\n",
       "        vertical-align: middle;\n",
       "    }\n",
       "\n",
       "    .dataframe tbody tr th {\n",
       "        vertical-align: top;\n",
       "    }\n",
       "\n",
       "    .dataframe thead th {\n",
       "        text-align: right;\n",
       "    }\n",
       "</style>\n",
       "<table border=\"1\" class=\"dataframe\">\n",
       "  <thead>\n",
       "    <tr style=\"text-align: right;\">\n",
       "      <th></th>\n",
       "      <th>Categoria</th>\n",
       "      <th>Titulo</th>\n",
       "      <th>Descrição</th>\n",
       "      <th>Data</th>\n",
       "      <th>Pagina</th>\n",
       "      <th>Target</th>\n",
       "      <th>P_Chave</th>\n",
       "      <th>Auto_Target</th>\n",
       "    </tr>\n",
       "  </thead>\n",
       "  <tbody>\n",
       "    <tr>\n",
       "      <th>0</th>\n",
       "      <td>bolsonaro</td>\n",
       "      <td>bolsonaro critica tse e diz que medidas da cor...</td>\n",
       "      <td>o presidente jair bolsonaro pl fez críticas ne...</td>\n",
       "      <td>02/09/2022 15:30</td>\n",
       "      <td>1</td>\n",
       "      <td>0</td>\n",
       "      <td>críticas tse</td>\n",
       "      <td>Vazio</td>\n",
       "    </tr>\n",
       "    <tr>\n",
       "      <th>1</th>\n",
       "      <td>bolsonaro</td>\n",
       "      <td>esquerda se solidarizou com facada em 2018 ao ...</td>\n",
       "      <td>diferentemente do que disse o presidente jair ...</td>\n",
       "      <td>02/09/2022 17:48</td>\n",
       "      <td>1</td>\n",
       "      <td>0</td>\n",
       "      <td>contrário diferentemente bolsonaro</td>\n",
       "      <td>Vazio</td>\n",
       "    </tr>\n",
       "    <tr>\n",
       "      <th>2</th>\n",
       "      <td>bolsonaro</td>\n",
       "      <td>bolsonaro cometeu crime contra a humanidade na...</td>\n",
       "      <td>o júri simbólico do tribunal permanente dos po...</td>\n",
       "      <td>01/09/2022 14:08</td>\n",
       "      <td>2</td>\n",
       "      <td>0</td>\n",
       "      <td>condenou crime sentença bolsonaro</td>\n",
       "      <td>Vazio</td>\n",
       "    </tr>\n",
       "    <tr>\n",
       "      <th>3</th>\n",
       "      <td>bolsonaro</td>\n",
       "      <td>crítico de bolsonaro compra domínio e recria s...</td>\n",
       "      <td>um site que antes era usado para exibir feitos...</td>\n",
       "      <td>31/08/2022 12:21</td>\n",
       "      <td>2</td>\n",
       "      <td>0</td>\n",
       "      <td>críticas bolsonaro presidente ameaça brasil</td>\n",
       "      <td>Vazio</td>\n",
       "    </tr>\n",
       "    <tr>\n",
       "      <th>4</th>\n",
       "      <td>bolsonaro</td>\n",
       "      <td>bolsonaro cometeu crime contra a humanidade na...</td>\n",
       "      <td>o júri simbólico do tribunal permanente dos po...</td>\n",
       "      <td>01/09/2022 14:08</td>\n",
       "      <td>2</td>\n",
       "      <td>0</td>\n",
       "      <td>condenou crime sentença bolsonaro</td>\n",
       "      <td>Vazio</td>\n",
       "    </tr>\n",
       "  </tbody>\n",
       "</table>\n",
       "</div>"
      ],
      "text/plain": [
       "   Categoria                                             Titulo  \\\n",
       "0  bolsonaro  bolsonaro critica tse e diz que medidas da cor...   \n",
       "1  bolsonaro  esquerda se solidarizou com facada em 2018 ao ...   \n",
       "2  bolsonaro  bolsonaro cometeu crime contra a humanidade na...   \n",
       "3  bolsonaro  crítico de bolsonaro compra domínio e recria s...   \n",
       "4  bolsonaro  bolsonaro cometeu crime contra a humanidade na...   \n",
       "\n",
       "                                           Descrição              Data  \\\n",
       "0  o presidente jair bolsonaro pl fez críticas ne...  02/09/2022 15:30   \n",
       "1  diferentemente do que disse o presidente jair ...  02/09/2022 17:48   \n",
       "2  o júri simbólico do tribunal permanente dos po...  01/09/2022 14:08   \n",
       "3  um site que antes era usado para exibir feitos...  31/08/2022 12:21   \n",
       "4  o júri simbólico do tribunal permanente dos po...  01/09/2022 14:08   \n",
       "\n",
       "   Pagina  Target                                      P_Chave Auto_Target  \n",
       "0       1       0                                 críticas tse       Vazio  \n",
       "1       1       0           contrário diferentemente bolsonaro       Vazio  \n",
       "2       2       0            condenou crime sentença bolsonaro       Vazio  \n",
       "3       2       0  críticas bolsonaro presidente ameaça brasil       Vazio  \n",
       "4       2       0            condenou crime sentença bolsonaro       Vazio  "
      ]
     },
     "execution_count": 475,
     "metadata": {},
     "output_type": "execute_result"
    }
   ],
   "source": [
    "test['Auto_Target']='Vazio'\n",
    "test.head()"
   ]
  },
  {
   "cell_type": "code",
   "execution_count": 476,
   "metadata": {},
   "outputs": [
    {
     "data": {
      "text/plain": [
       "2    187\n",
       "1     80\n",
       "0     53\n",
       "Name: Target, dtype: int64"
      ]
     },
     "execution_count": 476,
     "metadata": {},
     "output_type": "execute_result"
    }
   ],
   "source": [
    "target=test['Target']\n",
    "target.value_counts()"
   ]
  },
  {
   "cell_type": "markdown",
   "metadata": {},
   "source": [
    "___\n",
    "### Verificando a performance do Classificador\n",
    "\n",
    "Agora você deve testar o seu classificador com a base de Testes."
   ]
  },
  {
   "cell_type": "code",
   "execution_count": 477,
   "metadata": {},
   "outputs": [
    {
     "data": {
      "text/html": [
       "<div>\n",
       "<style scoped>\n",
       "    .dataframe tbody tr th:only-of-type {\n",
       "        vertical-align: middle;\n",
       "    }\n",
       "\n",
       "    .dataframe tbody tr th {\n",
       "        vertical-align: top;\n",
       "    }\n",
       "\n",
       "    .dataframe thead th {\n",
       "        text-align: right;\n",
       "    }\n",
       "</style>\n",
       "<table border=\"1\" class=\"dataframe\">\n",
       "  <thead>\n",
       "    <tr style=\"text-align: right;\">\n",
       "      <th></th>\n",
       "      <th>Titulo</th>\n",
       "      <th>Descrição</th>\n",
       "      <th>P_Chave</th>\n",
       "    </tr>\n",
       "  </thead>\n",
       "  <tbody>\n",
       "    <tr>\n",
       "      <th>0</th>\n",
       "      <td>bolsonaro critica tse e diz que medidas da cor...</td>\n",
       "      <td>o presidente jair bolsonaro pl fez críticas ne...</td>\n",
       "      <td>críticas tse</td>\n",
       "    </tr>\n",
       "    <tr>\n",
       "      <th>1</th>\n",
       "      <td>esquerda se solidarizou com facada em 2018 ao ...</td>\n",
       "      <td>diferentemente do que disse o presidente jair ...</td>\n",
       "      <td>contrário diferentemente bolsonaro</td>\n",
       "    </tr>\n",
       "    <tr>\n",
       "      <th>2</th>\n",
       "      <td>bolsonaro cometeu crime contra a humanidade na...</td>\n",
       "      <td>o júri simbólico do tribunal permanente dos po...</td>\n",
       "      <td>condenou crime sentença bolsonaro</td>\n",
       "    </tr>\n",
       "    <tr>\n",
       "      <th>3</th>\n",
       "      <td>crítico de bolsonaro compra domínio e recria s...</td>\n",
       "      <td>um site que antes era usado para exibir feitos...</td>\n",
       "      <td>críticas bolsonaro presidente ameaça brasil</td>\n",
       "    </tr>\n",
       "    <tr>\n",
       "      <th>4</th>\n",
       "      <td>bolsonaro cometeu crime contra a humanidade na...</td>\n",
       "      <td>o júri simbólico do tribunal permanente dos po...</td>\n",
       "      <td>condenou crime sentença bolsonaro</td>\n",
       "    </tr>\n",
       "  </tbody>\n",
       "</table>\n",
       "</div>"
      ],
      "text/plain": [
       "                                              Titulo  \\\n",
       "0  bolsonaro critica tse e diz que medidas da cor...   \n",
       "1  esquerda se solidarizou com facada em 2018 ao ...   \n",
       "2  bolsonaro cometeu crime contra a humanidade na...   \n",
       "3  crítico de bolsonaro compra domínio e recria s...   \n",
       "4  bolsonaro cometeu crime contra a humanidade na...   \n",
       "\n",
       "                                           Descrição  \\\n",
       "0  o presidente jair bolsonaro pl fez críticas ne...   \n",
       "1  diferentemente do que disse o presidente jair ...   \n",
       "2  o júri simbólico do tribunal permanente dos po...   \n",
       "3  um site que antes era usado para exibir feitos...   \n",
       "4  o júri simbólico do tribunal permanente dos po...   \n",
       "\n",
       "                                       P_Chave  \n",
       "0                                 críticas tse  \n",
       "1           contrário diferentemente bolsonaro  \n",
       "2            condenou crime sentença bolsonaro  \n",
       "3  críticas bolsonaro presidente ameaça brasil  \n",
       "4            condenou crime sentença bolsonaro  "
      ]
     },
     "execution_count": 477,
     "metadata": {},
     "output_type": "execute_result"
    }
   ],
   "source": [
    "test_TDP =test[['Titulo', 'Descrição', 'P_Chave']]\n",
    "test_TDP.head()"
   ]
  },
  {
   "cell_type": "code",
   "execution_count": 478,
   "metadata": {},
   "outputs": [],
   "source": [
    "neutro=positivo=negativo=0\n",
    "for i in range(0, len(test_TDP)):\n",
    "    frases = ''\n",
    "    lista_splits = []\n",
    "    probFraseDado0 = 0\n",
    "    probFraseDado1 = 0\n",
    "    probFraseDado2 = 0\n",
    "    em0 = 0\n",
    "    em1 = 0\n",
    "    em2 = 0\n",
    "    for j in range(0,3):\n",
    "        frases += test_TDP.iloc[i,j]\n",
    "    lista_splits = frases.split()\n",
    "    for w in range(0, len(lista_splits)):\n",
    "        palavra = lista_splits[w]\n",
    "        if palavra in lista_0:\n",
    "            if probFraseDado0 == 0:\n",
    "                probFraseDado0 = serie_0[palavra]\n",
    "            else:\n",
    "                probFraseDado0 = probFraseDado0 * serie_0[palavra]\n",
    "        if palavra in lista_1:\n",
    "            if probFraseDado1 == 0:\n",
    "                probFraseDado1 = serie_1[palavra]\n",
    "            else:\n",
    "                probFraseDado1 = probFraseDado1 * serie_1[palavra]\n",
    "        if palavra in lista_2:\n",
    "            if probFraseDado2 == 0:\n",
    "                probFraseDado2 = serie_2[palavra]\n",
    "            else:\n",
    "                probFraseDado2 = probFraseDado2 * serie_2[palavra]\n",
    "            \n",
    "    '''for a in range(0, len(lista_0)):\n",
    "        if lista_0[a] in lista_splits:\n",
    "            em0 += lista_splits.count(lista_0[a])\n",
    "    for b in range(0, len(lista_1)):\n",
    "        if lista_1[b] in lista_splits:\n",
    "            em1 += lista_splits.count(lista_1[b])\n",
    "    for c in range(0, len(lista_2)):\n",
    "        if lista_2[c] in lista_splits:\n",
    "            em2 += lista_splits.count(lista_2[c])\n",
    "            \n",
    "    probFraseDado0 *= em0/len(lista_splits)\n",
    "    probFraseDado1 *= em1/len(lista_splits)\n",
    "    probFraseDado2 *= em2/len(lista_splits) '''\n",
    "    \n",
    "    prob0DadoFrase = probFraseDado0 * prob_0\n",
    "    prob1DadoFrase = probFraseDado1 * prob_1\n",
    "    prob2DadoFrase = probFraseDado2 * prob_2\n",
    "    if float(prob0DadoFrase) > float(prob1DadoFrase) and float(prob0DadoFrase) > float(prob2DadoFrase):\n",
    "        negativo += 1\n",
    "        test.iloc[i, 7] = 0\n",
    "    elif float(prob1DadoFrase) > float(prob2DadoFrase):\n",
    "        positivo += 1\n",
    "        test.iloc[i, 7] = 1\n",
    "    else:\n",
    "        neutro += 1\n",
    "        test.iloc[i, 7] = 2\n",
    "    \n",
    "    "
   ]
  },
  {
   "cell_type": "code",
   "execution_count": 479,
   "metadata": {},
   "outputs": [
    {
     "name": "stdout",
     "output_type": "stream",
     "text": [
      "Bot NEGATIVO: 24\n",
      "Bot POSITIVO: 145\n",
      "Bot NEUTRO: 151\n"
     ]
    }
   ],
   "source": [
    "print(f'Bot NEGATIVO: {negativo}')\n",
    "print(f'Bot POSITIVO: {positivo}')\n",
    "print(f'Bot NEUTRO: {neutro}')"
   ]
  },
  {
   "cell_type": "code",
   "execution_count": 480,
   "metadata": {},
   "outputs": [
    {
     "data": {
      "text/html": [
       "<div>\n",
       "<style scoped>\n",
       "    .dataframe tbody tr th:only-of-type {\n",
       "        vertical-align: middle;\n",
       "    }\n",
       "\n",
       "    .dataframe tbody tr th {\n",
       "        vertical-align: top;\n",
       "    }\n",
       "\n",
       "    .dataframe thead th {\n",
       "        text-align: right;\n",
       "    }\n",
       "</style>\n",
       "<table border=\"1\" class=\"dataframe\">\n",
       "  <thead>\n",
       "    <tr style=\"text-align: right;\">\n",
       "      <th></th>\n",
       "      <th>Categoria</th>\n",
       "      <th>Titulo</th>\n",
       "      <th>Descrição</th>\n",
       "      <th>Data</th>\n",
       "      <th>Pagina</th>\n",
       "      <th>Target</th>\n",
       "      <th>P_Chave</th>\n",
       "      <th>Auto_Target</th>\n",
       "    </tr>\n",
       "  </thead>\n",
       "  <tbody>\n",
       "    <tr>\n",
       "      <th>0</th>\n",
       "      <td>bolsonaro</td>\n",
       "      <td>bolsonaro critica tse e diz que medidas da cor...</td>\n",
       "      <td>o presidente jair bolsonaro pl fez críticas ne...</td>\n",
       "      <td>02/09/2022 15:30</td>\n",
       "      <td>1</td>\n",
       "      <td>0</td>\n",
       "      <td>críticas tse</td>\n",
       "      <td>2</td>\n",
       "    </tr>\n",
       "    <tr>\n",
       "      <th>1</th>\n",
       "      <td>bolsonaro</td>\n",
       "      <td>esquerda se solidarizou com facada em 2018 ao ...</td>\n",
       "      <td>diferentemente do que disse o presidente jair ...</td>\n",
       "      <td>02/09/2022 17:48</td>\n",
       "      <td>1</td>\n",
       "      <td>0</td>\n",
       "      <td>contrário diferentemente bolsonaro</td>\n",
       "      <td>2</td>\n",
       "    </tr>\n",
       "    <tr>\n",
       "      <th>2</th>\n",
       "      <td>bolsonaro</td>\n",
       "      <td>bolsonaro cometeu crime contra a humanidade na...</td>\n",
       "      <td>o júri simbólico do tribunal permanente dos po...</td>\n",
       "      <td>01/09/2022 14:08</td>\n",
       "      <td>2</td>\n",
       "      <td>0</td>\n",
       "      <td>condenou crime sentença bolsonaro</td>\n",
       "      <td>1</td>\n",
       "    </tr>\n",
       "    <tr>\n",
       "      <th>3</th>\n",
       "      <td>bolsonaro</td>\n",
       "      <td>crítico de bolsonaro compra domínio e recria s...</td>\n",
       "      <td>um site que antes era usado para exibir feitos...</td>\n",
       "      <td>31/08/2022 12:21</td>\n",
       "      <td>2</td>\n",
       "      <td>0</td>\n",
       "      <td>críticas bolsonaro presidente ameaça brasil</td>\n",
       "      <td>0</td>\n",
       "    </tr>\n",
       "    <tr>\n",
       "      <th>4</th>\n",
       "      <td>bolsonaro</td>\n",
       "      <td>bolsonaro cometeu crime contra a humanidade na...</td>\n",
       "      <td>o júri simbólico do tribunal permanente dos po...</td>\n",
       "      <td>01/09/2022 14:08</td>\n",
       "      <td>2</td>\n",
       "      <td>0</td>\n",
       "      <td>condenou crime sentença bolsonaro</td>\n",
       "      <td>1</td>\n",
       "    </tr>\n",
       "    <tr>\n",
       "      <th>5</th>\n",
       "      <td>bolsonaro</td>\n",
       "      <td>pgr defende prorrogar investigação de bolsonar...</td>\n",
       "      <td>a procuradoriageral da república pgr defendeu ...</td>\n",
       "      <td>30/08/2022 07:05</td>\n",
       "      <td>3</td>\n",
       "      <td>0</td>\n",
       "      <td>pgr investigação vacinação aids</td>\n",
       "      <td>2</td>\n",
       "    </tr>\n",
       "    <tr>\n",
       "      <th>6</th>\n",
       "      <td>bolsonaro</td>\n",
       "      <td>consultorias de orçamento discordam de veto à ...</td>\n",
       "      <td>as consultorias de orçamento da câmara e do se...</td>\n",
       "      <td>29/08/2022 15:44</td>\n",
       "      <td>3</td>\n",
       "      <td>0</td>\n",
       "      <td>senado contra bolsonaro</td>\n",
       "      <td>1</td>\n",
       "    </tr>\n",
       "    <tr>\n",
       "      <th>7</th>\n",
       "      <td>bolsonaro</td>\n",
       "      <td>entrevista de bolsonaro a jn tem panelaços em ...</td>\n",
       "      <td>as principais cidades do brasil registraram pa...</td>\n",
       "      <td>22/08/2022 20:54</td>\n",
       "      <td>6</td>\n",
       "      <td>0</td>\n",
       "      <td>panelaço</td>\n",
       "      <td>2</td>\n",
       "    </tr>\n",
       "    <tr>\n",
       "      <th>8</th>\n",
       "      <td>bolsonaro</td>\n",
       "      <td>lula tem 47 contra 32 de bolsonaro diz datafolha</td>\n",
       "      <td>o expresidente luiz inácio lula da silva pt se...</td>\n",
       "      <td>18/08/2022 19:36</td>\n",
       "      <td>7</td>\n",
       "      <td>2</td>\n",
       "      <td>lula pt dianteira corrida eleitoral</td>\n",
       "      <td>2</td>\n",
       "    </tr>\n",
       "    <tr>\n",
       "      <th>9</th>\n",
       "      <td>bolsonaro</td>\n",
       "      <td>bolsonaro passou ao centrão área com licitação...</td>\n",
       "      <td>a licitação para ligar poços de água no sertão...</td>\n",
       "      <td>19/08/2022 17:00</td>\n",
       "      <td>7</td>\n",
       "      <td>0</td>\n",
       "      <td>sobrepreço</td>\n",
       "      <td>2</td>\n",
       "    </tr>\n",
       "  </tbody>\n",
       "</table>\n",
       "</div>"
      ],
      "text/plain": [
       "   Categoria                                             Titulo  \\\n",
       "0  bolsonaro  bolsonaro critica tse e diz que medidas da cor...   \n",
       "1  bolsonaro  esquerda se solidarizou com facada em 2018 ao ...   \n",
       "2  bolsonaro  bolsonaro cometeu crime contra a humanidade na...   \n",
       "3  bolsonaro  crítico de bolsonaro compra domínio e recria s...   \n",
       "4  bolsonaro  bolsonaro cometeu crime contra a humanidade na...   \n",
       "5  bolsonaro  pgr defende prorrogar investigação de bolsonar...   \n",
       "6  bolsonaro  consultorias de orçamento discordam de veto à ...   \n",
       "7  bolsonaro  entrevista de bolsonaro a jn tem panelaços em ...   \n",
       "8  bolsonaro   lula tem 47 contra 32 de bolsonaro diz datafolha   \n",
       "9  bolsonaro  bolsonaro passou ao centrão área com licitação...   \n",
       "\n",
       "                                           Descrição              Data  \\\n",
       "0  o presidente jair bolsonaro pl fez críticas ne...  02/09/2022 15:30   \n",
       "1  diferentemente do que disse o presidente jair ...  02/09/2022 17:48   \n",
       "2  o júri simbólico do tribunal permanente dos po...  01/09/2022 14:08   \n",
       "3  um site que antes era usado para exibir feitos...  31/08/2022 12:21   \n",
       "4  o júri simbólico do tribunal permanente dos po...  01/09/2022 14:08   \n",
       "5  a procuradoriageral da república pgr defendeu ...  30/08/2022 07:05   \n",
       "6  as consultorias de orçamento da câmara e do se...  29/08/2022 15:44   \n",
       "7  as principais cidades do brasil registraram pa...  22/08/2022 20:54   \n",
       "8  o expresidente luiz inácio lula da silva pt se...  18/08/2022 19:36   \n",
       "9  a licitação para ligar poços de água no sertão...  19/08/2022 17:00   \n",
       "\n",
       "   Pagina  Target                                      P_Chave Auto_Target  \n",
       "0       1       0                                 críticas tse           2  \n",
       "1       1       0           contrário diferentemente bolsonaro           2  \n",
       "2       2       0            condenou crime sentença bolsonaro           1  \n",
       "3       2       0  críticas bolsonaro presidente ameaça brasil           0  \n",
       "4       2       0            condenou crime sentença bolsonaro           1  \n",
       "5       3       0              pgr investigação vacinação aids           2  \n",
       "6       3       0                      senado contra bolsonaro           1  \n",
       "7       6       0                                     panelaço           2  \n",
       "8       7       2          lula pt dianteira corrida eleitoral           2  \n",
       "9       7       0                                   sobrepreço           2  "
      ]
     },
     "execution_count": 480,
     "metadata": {},
     "output_type": "execute_result"
    }
   ],
   "source": [
    "#test = test.drop(test.iloc[:,8:],axis = 1)\n",
    "test.head(10)"
   ]
  },
  {
   "cell_type": "code",
   "execution_count": 481,
   "metadata": {},
   "outputs": [],
   "source": [
    "falso0 = 0\n",
    "falso1 = 0\n",
    "falso2 = 0\n",
    "\n",
    "for i in range(0, len(test)):\n",
    "    if test.iloc[i, 5] != test.iloc[i, 7]:\n",
    "        if test.iloc[i, 7] == 0:\n",
    "            falso0 += 1\n",
    "        elif test.iloc[i, 7] == 1:\n",
    "            falso1 += 1\n",
    "        else:\n",
    "            falso2 += 1"
   ]
  },
  {
   "cell_type": "code",
   "execution_count": 482,
   "metadata": {},
   "outputs": [
    {
     "name": "stdout",
     "output_type": "stream",
     "text": [
      "Bot FAKE NEGATIVO: 16 // Porcentagem: 5.0%\n",
      "Bot FAKE POSITIVO: 113 // Porcentagem: 35.3125%\n",
      "Bot FAKE NEUTRO: 72 // Porcentagem: 22.5%\n"
     ]
    }
   ],
   "source": [
    "print(f'Bot FAKE NEGATIVO: {falso0} // Porcentagem: {falso0/len(test)*100}%')\n",
    "print(f'Bot FAKE POSITIVO: {falso1} // Porcentagem: {falso1/len(test)*100}%')\n",
    "print(f'Bot FAKE NEUTRO: {falso2} // Porcentagem: {falso2/len(test)*100}%')"
   ]
  },
  {
   "cell_type": "code",
   "execution_count": 483,
   "metadata": {},
   "outputs": [
    {
     "name": "stdout",
     "output_type": "stream",
     "text": [
      "0.37187499999999996\n"
     ]
    }
   ],
   "source": [
    "acuracia = 1- (falso0 + falso1 + falso2) / len(test)\n",
    "\n",
    "print(acuracia)"
   ]
  },
  {
   "cell_type": "markdown",
   "metadata": {},
   "source": [
    "___\n",
    "## Aperfeiçoamento:\n",
    "\n",
    "Trabalhos que conseguirem pelo menos conceito B vão evoluir em conceito dependendo da quantidade de itens avançados:\n",
    "\n",
    "* IMPLEMENTOU outras limpezas e transformações que não afetem a qualidade da informação contida nas notícias. Ex: stemming, lemmatization, stopwords\n",
    "* CONSIDEROU mais de duas caterogias na variável Target e INCREMENTOU a quantidade de notícias, mantendo pelo menos 250 notícias por caterogia (OBRIGATÓRIO PARA TRIOS, sem contar como item avançado)\n",
    "* Para Target com duas categorias: CRIOU pelo menos quatro categorias intermediárias de relevância baseadas na probabilidade: ex.: muito relevante, relevante, neutro, irrelevante, muito irrelevante\n",
    "* EXPLICOU porquê não pode usar o próprio classificador para gerar mais amostras de treinamento\n",
    "* PROPÔS diferentes cenários para Naïve Bayes fora do contexto do projeto (pelo menos dois cenários, exceto aqueles já apresentados em sala pelos professores: por exemplo, filtro de spam)\n",
    "* SUGERIU e EXPLICOU melhorias reais com indicações concretas de como implementar (indicar como fazer e indicar material de pesquisa)\n",
    "* FEZ o item Qualidade do Classificador a partir de novas separações das Notícias entre Treinamento e Teste descrito no enunciado do projeto (OBRIGATÓRIO para conceitos A ou A+)"
   ]
  },
  {
   "cell_type": "markdown",
   "metadata": {},
   "source": [
    "___\n",
    "## Referências"
   ]
  },
  {
   "cell_type": "markdown",
   "metadata": {},
   "source": [
    "[Naive Bayes and Text Classification](https://arxiv.org/pdf/1410.5329.pdf)  **Mais completo**\n",
    "\n",
    "[A practical explanation of a Naive Bayes Classifier](https://monkeylearn.com/blog/practical-explanation-naive-bayes-classifier/) **Mais simples**"
   ]
  },
  {
   "cell_type": "code",
   "execution_count": null,
   "metadata": {},
   "outputs": [],
   "source": []
  }
 ],
 "metadata": {
  "kernelspec": {
   "display_name": "Python 3 (ipykernel)",
   "language": "python",
   "name": "python3"
  },
  "language_info": {
   "codemirror_mode": {
    "name": "ipython",
    "version": 3
   },
   "file_extension": ".py",
   "mimetype": "text/x-python",
   "name": "python",
   "nbconvert_exporter": "python",
   "pygments_lexer": "ipython3",
   "version": "3.9.7"
  },
  "vscode": {
   "interpreter": {
    "hash": "bd2d49180acf4888e6c19e4e0f59a062d636affdef1eef64c56316519b0294c5"
   }
  }
 },
 "nbformat": 4,
 "nbformat_minor": 4
}
