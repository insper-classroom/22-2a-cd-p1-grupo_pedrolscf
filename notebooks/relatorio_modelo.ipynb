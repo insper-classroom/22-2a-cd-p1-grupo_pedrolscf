{
 "cells": [
  {
   "cell_type": "markdown",
   "metadata": {},
   "source": [
    "# Projeto 1 - Ciência dos Dados"
   ]
  },
  {
   "cell_type": "markdown",
   "metadata": {},
   "source": [
    "Nome: Pedro De Lucca Sartori Chagas Ferro\n",
    "\n",
    "Nome: Pedro Antônio Braga Dutra"
   ]
  },
  {
   "cell_type": "markdown",
   "metadata": {},
   "source": [
    "Atenção: Serão permitidos grupos de três pessoas, mas com uma rubrica mais exigente. Grupos deste tamanho precisarão fazer um questionário de avaliação de trabalho em equipe"
   ]
  },
  {
   "cell_type": "markdown",
   "metadata": {},
   "source": [
    "___\n",
    "Carregando algumas bibliotecas:"
   ]
  },
  {
   "cell_type": "code",
   "execution_count": 32,
   "metadata": {},
   "outputs": [],
   "source": [
    "%matplotlib inline\n",
    "import pandas as pd\n",
    "import matplotlib.pyplot as plt\n",
    "import numpy as np\n",
    "import os"
   ]
  },
  {
   "cell_type": "code",
   "execution_count": 33,
   "metadata": {
    "scrolled": false
   },
   "outputs": [
    {
     "name": "stdout",
     "output_type": "stream",
     "text": [
      "Esperamos trabalhar no diretório\n",
      "c:\\Users\\Pedro De Lucca\\Documents\\Insper\\2° Semestre\\CDados\\22-2a-cd-p1-grupo_pedrolscf\\notebooks\n"
     ]
    }
   ],
   "source": [
    "print('Esperamos trabalhar no diretório')\n",
    "print(os.getcwd())"
   ]
  },
  {
   "cell_type": "markdown",
   "metadata": {},
   "source": [
    "Carregando a base de dados com as notícias classificadas manualmente:"
   ]
  },
  {
   "cell_type": "code",
   "execution_count": 34,
   "metadata": {},
   "outputs": [],
   "source": [
    "filename = 'dados.xlsx'"
   ]
  },
  {
   "cell_type": "code",
   "execution_count": 35,
   "metadata": {},
   "outputs": [
    {
     "data": {
      "text/html": [
       "<div>\n",
       "<style scoped>\n",
       "    .dataframe tbody tr th:only-of-type {\n",
       "        vertical-align: middle;\n",
       "    }\n",
       "\n",
       "    .dataframe tbody tr th {\n",
       "        vertical-align: top;\n",
       "    }\n",
       "\n",
       "    .dataframe thead th {\n",
       "        text-align: right;\n",
       "    }\n",
       "</style>\n",
       "<table border=\"1\" class=\"dataframe\">\n",
       "  <thead>\n",
       "    <tr style=\"text-align: right;\">\n",
       "      <th></th>\n",
       "      <th>Categoria</th>\n",
       "      <th>Titulo</th>\n",
       "      <th>Descrição</th>\n",
       "      <th>Data</th>\n",
       "      <th>Pagina</th>\n",
       "      <th>Target</th>\n",
       "      <th>P_Chave</th>\n",
       "    </tr>\n",
       "  </thead>\n",
       "  <tbody>\n",
       "    <tr>\n",
       "      <th>0</th>\n",
       "      <td>bolsonaro</td>\n",
       "      <td>Após repercussão, site com críticas ao preside...</td>\n",
       "      <td>Após a repercussão, o domínio ‘bolsonaro.com.b...</td>\n",
       "      <td>01/09/2022 15:50</td>\n",
       "      <td>1</td>\n",
       "      <td>0</td>\n",
       "      <td>crítica e acusações sobre a família bolsonaro</td>\n",
       "    </tr>\n",
       "    <tr>\n",
       "      <th>1</th>\n",
       "      <td>bolsonaro</td>\n",
       "      <td>Bolsonaro chama de narrativa críticas de compo...</td>\n",
       "      <td>O presidente Jair Bolsonaro (PL) atribuiu a um...</td>\n",
       "      <td>01/09/2022 20:56</td>\n",
       "      <td>1</td>\n",
       "      <td>0</td>\n",
       "      <td>ataques à jornalista</td>\n",
       "    </tr>\n",
       "    <tr>\n",
       "      <th>2</th>\n",
       "      <td>bolsonaro</td>\n",
       "      <td>Lula cai dois pontos, Bolsonaro fica estável, ...</td>\n",
       "      <td>Uma nova pesquisa Datafolha presidencial foi d...</td>\n",
       "      <td>01/09/2022 21:42</td>\n",
       "      <td>1</td>\n",
       "      <td>0</td>\n",
       "      <td>NaN</td>\n",
       "    </tr>\n",
       "    <tr>\n",
       "      <th>3</th>\n",
       "      <td>bolsonaro</td>\n",
       "      <td>Datafolha: Entre mulheres, Lula tem 48%, Bolso...</td>\n",
       "      <td>A pesquisa do Instituto Datafolha divulgada ne...</td>\n",
       "      <td>01/09/2022 22:01</td>\n",
       "      <td>1</td>\n",
       "      <td>0</td>\n",
       "      <td>protagonizou agressão verbal à jornalista vera</td>\n",
       "    </tr>\n",
       "    <tr>\n",
       "      <th>4</th>\n",
       "      <td>bolsonaro</td>\n",
       "      <td>Lula diz que orçamento de Bolsonaro não prevê ...</td>\n",
       "      <td>O ex-presidente e candidato Luiz Inácio Lula d...</td>\n",
       "      <td>01/09/2022 22:24</td>\n",
       "      <td>1</td>\n",
       "      <td>0</td>\n",
       "      <td>não inclui reajuste do salário mínimo</td>\n",
       "    </tr>\n",
       "  </tbody>\n",
       "</table>\n",
       "</div>"
      ],
      "text/plain": [
       "   Categoria                                             Titulo  \\\n",
       "0  bolsonaro  Após repercussão, site com críticas ao preside...   \n",
       "1  bolsonaro  Bolsonaro chama de narrativa críticas de compo...   \n",
       "2  bolsonaro  Lula cai dois pontos, Bolsonaro fica estável, ...   \n",
       "3  bolsonaro  Datafolha: Entre mulheres, Lula tem 48%, Bolso...   \n",
       "4  bolsonaro  Lula diz que orçamento de Bolsonaro não prevê ...   \n",
       "\n",
       "                                           Descrição              Data  \\\n",
       "0  Após a repercussão, o domínio ‘bolsonaro.com.b...  01/09/2022 15:50   \n",
       "1  O presidente Jair Bolsonaro (PL) atribuiu a um...  01/09/2022 20:56   \n",
       "2  Uma nova pesquisa Datafolha presidencial foi d...  01/09/2022 21:42   \n",
       "3  A pesquisa do Instituto Datafolha divulgada ne...  01/09/2022 22:01   \n",
       "4  O ex-presidente e candidato Luiz Inácio Lula d...  01/09/2022 22:24   \n",
       "\n",
       "   Pagina  Target                                         P_Chave  \n",
       "0       1       0   crítica e acusações sobre a família bolsonaro  \n",
       "1       1       0                            ataques à jornalista  \n",
       "2       1       0                                             NaN  \n",
       "3       1       0  protagonizou agressão verbal à jornalista vera  \n",
       "4       1       0           não inclui reajuste do salário mínimo  "
      ]
     },
     "execution_count": 35,
     "metadata": {},
     "output_type": "execute_result"
    }
   ],
   "source": [
    "train = pd.read_excel(filename, sheet_name = 'Treinamento')\n",
    "train.head(5)"
   ]
  },
  {
   "cell_type": "code",
   "execution_count": 36,
   "metadata": {},
   "outputs": [
    {
     "data": {
      "text/html": [
       "<div>\n",
       "<style scoped>\n",
       "    .dataframe tbody tr th:only-of-type {\n",
       "        vertical-align: middle;\n",
       "    }\n",
       "\n",
       "    .dataframe tbody tr th {\n",
       "        vertical-align: top;\n",
       "    }\n",
       "\n",
       "    .dataframe thead th {\n",
       "        text-align: right;\n",
       "    }\n",
       "</style>\n",
       "<table border=\"1\" class=\"dataframe\">\n",
       "  <thead>\n",
       "    <tr style=\"text-align: right;\">\n",
       "      <th></th>\n",
       "      <th>Categoria</th>\n",
       "      <th>Titulo</th>\n",
       "      <th>Descrição</th>\n",
       "      <th>Data</th>\n",
       "      <th>Pagina</th>\n",
       "      <th>Target</th>\n",
       "      <th>P_Chave</th>\n",
       "    </tr>\n",
       "  </thead>\n",
       "  <tbody>\n",
       "    <tr>\n",
       "      <th>0</th>\n",
       "      <td>bolsonaro</td>\n",
       "      <td>Bolsonaro critica TSE e diz que medidas da Cor...</td>\n",
       "      <td>O presidente Jair Bolsonaro (PL) fez críticas ...</td>\n",
       "      <td>02/09/2022 15:30</td>\n",
       "      <td>1</td>\n",
       "      <td>0</td>\n",
       "      <td>críticas TSE</td>\n",
       "    </tr>\n",
       "    <tr>\n",
       "      <th>1</th>\n",
       "      <td>bolsonaro</td>\n",
       "      <td>Esquerda se solidarizou com facada em 2018, ao...</td>\n",
       "      <td>Diferentemente do que disse o presidente Jair ...</td>\n",
       "      <td>02/09/2022 17:48</td>\n",
       "      <td>1</td>\n",
       "      <td>0</td>\n",
       "      <td>contrário diferentemente Bolsonaro</td>\n",
       "    </tr>\n",
       "    <tr>\n",
       "      <th>2</th>\n",
       "      <td>bolsonaro</td>\n",
       "      <td>Bolsonaro cometeu crime contra a humanidade na...</td>\n",
       "      <td>O júri simbólico do Tribunal Permanente dos Po...</td>\n",
       "      <td>01/09/2022 14:08</td>\n",
       "      <td>2</td>\n",
       "      <td>0</td>\n",
       "      <td>condenou crime sentença Bolsonaro</td>\n",
       "    </tr>\n",
       "    <tr>\n",
       "      <th>3</th>\n",
       "      <td>bolsonaro</td>\n",
       "      <td>Crítico de Bolsonaro compra domínio e ‘recria’...</td>\n",
       "      <td>Um site que antes era usado para exibir feitos...</td>\n",
       "      <td>31/08/2022 12:21</td>\n",
       "      <td>2</td>\n",
       "      <td>0</td>\n",
       "      <td>críticas Bolsonaro presidente ameaça Brasil</td>\n",
       "    </tr>\n",
       "    <tr>\n",
       "      <th>4</th>\n",
       "      <td>bolsonaro</td>\n",
       "      <td>Bolsonaro cometeu crime contra a humanidade na...</td>\n",
       "      <td>O júri simbólico do Tribunal Permanente dos Po...</td>\n",
       "      <td>01/09/2022 14:08</td>\n",
       "      <td>2</td>\n",
       "      <td>0</td>\n",
       "      <td>condenou crime sentença Bolsonaro</td>\n",
       "    </tr>\n",
       "  </tbody>\n",
       "</table>\n",
       "</div>"
      ],
      "text/plain": [
       "   Categoria                                             Titulo  \\\n",
       "0  bolsonaro  Bolsonaro critica TSE e diz que medidas da Cor...   \n",
       "1  bolsonaro  Esquerda se solidarizou com facada em 2018, ao...   \n",
       "2  bolsonaro  Bolsonaro cometeu crime contra a humanidade na...   \n",
       "3  bolsonaro  Crítico de Bolsonaro compra domínio e ‘recria’...   \n",
       "4  bolsonaro  Bolsonaro cometeu crime contra a humanidade na...   \n",
       "\n",
       "                                           Descrição              Data  \\\n",
       "0  O presidente Jair Bolsonaro (PL) fez críticas ...  02/09/2022 15:30   \n",
       "1  Diferentemente do que disse o presidente Jair ...  02/09/2022 17:48   \n",
       "2  O júri simbólico do Tribunal Permanente dos Po...  01/09/2022 14:08   \n",
       "3  Um site que antes era usado para exibir feitos...  31/08/2022 12:21   \n",
       "4  O júri simbólico do Tribunal Permanente dos Po...  01/09/2022 14:08   \n",
       "\n",
       "   Pagina  Target                                      P_Chave  \n",
       "0       1       0                                 críticas TSE  \n",
       "1       1       0           contrário diferentemente Bolsonaro  \n",
       "2       2       0            condenou crime sentença Bolsonaro  \n",
       "3       2       0  críticas Bolsonaro presidente ameaça Brasil  \n",
       "4       2       0            condenou crime sentença Bolsonaro  "
      ]
     },
     "execution_count": 36,
     "metadata": {},
     "output_type": "execute_result"
    }
   ],
   "source": [
    "test = pd.read_excel(filename, sheet_name = 'Teste')\n",
    "test.head(5)"
   ]
  },
  {
   "cell_type": "markdown",
   "metadata": {},
   "source": [
    "___\n",
    "## Classificador automático\n"
   ]
  },
  {
   "cell_type": "markdown",
   "metadata": {},
   "source": [
    "Faça aqui uma descrição do seu assunto e o que considerou como relevante ou não relevante na classificação das notícias (Target).\n",
    "\n",
    "ESCREVA AQUI..."
   ]
  },
  {
   "cell_type": "markdown",
   "metadata": {},
   "source": [
    "___\n",
    "### Montando um Classificador Naive-Bayes\n",
    "\n",
    "Considerando apenas as mensagens da planilha Treinamento, ensine  seu classificador."
   ]
  },
  {
   "cell_type": "code",
   "execution_count": 37,
   "metadata": {},
   "outputs": [],
   "source": [
    "import re \n",
    "\n",
    "\n",
    "def limpador(text):\n",
    "    \"\"\"\n",
    "        Função de limpeza muito simples que troca alguns sinais básicos por espaços\n",
    "    \"\"\"\n",
    "    #import string\n",
    "    punctuation = '[!-.:?;%()‘’“”]' # Note que os sinais [] são delimitadores de um conjunto.\n",
    "    pattern = re.compile(punctuation)\n",
    "    text_subbed = re.sub(pattern, '', text)\n",
    "    text_subbed = text_subbed.lower()\n",
    "    return text_subbed"
   ]
  },
  {
   "cell_type": "code",
   "execution_count": 38,
   "metadata": {},
   "outputs": [
    {
     "data": {
      "text/html": [
       "<div>\n",
       "<style scoped>\n",
       "    .dataframe tbody tr th:only-of-type {\n",
       "        vertical-align: middle;\n",
       "    }\n",
       "\n",
       "    .dataframe tbody tr th {\n",
       "        vertical-align: top;\n",
       "    }\n",
       "\n",
       "    .dataframe thead th {\n",
       "        text-align: right;\n",
       "    }\n",
       "</style>\n",
       "<table border=\"1\" class=\"dataframe\">\n",
       "  <thead>\n",
       "    <tr style=\"text-align: right;\">\n",
       "      <th></th>\n",
       "      <th>Categoria</th>\n",
       "      <th>Titulo</th>\n",
       "      <th>Descrição</th>\n",
       "      <th>Data</th>\n",
       "      <th>Pagina</th>\n",
       "      <th>Target</th>\n",
       "      <th>P_Chave</th>\n",
       "    </tr>\n",
       "  </thead>\n",
       "  <tbody>\n",
       "    <tr>\n",
       "      <th>0</th>\n",
       "      <td>bolsonaro</td>\n",
       "      <td>após repercussão site com críticas ao presiden...</td>\n",
       "      <td>após a repercussão o domínio bolsonarocombr co...</td>\n",
       "      <td>01/09/2022 15:50</td>\n",
       "      <td>1</td>\n",
       "      <td>0</td>\n",
       "      <td>crítica e acusações sobre a família bolsonaro</td>\n",
       "    </tr>\n",
       "    <tr>\n",
       "      <th>1</th>\n",
       "      <td>bolsonaro</td>\n",
       "      <td>bolsonaro chama de narrativa críticas de compo...</td>\n",
       "      <td>o presidente jair bolsonaro pl atribuiu a uma ...</td>\n",
       "      <td>01/09/2022 20:56</td>\n",
       "      <td>1</td>\n",
       "      <td>0</td>\n",
       "      <td>ataques à jornalista</td>\n",
       "    </tr>\n",
       "    <tr>\n",
       "      <th>2</th>\n",
       "      <td>bolsonaro</td>\n",
       "      <td>lula cai dois pontos bolsonaro fica estável di...</td>\n",
       "      <td>uma nova pesquisa datafolha presidencial foi d...</td>\n",
       "      <td>01/09/2022 21:42</td>\n",
       "      <td>1</td>\n",
       "      <td>0</td>\n",
       "      <td>nan</td>\n",
       "    </tr>\n",
       "    <tr>\n",
       "      <th>3</th>\n",
       "      <td>bolsonaro</td>\n",
       "      <td>datafolha entre mulheres lula tem 48 bolsonaro 29</td>\n",
       "      <td>a pesquisa do instituto datafolha divulgada ne...</td>\n",
       "      <td>01/09/2022 22:01</td>\n",
       "      <td>1</td>\n",
       "      <td>0</td>\n",
       "      <td>protagonizou agressão verbal à jornalista vera</td>\n",
       "    </tr>\n",
       "    <tr>\n",
       "      <th>4</th>\n",
       "      <td>bolsonaro</td>\n",
       "      <td>lula diz que orçamento de bolsonaro não prevê ...</td>\n",
       "      <td>o expresidente e candidato luiz inácio lula da...</td>\n",
       "      <td>01/09/2022 22:24</td>\n",
       "      <td>1</td>\n",
       "      <td>0</td>\n",
       "      <td>não inclui reajuste do salário mínimo</td>\n",
       "    </tr>\n",
       "  </tbody>\n",
       "</table>\n",
       "</div>"
      ],
      "text/plain": [
       "   Categoria                                             Titulo  \\\n",
       "0  bolsonaro  após repercussão site com críticas ao presiden...   \n",
       "1  bolsonaro  bolsonaro chama de narrativa críticas de compo...   \n",
       "2  bolsonaro  lula cai dois pontos bolsonaro fica estável di...   \n",
       "3  bolsonaro  datafolha entre mulheres lula tem 48 bolsonaro 29   \n",
       "4  bolsonaro  lula diz que orçamento de bolsonaro não prevê ...   \n",
       "\n",
       "                                           Descrição              Data  \\\n",
       "0  após a repercussão o domínio bolsonarocombr co...  01/09/2022 15:50   \n",
       "1  o presidente jair bolsonaro pl atribuiu a uma ...  01/09/2022 20:56   \n",
       "2  uma nova pesquisa datafolha presidencial foi d...  01/09/2022 21:42   \n",
       "3  a pesquisa do instituto datafolha divulgada ne...  01/09/2022 22:01   \n",
       "4  o expresidente e candidato luiz inácio lula da...  01/09/2022 22:24   \n",
       "\n",
       "   Pagina  Target                                         P_Chave  \n",
       "0       1       0   crítica e acusações sobre a família bolsonaro  \n",
       "1       1       0                            ataques à jornalista  \n",
       "2       1       0                                             nan  \n",
       "3       1       0  protagonizou agressão verbal à jornalista vera  \n",
       "4       1       0           não inclui reajuste do salário mínimo  "
      ]
     },
     "execution_count": 38,
     "metadata": {},
     "output_type": "execute_result"
    }
   ],
   "source": [
    "train['P_Chave']=train['P_Chave'].astype(str)\n",
    "train['Titulo']=train['Titulo'].astype(str)\n",
    "train['Descrição']=train['Descrição'].astype(str)\n",
    "\n",
    "train['Descrição']=train['Descrição'].apply(limpador)\n",
    "train['Titulo']=train['Titulo'].apply(limpador)\n",
    "train['P_Chave']=train['P_Chave'].apply(limpador)\n",
    "\n",
    "train.head()\n"
   ]
  },
  {
   "cell_type": "code",
   "execution_count": 39,
   "metadata": {},
   "outputs": [
    {
     "data": {
      "text/html": [
       "<div>\n",
       "<style scoped>\n",
       "    .dataframe tbody tr th:only-of-type {\n",
       "        vertical-align: middle;\n",
       "    }\n",
       "\n",
       "    .dataframe tbody tr th {\n",
       "        vertical-align: top;\n",
       "    }\n",
       "\n",
       "    .dataframe thead th {\n",
       "        text-align: right;\n",
       "    }\n",
       "</style>\n",
       "<table border=\"1\" class=\"dataframe\">\n",
       "  <thead>\n",
       "    <tr style=\"text-align: right;\">\n",
       "      <th></th>\n",
       "      <th>Titulo</th>\n",
       "      <th>Descrição</th>\n",
       "    </tr>\n",
       "  </thead>\n",
       "  <tbody>\n",
       "    <tr>\n",
       "      <th>0</th>\n",
       "      <td>após repercussão site com críticas ao presiden...</td>\n",
       "      <td>após a repercussão o domínio bolsonarocombr co...</td>\n",
       "    </tr>\n",
       "    <tr>\n",
       "      <th>1</th>\n",
       "      <td>bolsonaro chama de narrativa críticas de compo...</td>\n",
       "      <td>o presidente jair bolsonaro pl atribuiu a uma ...</td>\n",
       "    </tr>\n",
       "    <tr>\n",
       "      <th>2</th>\n",
       "      <td>lula cai dois pontos bolsonaro fica estável di...</td>\n",
       "      <td>uma nova pesquisa datafolha presidencial foi d...</td>\n",
       "    </tr>\n",
       "    <tr>\n",
       "      <th>3</th>\n",
       "      <td>datafolha entre mulheres lula tem 48 bolsonaro 29</td>\n",
       "      <td>a pesquisa do instituto datafolha divulgada ne...</td>\n",
       "    </tr>\n",
       "    <tr>\n",
       "      <th>4</th>\n",
       "      <td>lula diz que orçamento de bolsonaro não prevê ...</td>\n",
       "      <td>o expresidente e candidato luiz inácio lula da...</td>\n",
       "    </tr>\n",
       "  </tbody>\n",
       "</table>\n",
       "</div>"
      ],
      "text/plain": [
       "                                              Titulo  \\\n",
       "0  após repercussão site com críticas ao presiden...   \n",
       "1  bolsonaro chama de narrativa críticas de compo...   \n",
       "2  lula cai dois pontos bolsonaro fica estável di...   \n",
       "3  datafolha entre mulheres lula tem 48 bolsonaro 29   \n",
       "4  lula diz que orçamento de bolsonaro não prevê ...   \n",
       "\n",
       "                                           Descrição  \n",
       "0  após a repercussão o domínio bolsonarocombr co...  \n",
       "1  o presidente jair bolsonaro pl atribuiu a uma ...  \n",
       "2  uma nova pesquisa datafolha presidencial foi d...  \n",
       "3  a pesquisa do instituto datafolha divulgada ne...  \n",
       "4  o expresidente e candidato luiz inácio lula da...  "
      ]
     },
     "execution_count": 39,
     "metadata": {},
     "output_type": "execute_result"
    }
   ],
   "source": [
    "train_0 = train.loc[train['Target'] == 0 , ['Titulo','Descrição']]#,'P_Chave']]\n",
    "train_0.head()\n"
   ]
  },
  {
   "cell_type": "code",
   "execution_count": 40,
   "metadata": {},
   "outputs": [
    {
     "data": {
      "text/html": [
       "<div>\n",
       "<style scoped>\n",
       "    .dataframe tbody tr th:only-of-type {\n",
       "        vertical-align: middle;\n",
       "    }\n",
       "\n",
       "    .dataframe tbody tr th {\n",
       "        vertical-align: top;\n",
       "    }\n",
       "\n",
       "    .dataframe thead th {\n",
       "        text-align: right;\n",
       "    }\n",
       "</style>\n",
       "<table border=\"1\" class=\"dataframe\">\n",
       "  <thead>\n",
       "    <tr style=\"text-align: right;\">\n",
       "      <th></th>\n",
       "      <th>Titulo</th>\n",
       "      <th>Descrição</th>\n",
       "    </tr>\n",
       "  </thead>\n",
       "  <tbody>\n",
       "    <tr>\n",
       "      <th>109</th>\n",
       "      <td>bolsonaro diz que projeto da carteira verde e ...</td>\n",
       "      <td>o presidente e candidato à reeleição jair bols...</td>\n",
       "    </tr>\n",
       "    <tr>\n",
       "      <th>110</th>\n",
       "      <td>entenda por que será difícil manter o ritmo de...</td>\n",
       "      <td>a notícia de aumento de 12 no produto interno ...</td>\n",
       "    </tr>\n",
       "    <tr>\n",
       "      <th>111</th>\n",
       "      <td>bolsonaro comemora queda no preço da gasolina ...</td>\n",
       "      <td>após ter dito na quartafeira que haveria uma b...</td>\n",
       "    </tr>\n",
       "    <tr>\n",
       "      <th>112</th>\n",
       "      <td>ministro da justiça manda pf investigar site a...</td>\n",
       "      <td>o ministério da justiça pediu uma investigação...</td>\n",
       "    </tr>\n",
       "    <tr>\n",
       "      <th>113</th>\n",
       "      <td>abin faz seu trabalho diz bolsonaro após pf ap...</td>\n",
       "      <td>o presidente jair bolsonaro pl negou nesta ter...</td>\n",
       "    </tr>\n",
       "  </tbody>\n",
       "</table>\n",
       "</div>"
      ],
      "text/plain": [
       "                                                Titulo  \\\n",
       "109  bolsonaro diz que projeto da carteira verde e ...   \n",
       "110  entenda por que será difícil manter o ritmo de...   \n",
       "111  bolsonaro comemora queda no preço da gasolina ...   \n",
       "112  ministro da justiça manda pf investigar site a...   \n",
       "113  abin faz seu trabalho diz bolsonaro após pf ap...   \n",
       "\n",
       "                                             Descrição  \n",
       "109  o presidente e candidato à reeleição jair bols...  \n",
       "110  a notícia de aumento de 12 no produto interno ...  \n",
       "111  após ter dito na quartafeira que haveria uma b...  \n",
       "112  o ministério da justiça pediu uma investigação...  \n",
       "113  o presidente jair bolsonaro pl negou nesta ter...  "
      ]
     },
     "execution_count": 40,
     "metadata": {},
     "output_type": "execute_result"
    }
   ],
   "source": [
    "train_1 = train.loc[train['Target'] == 1 , ['Titulo', 'Descrição']]#, 'P_Chave']]\n",
    "\n",
    "train_1.head(5)"
   ]
  },
  {
   "cell_type": "code",
   "execution_count": 41,
   "metadata": {},
   "outputs": [
    {
     "data": {
      "text/html": [
       "<div>\n",
       "<style scoped>\n",
       "    .dataframe tbody tr th:only-of-type {\n",
       "        vertical-align: middle;\n",
       "    }\n",
       "\n",
       "    .dataframe tbody tr th {\n",
       "        vertical-align: top;\n",
       "    }\n",
       "\n",
       "    .dataframe thead th {\n",
       "        text-align: right;\n",
       "    }\n",
       "</style>\n",
       "<table border=\"1\" class=\"dataframe\">\n",
       "  <thead>\n",
       "    <tr style=\"text-align: right;\">\n",
       "      <th></th>\n",
       "      <th>Titulo</th>\n",
       "      <th>Descrição</th>\n",
       "    </tr>\n",
       "  </thead>\n",
       "  <tbody>\n",
       "    <tr>\n",
       "      <th>5</th>\n",
       "      <td>datafolha 52 dizem não votar em bolsonaro de j...</td>\n",
       "      <td>nova rodada da pesquisa datafolha divulgada ne...</td>\n",
       "    </tr>\n",
       "    <tr>\n",
       "      <th>14</th>\n",
       "      <td>lula tem 44 e bolsonaro 32 na pesquisa ipec</td>\n",
       "      <td>o expresidente luiz inácio lula da silva pt se...</td>\n",
       "    </tr>\n",
       "    <tr>\n",
       "      <th>15</th>\n",
       "      <td>média estadão dados aponta lula com 51 dos vot...</td>\n",
       "      <td>o agregador de pesquisas eleitorais do estadão...</td>\n",
       "    </tr>\n",
       "    <tr>\n",
       "      <th>20</th>\n",
       "      <td>média estadão dados mostra lula com 51 dos vot...</td>\n",
       "      <td>o agregador de pesquisas eleitorais do estadão...</td>\n",
       "    </tr>\n",
       "    <tr>\n",
       "      <th>237</th>\n",
       "      <td>cármen nega pedido para remover vídeos em que ...</td>\n",
       "      <td>a ministra cármen lúcia do tribunal superior e...</td>\n",
       "    </tr>\n",
       "  </tbody>\n",
       "</table>\n",
       "</div>"
      ],
      "text/plain": [
       "                                                Titulo  \\\n",
       "5    datafolha 52 dizem não votar em bolsonaro de j...   \n",
       "14         lula tem 44 e bolsonaro 32 na pesquisa ipec   \n",
       "15   média estadão dados aponta lula com 51 dos vot...   \n",
       "20   média estadão dados mostra lula com 51 dos vot...   \n",
       "237  cármen nega pedido para remover vídeos em que ...   \n",
       "\n",
       "                                             Descrição  \n",
       "5    nova rodada da pesquisa datafolha divulgada ne...  \n",
       "14   o expresidente luiz inácio lula da silva pt se...  \n",
       "15   o agregador de pesquisas eleitorais do estadão...  \n",
       "20   o agregador de pesquisas eleitorais do estadão...  \n",
       "237  a ministra cármen lúcia do tribunal superior e...  "
      ]
     },
     "execution_count": 41,
     "metadata": {},
     "output_type": "execute_result"
    }
   ],
   "source": [
    "train_2 = train.loc[train['Target'] == 2, ['Titulo','Descrição']]#,'P_Chave']]\n",
    "train_2.head()"
   ]
  },
  {
   "cell_type": "code",
   "execution_count": 42,
   "metadata": {
    "scrolled": true
   },
   "outputs": [
    {
     "data": {
      "text/plain": [
       "Titulo       object\n",
       "Descrição    object\n",
       "dtype: object"
      ]
     },
     "execution_count": 42,
     "metadata": {},
     "output_type": "execute_result"
    }
   ],
   "source": [
    "train_2.dtypes"
   ]
  },
  {
   "cell_type": "markdown",
   "metadata": {},
   "source": [
    "# Lista de Palavras da Coluna Irrelevante (2)"
   ]
  },
  {
   "cell_type": "code",
   "execution_count": 43,
   "metadata": {},
   "outputs": [],
   "source": [
    "lista_train2=[]\n",
    "lista_train2_quero=[]\n",
    "z = 0\n",
    "while z < 2:#3:\n",
    "    for i in range(0,len(train_2)):\n",
    "        quero=train_2.iloc[i,z]\n",
    "        final = quero.split()\n",
    "        lista_train2+=(final)\n",
    "    z += 1\n",
    "w=0\n",
    "excluidos=['[…]','nan','–','de','a','o','e','na','no','do','em','ao','da','é','à','os','nas','nos','das','que',\n",
    "          'dos','as','r','se','para', '', 'como', 'com', 'um', 'nesta', 'diz', 'uma', 'por', 'foi', 'vai', 'após', 'durante',\n",
    "          'ele', 'ela', 'pelo', 'pela', 'segundafeira', 'terçafeira', 'quartafeira', 'quintafeira', 'sextafeira', \n",
    "          'sábado', 'domingo', 'são', 'ser']\n",
    "while w <len(lista_train2):\n",
    "    if lista_train2[w] not in excluidos:\n",
    "        lista_train2_quero.append(lista_train2[w])\n",
    "    w+=1\n",
    "\n",
    "#print(lista_train2_quero)\n"
   ]
  },
  {
   "cell_type": "code",
   "execution_count": 44,
   "metadata": {},
   "outputs": [
    {
     "data": {
      "text/plain": [
       "10576"
      ]
     },
     "execution_count": 44,
     "metadata": {},
     "output_type": "execute_result"
    }
   ],
   "source": [
    "len(lista_train2_quero)"
   ]
  },
  {
   "cell_type": "code",
   "execution_count": 45,
   "metadata": {},
   "outputs": [
    {
     "data": {
      "text/plain": [
       "bolsonaro       0.040564\n",
       "presidente      0.023071\n",
       "jair            0.017965\n",
       "pl              0.013238\n",
       "lula            0.010685\n",
       "não             0.009077\n",
       "pt              0.005862\n",
       "brasil          0.005011\n",
       "luiz            0.004728\n",
       "inácio          0.004539\n",
       "mais            0.004444\n",
       "expresidente    0.004255\n",
       "silva           0.004160\n",
       "entre           0.004066\n",
       "eleitoral       0.003971\n",
       "federal         0.003971\n",
       "tem             0.003877\n",
       "república       0.003782\n",
       "tribunal        0.003498\n",
       "afirmou         0.003498\n",
       "dtype: float64"
      ]
     },
     "execution_count": 45,
     "metadata": {},
     "output_type": "execute_result"
    }
   ],
   "source": [
    "serie_2=pd.Series(lista_train2_quero).value_counts(True)\n",
    "serie_2.head(20)\n",
    "#serie_2.count()"
   ]
  },
  {
   "cell_type": "markdown",
   "metadata": {},
   "source": [
    "# Lista de Palavras da Coluna Positiva (1)\n"
   ]
  },
  {
   "cell_type": "code",
   "execution_count": 46,
   "metadata": {},
   "outputs": [],
   "source": [
    "lista_train1=[]\n",
    "lista_train1_quero=[]\n",
    "z = 0\n",
    "while z < 2:#3:\n",
    "    for i in range(0,len(train_1)):\n",
    "        quero=train_1.iloc[i,z]\n",
    "        final = quero.split()\n",
    "        lista_train1+=(final)\n",
    "    z += 1\n",
    "w=0\n",
    "while w <len(lista_train1):\n",
    "    if lista_train1[w] not in excluidos:\n",
    "        lista_train1_quero.append(lista_train1[w])\n",
    "    w+=1\n",
    "\n",
    "#print(lista_train1_quero)"
   ]
  },
  {
   "cell_type": "code",
   "execution_count": 47,
   "metadata": {},
   "outputs": [
    {
     "data": {
      "text/plain": [
       "2050"
      ]
     },
     "execution_count": 47,
     "metadata": {},
     "output_type": "execute_result"
    }
   ],
   "source": [
    "serie_1=pd.Series(lista_train1_quero).value_counts(True)\n",
    "serie_1.head(20)\n",
    "serie_1.count()"
   ]
  },
  {
   "cell_type": "markdown",
   "metadata": {},
   "source": [
    "# Lista de Palavras da Coluna Negativa (0)"
   ]
  },
  {
   "cell_type": "code",
   "execution_count": 48,
   "metadata": {},
   "outputs": [],
   "source": [
    "lista_train0=[]\n",
    "lista_train0_quero=[]\n",
    "z = 0\n",
    "while z < 2:#3:\n",
    "    for i in range(0,len(train_0)):\n",
    "        quero=train_0.iloc[i,z]\n",
    "        final = quero.split()\n",
    "        lista_train0+=(final)\n",
    "    z += 1\n",
    "w=0\n",
    "while w <len(lista_train0):\n",
    "    if lista_train0[w] not in excluidos:\n",
    "        lista_train0_quero.append(lista_train0[w])\n",
    "    w+=1\n",
    "\n",
    "#print(lista_train0_quero)"
   ]
  },
  {
   "cell_type": "code",
   "execution_count": 49,
   "metadata": {},
   "outputs": [
    {
     "data": {
      "text/plain": [
       "1842"
      ]
     },
     "execution_count": 49,
     "metadata": {},
     "output_type": "execute_result"
    }
   ],
   "source": [
    "serie_0=pd.Series(lista_train0_quero).value_counts(True)\n",
    "serie_0.head(20)\n",
    "serie_0.count()"
   ]
  },
  {
   "cell_type": "markdown",
   "metadata": {},
   "source": [
    "# Encontrando Probabilidades Totais"
   ]
  },
  {
   "cell_type": "code",
   "execution_count": 50,
   "metadata": {},
   "outputs": [
    {
     "name": "stdout",
     "output_type": "stream",
     "text": [
      "Target    480\n",
      "dtype: int64\n"
     ]
    }
   ],
   "source": [
    "target_manual=train['Target'].value_counts()\n",
    "target_manual\n",
    "\n",
    "t0 = target_manual.to_frame().loc[0]\n",
    "t1 = target_manual.to_frame().loc[1]\n",
    "t2 = target_manual.to_frame().loc[2]\n",
    "\n",
    "total = t0 + t1 + t2\n",
    "print(total)"
   ]
  },
  {
   "cell_type": "code",
   "execution_count": 51,
   "metadata": {},
   "outputs": [
    {
     "name": "stdout",
     "output_type": "stream",
     "text": [
      "Probabilidade NEGATIVAS/TOTAL: 0.21875\n",
      "Probabilidade POSITIVA/TOTAL: 0.26667\n",
      "Probabilidade NEUTRA/TOTAL: 0.51458\n"
     ]
    }
   ],
   "source": [
    "prob_0=t0/total\n",
    "prob_1=t1/total\n",
    "prob_2=t2/total\n",
    "\n",
    "print(f'Probabilidade NEGATIVAS/TOTAL: {float(prob_0):.5f}')\n",
    "print(f'Probabilidade POSITIVA/TOTAL: {float(prob_1):.5f}')\n",
    "print(f'Probabilidade NEUTRA/TOTAL: {float(prob_2):.5f}')"
   ]
  },
  {
   "cell_type": "markdown",
   "metadata": {},
   "source": [
    "# Criando o Classificador"
   ]
  },
  {
   "cell_type": "code",
   "execution_count": 52,
   "metadata": {},
   "outputs": [],
   "source": [
    "test['P_Chave']=test['P_Chave'].astype(str)\n",
    "test['Titulo']=test['Titulo'].astype(str)\n",
    "test['Descrição']=test['Descrição'].astype(str)\n",
    "\n",
    "test['Descrição']=test['Descrição'].apply(limpador)\n",
    "test['Titulo']=test['Titulo'].apply(limpador)\n",
    "test['P_Chave']=test['P_Chave'].apply(limpador)"
   ]
  },
  {
   "cell_type": "code",
   "execution_count": 53,
   "metadata": {},
   "outputs": [
    {
     "data": {
      "text/html": [
       "<div>\n",
       "<style scoped>\n",
       "    .dataframe tbody tr th:only-of-type {\n",
       "        vertical-align: middle;\n",
       "    }\n",
       "\n",
       "    .dataframe tbody tr th {\n",
       "        vertical-align: top;\n",
       "    }\n",
       "\n",
       "    .dataframe thead th {\n",
       "        text-align: right;\n",
       "    }\n",
       "</style>\n",
       "<table border=\"1\" class=\"dataframe\">\n",
       "  <thead>\n",
       "    <tr style=\"text-align: right;\">\n",
       "      <th></th>\n",
       "      <th>Categoria</th>\n",
       "      <th>Titulo</th>\n",
       "      <th>Descrição</th>\n",
       "      <th>Data</th>\n",
       "      <th>Pagina</th>\n",
       "      <th>Target</th>\n",
       "      <th>P_Chave</th>\n",
       "      <th>Auto_Target</th>\n",
       "    </tr>\n",
       "  </thead>\n",
       "  <tbody>\n",
       "    <tr>\n",
       "      <th>0</th>\n",
       "      <td>bolsonaro</td>\n",
       "      <td>bolsonaro critica tse e diz que medidas da cor...</td>\n",
       "      <td>o presidente jair bolsonaro pl fez críticas ne...</td>\n",
       "      <td>02/09/2022 15:30</td>\n",
       "      <td>1</td>\n",
       "      <td>0</td>\n",
       "      <td>críticas tse</td>\n",
       "      <td>Vazio</td>\n",
       "    </tr>\n",
       "    <tr>\n",
       "      <th>1</th>\n",
       "      <td>bolsonaro</td>\n",
       "      <td>esquerda se solidarizou com facada em 2018 ao ...</td>\n",
       "      <td>diferentemente do que disse o presidente jair ...</td>\n",
       "      <td>02/09/2022 17:48</td>\n",
       "      <td>1</td>\n",
       "      <td>0</td>\n",
       "      <td>contrário diferentemente bolsonaro</td>\n",
       "      <td>Vazio</td>\n",
       "    </tr>\n",
       "    <tr>\n",
       "      <th>2</th>\n",
       "      <td>bolsonaro</td>\n",
       "      <td>bolsonaro cometeu crime contra a humanidade na...</td>\n",
       "      <td>o júri simbólico do tribunal permanente dos po...</td>\n",
       "      <td>01/09/2022 14:08</td>\n",
       "      <td>2</td>\n",
       "      <td>0</td>\n",
       "      <td>condenou crime sentença bolsonaro</td>\n",
       "      <td>Vazio</td>\n",
       "    </tr>\n",
       "    <tr>\n",
       "      <th>3</th>\n",
       "      <td>bolsonaro</td>\n",
       "      <td>crítico de bolsonaro compra domínio e recria s...</td>\n",
       "      <td>um site que antes era usado para exibir feitos...</td>\n",
       "      <td>31/08/2022 12:21</td>\n",
       "      <td>2</td>\n",
       "      <td>0</td>\n",
       "      <td>críticas bolsonaro presidente ameaça brasil</td>\n",
       "      <td>Vazio</td>\n",
       "    </tr>\n",
       "    <tr>\n",
       "      <th>4</th>\n",
       "      <td>bolsonaro</td>\n",
       "      <td>bolsonaro cometeu crime contra a humanidade na...</td>\n",
       "      <td>o júri simbólico do tribunal permanente dos po...</td>\n",
       "      <td>01/09/2022 14:08</td>\n",
       "      <td>2</td>\n",
       "      <td>0</td>\n",
       "      <td>condenou crime sentença bolsonaro</td>\n",
       "      <td>Vazio</td>\n",
       "    </tr>\n",
       "  </tbody>\n",
       "</table>\n",
       "</div>"
      ],
      "text/plain": [
       "   Categoria                                             Titulo  \\\n",
       "0  bolsonaro  bolsonaro critica tse e diz que medidas da cor...   \n",
       "1  bolsonaro  esquerda se solidarizou com facada em 2018 ao ...   \n",
       "2  bolsonaro  bolsonaro cometeu crime contra a humanidade na...   \n",
       "3  bolsonaro  crítico de bolsonaro compra domínio e recria s...   \n",
       "4  bolsonaro  bolsonaro cometeu crime contra a humanidade na...   \n",
       "\n",
       "                                           Descrição              Data  \\\n",
       "0  o presidente jair bolsonaro pl fez críticas ne...  02/09/2022 15:30   \n",
       "1  diferentemente do que disse o presidente jair ...  02/09/2022 17:48   \n",
       "2  o júri simbólico do tribunal permanente dos po...  01/09/2022 14:08   \n",
       "3  um site que antes era usado para exibir feitos...  31/08/2022 12:21   \n",
       "4  o júri simbólico do tribunal permanente dos po...  01/09/2022 14:08   \n",
       "\n",
       "   Pagina  Target                                      P_Chave Auto_Target  \n",
       "0       1       0                                 críticas tse       Vazio  \n",
       "1       1       0           contrário diferentemente bolsonaro       Vazio  \n",
       "2       2       0            condenou crime sentença bolsonaro       Vazio  \n",
       "3       2       0  críticas bolsonaro presidente ameaça brasil       Vazio  \n",
       "4       2       0            condenou crime sentença bolsonaro       Vazio  "
      ]
     },
     "execution_count": 53,
     "metadata": {},
     "output_type": "execute_result"
    }
   ],
   "source": [
    "test['Auto_Target']='Vazio'\n",
    "test.head()"
   ]
  },
  {
   "cell_type": "code",
   "execution_count": 54,
   "metadata": {},
   "outputs": [
    {
     "data": {
      "text/plain": [
       "2    187\n",
       "1     80\n",
       "0     53\n",
       "Name: Target, dtype: int64"
      ]
     },
     "execution_count": 54,
     "metadata": {},
     "output_type": "execute_result"
    }
   ],
   "source": [
    "target=test['Target']\n",
    "target.value_counts()"
   ]
  },
  {
   "cell_type": "markdown",
   "metadata": {},
   "source": [
    "___\n",
    "### Verificando a performance do Classificador\n",
    "\n",
    "Agora você deve testar o seu classificador com a base de Testes."
   ]
  },
  {
   "cell_type": "code",
   "execution_count": 55,
   "metadata": {},
   "outputs": [
    {
     "data": {
      "text/html": [
       "<div>\n",
       "<style scoped>\n",
       "    .dataframe tbody tr th:only-of-type {\n",
       "        vertical-align: middle;\n",
       "    }\n",
       "\n",
       "    .dataframe tbody tr th {\n",
       "        vertical-align: top;\n",
       "    }\n",
       "\n",
       "    .dataframe thead th {\n",
       "        text-align: right;\n",
       "    }\n",
       "</style>\n",
       "<table border=\"1\" class=\"dataframe\">\n",
       "  <thead>\n",
       "    <tr style=\"text-align: right;\">\n",
       "      <th></th>\n",
       "      <th>Titulo</th>\n",
       "      <th>Descrição</th>\n",
       "    </tr>\n",
       "  </thead>\n",
       "  <tbody>\n",
       "    <tr>\n",
       "      <th>0</th>\n",
       "      <td>bolsonaro critica tse e diz que medidas da cor...</td>\n",
       "      <td>o presidente jair bolsonaro pl fez críticas ne...</td>\n",
       "    </tr>\n",
       "    <tr>\n",
       "      <th>1</th>\n",
       "      <td>esquerda se solidarizou com facada em 2018 ao ...</td>\n",
       "      <td>diferentemente do que disse o presidente jair ...</td>\n",
       "    </tr>\n",
       "    <tr>\n",
       "      <th>2</th>\n",
       "      <td>bolsonaro cometeu crime contra a humanidade na...</td>\n",
       "      <td>o júri simbólico do tribunal permanente dos po...</td>\n",
       "    </tr>\n",
       "    <tr>\n",
       "      <th>3</th>\n",
       "      <td>crítico de bolsonaro compra domínio e recria s...</td>\n",
       "      <td>um site que antes era usado para exibir feitos...</td>\n",
       "    </tr>\n",
       "    <tr>\n",
       "      <th>4</th>\n",
       "      <td>bolsonaro cometeu crime contra a humanidade na...</td>\n",
       "      <td>o júri simbólico do tribunal permanente dos po...</td>\n",
       "    </tr>\n",
       "  </tbody>\n",
       "</table>\n",
       "</div>"
      ],
      "text/plain": [
       "                                              Titulo  \\\n",
       "0  bolsonaro critica tse e diz que medidas da cor...   \n",
       "1  esquerda se solidarizou com facada em 2018 ao ...   \n",
       "2  bolsonaro cometeu crime contra a humanidade na...   \n",
       "3  crítico de bolsonaro compra domínio e recria s...   \n",
       "4  bolsonaro cometeu crime contra a humanidade na...   \n",
       "\n",
       "                                           Descrição  \n",
       "0  o presidente jair bolsonaro pl fez críticas ne...  \n",
       "1  diferentemente do que disse o presidente jair ...  \n",
       "2  o júri simbólico do tribunal permanente dos po...  \n",
       "3  um site que antes era usado para exibir feitos...  \n",
       "4  o júri simbólico do tribunal permanente dos po...  "
      ]
     },
     "execution_count": 55,
     "metadata": {},
     "output_type": "execute_result"
    }
   ],
   "source": [
    "test_TDP =test[['Titulo', 'Descrição']]#, 'P_Chave']]\n",
    "test_TDP.head()"
   ]
  },
  {
   "cell_type": "code",
   "execution_count": 57,
   "metadata": {},
   "outputs": [],
   "source": [
    "neutro=positivo=negativo=0\n",
    "for i in range(0, len(test_TDP)):\n",
    "    frases = ''\n",
    "    lista_splits = []\n",
    "    probFraseDado0 = 0\n",
    "    probFraseDado1 = 0\n",
    "    probFraseDado2 = 0\n",
    "    for j in range(0,2):#3):\n",
    "        frases += test_TDP.iloc[i,j]\n",
    "    lista_splits = frases.split()\n",
    "    for w in range(0, len(lista_splits)):\n",
    "        palavra = lista_splits[w]\n",
    "        if palavra in lista_train0_quero:\n",
    "            if probFraseDado0 == 0:\n",
    "                probFraseDado0 = serie_0[palavra]\n",
    "            else:\n",
    "                probFraseDado0 = probFraseDado0 * serie_0[palavra]\n",
    "        if palavra in lista_train1_quero:\n",
    "            if probFraseDado1 == 0:\n",
    "                probFraseDado1 = serie_1[palavra]\n",
    "            else:\n",
    "                probFraseDado1 = probFraseDado1 * serie_1[palavra]\n",
    "        if palavra in lista_train2_quero:\n",
    "            if probFraseDado2 == 0:\n",
    "                probFraseDado2 = serie_2[palavra]\n",
    "            else:\n",
    "                probFraseDado2 = probFraseDado2 * serie_2[palavra]\n",
    "    prob0DadoFrase = probFraseDado0 * prob_0\n",
    "    prob1DadoFrase = probFraseDado1 * prob_1\n",
    "    prob2DadoFrase = probFraseDado2 * prob_2\n",
    "    if float(prob0DadoFrase) < float(prob1DadoFrase) and float(prob0DadoFrase) < float(prob2DadoFrase):\n",
    "        negativo += 1\n",
    "        test.iloc[i, 7] = 0\n",
    "    elif float(prob1DadoFrase) < float(prob2DadoFrase):\n",
    "        positivo += 1\n",
    "        test.iloc[i, 7] = 1\n",
    "    else:\n",
    "        neutro += 1\n",
    "        test.iloc[i, 7] = 2\n",
    "    "
   ]
  },
  {
   "cell_type": "code",
   "execution_count": 58,
   "metadata": {},
   "outputs": [
    {
     "name": "stdout",
     "output_type": "stream",
     "text": [
      "Bot NEGATIVO: 40\n",
      "Bot POSITIVO: 61\n",
      "Bot NEUTRO: 219\n"
     ]
    }
   ],
   "source": [
    "print(f'Bot NEGATIVO: {negativo}')\n",
    "print(f'Bot POSITIVO: {positivo}')\n",
    "print(f'Bot NEUTRO: {neutro}')"
   ]
  },
  {
   "cell_type": "code",
   "execution_count": 59,
   "metadata": {},
   "outputs": [
    {
     "data": {
      "text/html": [
       "<div>\n",
       "<style scoped>\n",
       "    .dataframe tbody tr th:only-of-type {\n",
       "        vertical-align: middle;\n",
       "    }\n",
       "\n",
       "    .dataframe tbody tr th {\n",
       "        vertical-align: top;\n",
       "    }\n",
       "\n",
       "    .dataframe thead th {\n",
       "        text-align: right;\n",
       "    }\n",
       "</style>\n",
       "<table border=\"1\" class=\"dataframe\">\n",
       "  <thead>\n",
       "    <tr style=\"text-align: right;\">\n",
       "      <th></th>\n",
       "      <th>Categoria</th>\n",
       "      <th>Titulo</th>\n",
       "      <th>Descrição</th>\n",
       "      <th>Data</th>\n",
       "      <th>Pagina</th>\n",
       "      <th>Target</th>\n",
       "      <th>P_Chave</th>\n",
       "      <th>Auto_Target</th>\n",
       "    </tr>\n",
       "  </thead>\n",
       "  <tbody>\n",
       "    <tr>\n",
       "      <th>0</th>\n",
       "      <td>bolsonaro</td>\n",
       "      <td>bolsonaro critica tse e diz que medidas da cor...</td>\n",
       "      <td>o presidente jair bolsonaro pl fez críticas ne...</td>\n",
       "      <td>02/09/2022 15:30</td>\n",
       "      <td>1</td>\n",
       "      <td>0</td>\n",
       "      <td>críticas tse</td>\n",
       "      <td>2</td>\n",
       "    </tr>\n",
       "    <tr>\n",
       "      <th>1</th>\n",
       "      <td>bolsonaro</td>\n",
       "      <td>esquerda se solidarizou com facada em 2018 ao ...</td>\n",
       "      <td>diferentemente do que disse o presidente jair ...</td>\n",
       "      <td>02/09/2022 17:48</td>\n",
       "      <td>1</td>\n",
       "      <td>0</td>\n",
       "      <td>contrário diferentemente bolsonaro</td>\n",
       "      <td>2</td>\n",
       "    </tr>\n",
       "    <tr>\n",
       "      <th>2</th>\n",
       "      <td>bolsonaro</td>\n",
       "      <td>bolsonaro cometeu crime contra a humanidade na...</td>\n",
       "      <td>o júri simbólico do tribunal permanente dos po...</td>\n",
       "      <td>01/09/2022 14:08</td>\n",
       "      <td>2</td>\n",
       "      <td>0</td>\n",
       "      <td>condenou crime sentença bolsonaro</td>\n",
       "      <td>0</td>\n",
       "    </tr>\n",
       "    <tr>\n",
       "      <th>3</th>\n",
       "      <td>bolsonaro</td>\n",
       "      <td>crítico de bolsonaro compra domínio e recria s...</td>\n",
       "      <td>um site que antes era usado para exibir feitos...</td>\n",
       "      <td>31/08/2022 12:21</td>\n",
       "      <td>2</td>\n",
       "      <td>0</td>\n",
       "      <td>críticas bolsonaro presidente ameaça brasil</td>\n",
       "      <td>0</td>\n",
       "    </tr>\n",
       "    <tr>\n",
       "      <th>4</th>\n",
       "      <td>bolsonaro</td>\n",
       "      <td>bolsonaro cometeu crime contra a humanidade na...</td>\n",
       "      <td>o júri simbólico do tribunal permanente dos po...</td>\n",
       "      <td>01/09/2022 14:08</td>\n",
       "      <td>2</td>\n",
       "      <td>0</td>\n",
       "      <td>condenou crime sentença bolsonaro</td>\n",
       "      <td>0</td>\n",
       "    </tr>\n",
       "    <tr>\n",
       "      <th>5</th>\n",
       "      <td>bolsonaro</td>\n",
       "      <td>pgr defende prorrogar investigação de bolsonar...</td>\n",
       "      <td>a procuradoriageral da república pgr defendeu ...</td>\n",
       "      <td>30/08/2022 07:05</td>\n",
       "      <td>3</td>\n",
       "      <td>0</td>\n",
       "      <td>pgr investigação vacinação aids</td>\n",
       "      <td>2</td>\n",
       "    </tr>\n",
       "    <tr>\n",
       "      <th>6</th>\n",
       "      <td>bolsonaro</td>\n",
       "      <td>consultorias de orçamento discordam de veto à ...</td>\n",
       "      <td>as consultorias de orçamento da câmara e do se...</td>\n",
       "      <td>29/08/2022 15:44</td>\n",
       "      <td>3</td>\n",
       "      <td>0</td>\n",
       "      <td>senado contra bolsonaro</td>\n",
       "      <td>0</td>\n",
       "    </tr>\n",
       "    <tr>\n",
       "      <th>7</th>\n",
       "      <td>bolsonaro</td>\n",
       "      <td>entrevista de bolsonaro a jn tem panelaços em ...</td>\n",
       "      <td>as principais cidades do brasil registraram pa...</td>\n",
       "      <td>22/08/2022 20:54</td>\n",
       "      <td>6</td>\n",
       "      <td>0</td>\n",
       "      <td>panelaço</td>\n",
       "      <td>0</td>\n",
       "    </tr>\n",
       "    <tr>\n",
       "      <th>8</th>\n",
       "      <td>bolsonaro</td>\n",
       "      <td>lula tem 47 contra 32 de bolsonaro diz datafolha</td>\n",
       "      <td>o expresidente luiz inácio lula da silva pt se...</td>\n",
       "      <td>18/08/2022 19:36</td>\n",
       "      <td>7</td>\n",
       "      <td>2</td>\n",
       "      <td>lula pt dianteira corrida eleitoral</td>\n",
       "      <td>2</td>\n",
       "    </tr>\n",
       "    <tr>\n",
       "      <th>9</th>\n",
       "      <td>bolsonaro</td>\n",
       "      <td>bolsonaro passou ao centrão área com licitação...</td>\n",
       "      <td>a licitação para ligar poços de água no sertão...</td>\n",
       "      <td>19/08/2022 17:00</td>\n",
       "      <td>7</td>\n",
       "      <td>0</td>\n",
       "      <td>sobrepreço</td>\n",
       "      <td>1</td>\n",
       "    </tr>\n",
       "  </tbody>\n",
       "</table>\n",
       "</div>"
      ],
      "text/plain": [
       "   Categoria                                             Titulo  \\\n",
       "0  bolsonaro  bolsonaro critica tse e diz que medidas da cor...   \n",
       "1  bolsonaro  esquerda se solidarizou com facada em 2018 ao ...   \n",
       "2  bolsonaro  bolsonaro cometeu crime contra a humanidade na...   \n",
       "3  bolsonaro  crítico de bolsonaro compra domínio e recria s...   \n",
       "4  bolsonaro  bolsonaro cometeu crime contra a humanidade na...   \n",
       "5  bolsonaro  pgr defende prorrogar investigação de bolsonar...   \n",
       "6  bolsonaro  consultorias de orçamento discordam de veto à ...   \n",
       "7  bolsonaro  entrevista de bolsonaro a jn tem panelaços em ...   \n",
       "8  bolsonaro   lula tem 47 contra 32 de bolsonaro diz datafolha   \n",
       "9  bolsonaro  bolsonaro passou ao centrão área com licitação...   \n",
       "\n",
       "                                           Descrição              Data  \\\n",
       "0  o presidente jair bolsonaro pl fez críticas ne...  02/09/2022 15:30   \n",
       "1  diferentemente do que disse o presidente jair ...  02/09/2022 17:48   \n",
       "2  o júri simbólico do tribunal permanente dos po...  01/09/2022 14:08   \n",
       "3  um site que antes era usado para exibir feitos...  31/08/2022 12:21   \n",
       "4  o júri simbólico do tribunal permanente dos po...  01/09/2022 14:08   \n",
       "5  a procuradoriageral da república pgr defendeu ...  30/08/2022 07:05   \n",
       "6  as consultorias de orçamento da câmara e do se...  29/08/2022 15:44   \n",
       "7  as principais cidades do brasil registraram pa...  22/08/2022 20:54   \n",
       "8  o expresidente luiz inácio lula da silva pt se...  18/08/2022 19:36   \n",
       "9  a licitação para ligar poços de água no sertão...  19/08/2022 17:00   \n",
       "\n",
       "   Pagina  Target                                      P_Chave Auto_Target  \n",
       "0       1       0                                 críticas tse           2  \n",
       "1       1       0           contrário diferentemente bolsonaro           2  \n",
       "2       2       0            condenou crime sentença bolsonaro           0  \n",
       "3       2       0  críticas bolsonaro presidente ameaça brasil           0  \n",
       "4       2       0            condenou crime sentença bolsonaro           0  \n",
       "5       3       0              pgr investigação vacinação aids           2  \n",
       "6       3       0                      senado contra bolsonaro           0  \n",
       "7       6       0                                     panelaço           0  \n",
       "8       7       2          lula pt dianteira corrida eleitoral           2  \n",
       "9       7       0                                   sobrepreço           1  "
      ]
     },
     "execution_count": 59,
     "metadata": {},
     "output_type": "execute_result"
    }
   ],
   "source": [
    "#test = test.drop(test.iloc[:,8:],axis = 1)\n",
    "test.head(10)"
   ]
  },
  {
   "cell_type": "code",
   "execution_count": 60,
   "metadata": {},
   "outputs": [],
   "source": [
    "falso0 = 0\n",
    "falso1 = 0\n",
    "falso2 = 0\n",
    "\n",
    "for i in range(0, len(test)):\n",
    "    if test.iloc[i, 5] != test.iloc[i, 7]:\n",
    "        if test.iloc[i, 7] == 0:\n",
    "            falso0 += 1\n",
    "        elif test.iloc[i, 7] == 1:\n",
    "            falso1 += 1\n",
    "        else:\n",
    "            falso2 += 1"
   ]
  },
  {
   "cell_type": "code",
   "execution_count": 61,
   "metadata": {},
   "outputs": [
    {
     "name": "stdout",
     "output_type": "stream",
     "text": [
      "Bot FAKE NEGATIVO: 25\n",
      "Bot FAKE POSITIVO: 36\n",
      "Bot FAKE NEUTRO: 76\n"
     ]
    }
   ],
   "source": [
    "print(f'Bot FAKE NEGATIVO: {falso0}')\n",
    "print(f'Bot FAKE POSITIVO: {falso1}')\n",
    "print(f'Bot FAKE NEUTRO: {falso2}')"
   ]
  },
  {
   "cell_type": "code",
   "execution_count": 62,
   "metadata": {},
   "outputs": [
    {
     "name": "stdout",
     "output_type": "stream",
     "text": [
      "0.571875\n"
     ]
    }
   ],
   "source": [
    "acuracia = 1- (falso0 + falso1 + falso2) / len(test)\n",
    "\n",
    "print(acuracia)"
   ]
  },
  {
   "cell_type": "code",
   "execution_count": null,
   "metadata": {},
   "outputs": [],
   "source": []
  },
  {
   "cell_type": "markdown",
   "metadata": {},
   "source": [
    "___\n",
    "### Concluindo"
   ]
  },
  {
   "cell_type": "code",
   "execution_count": null,
   "metadata": {},
   "outputs": [],
   "source": []
  },
  {
   "cell_type": "code",
   "execution_count": null,
   "metadata": {},
   "outputs": [],
   "source": []
  },
  {
   "cell_type": "code",
   "execution_count": null,
   "metadata": {},
   "outputs": [],
   "source": []
  },
  {
   "cell_type": "markdown",
   "metadata": {},
   "source": [
    "___\n",
    "### Qualidade do Classificador a partir de novas separações das notícias entre Treinamento e Teste\n",
    "\n",
    "Caso for fazer esse item do Projeto"
   ]
  },
  {
   "cell_type": "code",
   "execution_count": null,
   "metadata": {},
   "outputs": [],
   "source": []
  },
  {
   "cell_type": "code",
   "execution_count": null,
   "metadata": {},
   "outputs": [],
   "source": []
  },
  {
   "cell_type": "code",
   "execution_count": null,
   "metadata": {},
   "outputs": [],
   "source": []
  },
  {
   "cell_type": "markdown",
   "metadata": {},
   "source": [
    "___\n",
    "## Aperfeiçoamento:\n",
    "\n",
    "Trabalhos que conseguirem pelo menos conceito B vão evoluir em conceito dependendo da quantidade de itens avançados:\n",
    "\n",
    "* IMPLEMENTOU outras limpezas e transformações que não afetem a qualidade da informação contida nas notícias. Ex: stemming, lemmatization, stopwords\n",
    "* CONSIDEROU mais de duas caterogias na variável Target e INCREMENTOU a quantidade de notícias, mantendo pelo menos 250 notícias por caterogia (OBRIGATÓRIO PARA TRIOS, sem contar como item avançado)\n",
    "* Para Target com duas categorias: CRIOU pelo menos quatro categorias intermediárias de relevância baseadas na probabilidade: ex.: muito relevante, relevante, neutro, irrelevante, muito irrelevante\n",
    "* EXPLICOU porquê não pode usar o próprio classificador para gerar mais amostras de treinamento\n",
    "* PROPÔS diferentes cenários para Naïve Bayes fora do contexto do projeto (pelo menos dois cenários, exceto aqueles já apresentados em sala pelos professores: por exemplo, filtro de spam)\n",
    "* SUGERIU e EXPLICOU melhorias reais com indicações concretas de como implementar (indicar como fazer e indicar material de pesquisa)\n",
    "* FEZ o item Qualidade do Classificador a partir de novas separações das Notícias entre Treinamento e Teste descrito no enunciado do projeto (OBRIGATÓRIO para conceitos A ou A+)"
   ]
  },
  {
   "cell_type": "markdown",
   "metadata": {},
   "source": [
    "___\n",
    "## Referências"
   ]
  },
  {
   "cell_type": "markdown",
   "metadata": {},
   "source": [
    "[Naive Bayes and Text Classification](https://arxiv.org/pdf/1410.5329.pdf)  **Mais completo**\n",
    "\n",
    "[A practical explanation of a Naive Bayes Classifier](https://monkeylearn.com/blog/practical-explanation-naive-bayes-classifier/) **Mais simples**"
   ]
  },
  {
   "cell_type": "code",
   "execution_count": null,
   "metadata": {},
   "outputs": [],
   "source": []
  }
 ],
 "metadata": {
  "kernelspec": {
   "display_name": "Python 3 (ipykernel)",
   "language": "python",
   "name": "python3"
  },
  "language_info": {
   "codemirror_mode": {
    "name": "ipython",
    "version": 3
   },
   "file_extension": ".py",
   "mimetype": "text/x-python",
   "name": "python",
   "nbconvert_exporter": "python",
   "pygments_lexer": "ipython3",
   "version": "3.9.7"
  },
  "vscode": {
   "interpreter": {
    "hash": "bd2d49180acf4888e6c19e4e0f59a062d636affdef1eef64c56316519b0294c5"
   }
  }
 },
 "nbformat": 4,
 "nbformat_minor": 4
}
