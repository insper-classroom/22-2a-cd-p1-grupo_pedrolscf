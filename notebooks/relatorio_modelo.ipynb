{
 "cells": [
  {
   "cell_type": "markdown",
   "metadata": {},
   "source": [
    "# Projeto 1 - Ciência dos Dados"
   ]
  },
  {
   "cell_type": "markdown",
   "metadata": {},
   "source": [
    "Nome: Pedro De Lucca Sartori Chagas Ferro\n",
    "\n",
    "Nome: Pedro Antônio Braga Dutra"
   ]
  },
  {
   "cell_type": "markdown",
   "metadata": {},
   "source": [
    "Atenção: Serão permitidos grupos de três pessoas, mas com uma rubrica mais exigente. Grupos deste tamanho precisarão fazer um questionário de avaliação de trabalho em equipe"
   ]
  },
  {
   "cell_type": "markdown",
   "metadata": {},
   "source": [
    "___\n",
    "Carregando algumas bibliotecas:"
   ]
  },
  {
   "cell_type": "code",
   "execution_count": 2,
   "metadata": {},
   "outputs": [],
   "source": [
    "%matplotlib inline\n",
    "import pandas as pd\n",
    "import matplotlib.pyplot as plt\n",
    "import numpy as np\n",
    "import os"
   ]
  },
  {
   "cell_type": "code",
   "execution_count": 3,
   "metadata": {
    "scrolled": false
   },
   "outputs": [
    {
     "name": "stdout",
     "output_type": "stream",
     "text": [
      "Esperamos trabalhar no diretório\n",
      "c:\\Users\\Pedro De Lucca\\Documents\\Insper\\2° Semestre\\CDados\\22-2a-cd-p1-grupo_pedrolscf\\notebooks\n"
     ]
    }
   ],
   "source": [
    "print('Esperamos trabalhar no diretório')\n",
    "print(os.getcwd())"
   ]
  },
  {
   "cell_type": "markdown",
   "metadata": {},
   "source": [
    "Carregando a base de dados com as notícias classificadas manualmente:"
   ]
  },
  {
   "cell_type": "code",
   "execution_count": 4,
   "metadata": {},
   "outputs": [],
   "source": [
    "filename = 'dados.xlsx'"
   ]
  },
  {
   "cell_type": "code",
   "execution_count": 5,
   "metadata": {},
   "outputs": [
    {
     "data": {
      "text/html": [
       "<div>\n",
       "<style scoped>\n",
       "    .dataframe tbody tr th:only-of-type {\n",
       "        vertical-align: middle;\n",
       "    }\n",
       "\n",
       "    .dataframe tbody tr th {\n",
       "        vertical-align: top;\n",
       "    }\n",
       "\n",
       "    .dataframe thead th {\n",
       "        text-align: right;\n",
       "    }\n",
       "</style>\n",
       "<table border=\"1\" class=\"dataframe\">\n",
       "  <thead>\n",
       "    <tr style=\"text-align: right;\">\n",
       "      <th></th>\n",
       "      <th>Categoria</th>\n",
       "      <th>Titulo</th>\n",
       "      <th>Descrição</th>\n",
       "      <th>Data</th>\n",
       "      <th>Pagina</th>\n",
       "      <th>Target</th>\n",
       "      <th>P_Chave</th>\n",
       "    </tr>\n",
       "  </thead>\n",
       "  <tbody>\n",
       "    <tr>\n",
       "      <th>0</th>\n",
       "      <td>bolsonaro</td>\n",
       "      <td>Após repercussão, site com críticas ao preside...</td>\n",
       "      <td>Após a repercussão, o domínio ‘bolsonaro.com.b...</td>\n",
       "      <td>01/09/2022 15:50</td>\n",
       "      <td>1</td>\n",
       "      <td>0</td>\n",
       "      <td>crítica e acusações sobre a família bolsonaro</td>\n",
       "    </tr>\n",
       "    <tr>\n",
       "      <th>1</th>\n",
       "      <td>bolsonaro</td>\n",
       "      <td>Bolsonaro chama de narrativa críticas de compo...</td>\n",
       "      <td>O presidente Jair Bolsonaro (PL) atribuiu a um...</td>\n",
       "      <td>01/09/2022 20:56</td>\n",
       "      <td>1</td>\n",
       "      <td>0</td>\n",
       "      <td>ataques à jornalista</td>\n",
       "    </tr>\n",
       "    <tr>\n",
       "      <th>2</th>\n",
       "      <td>bolsonaro</td>\n",
       "      <td>Lula cai dois pontos, Bolsonaro fica estável, ...</td>\n",
       "      <td>Uma nova pesquisa Datafolha presidencial foi d...</td>\n",
       "      <td>01/09/2022 21:42</td>\n",
       "      <td>1</td>\n",
       "      <td>0</td>\n",
       "      <td>NaN</td>\n",
       "    </tr>\n",
       "    <tr>\n",
       "      <th>3</th>\n",
       "      <td>bolsonaro</td>\n",
       "      <td>Datafolha: Entre mulheres, Lula tem 48%, Bolso...</td>\n",
       "      <td>A pesquisa do Instituto Datafolha divulgada ne...</td>\n",
       "      <td>01/09/2022 22:01</td>\n",
       "      <td>1</td>\n",
       "      <td>0</td>\n",
       "      <td>protagonizou agressão verbal à jornalista vera</td>\n",
       "    </tr>\n",
       "    <tr>\n",
       "      <th>4</th>\n",
       "      <td>bolsonaro</td>\n",
       "      <td>Lula diz que orçamento de Bolsonaro não prevê ...</td>\n",
       "      <td>O ex-presidente e candidato Luiz Inácio Lula d...</td>\n",
       "      <td>01/09/2022 22:24</td>\n",
       "      <td>1</td>\n",
       "      <td>0</td>\n",
       "      <td>não inclui reajuste do salário mínimo</td>\n",
       "    </tr>\n",
       "  </tbody>\n",
       "</table>\n",
       "</div>"
      ],
      "text/plain": [
       "   Categoria                                             Titulo  \\\n",
       "0  bolsonaro  Após repercussão, site com críticas ao preside...   \n",
       "1  bolsonaro  Bolsonaro chama de narrativa críticas de compo...   \n",
       "2  bolsonaro  Lula cai dois pontos, Bolsonaro fica estável, ...   \n",
       "3  bolsonaro  Datafolha: Entre mulheres, Lula tem 48%, Bolso...   \n",
       "4  bolsonaro  Lula diz que orçamento de Bolsonaro não prevê ...   \n",
       "\n",
       "                                           Descrição              Data  \\\n",
       "0  Após a repercussão, o domínio ‘bolsonaro.com.b...  01/09/2022 15:50   \n",
       "1  O presidente Jair Bolsonaro (PL) atribuiu a um...  01/09/2022 20:56   \n",
       "2  Uma nova pesquisa Datafolha presidencial foi d...  01/09/2022 21:42   \n",
       "3  A pesquisa do Instituto Datafolha divulgada ne...  01/09/2022 22:01   \n",
       "4  O ex-presidente e candidato Luiz Inácio Lula d...  01/09/2022 22:24   \n",
       "\n",
       "   Pagina  Target                                         P_Chave  \n",
       "0       1       0   crítica e acusações sobre a família bolsonaro  \n",
       "1       1       0                            ataques à jornalista  \n",
       "2       1       0                                             NaN  \n",
       "3       1       0  protagonizou agressão verbal à jornalista vera  \n",
       "4       1       0           não inclui reajuste do salário mínimo  "
      ]
     },
     "execution_count": 5,
     "metadata": {},
     "output_type": "execute_result"
    }
   ],
   "source": [
    "train = pd.read_excel(filename, sheet_name = 'Treinamento')\n",
    "train.head(5)"
   ]
  },
  {
   "cell_type": "code",
   "execution_count": 6,
   "metadata": {},
   "outputs": [
    {
     "data": {
      "text/html": [
       "<div>\n",
       "<style scoped>\n",
       "    .dataframe tbody tr th:only-of-type {\n",
       "        vertical-align: middle;\n",
       "    }\n",
       "\n",
       "    .dataframe tbody tr th {\n",
       "        vertical-align: top;\n",
       "    }\n",
       "\n",
       "    .dataframe thead th {\n",
       "        text-align: right;\n",
       "    }\n",
       "</style>\n",
       "<table border=\"1\" class=\"dataframe\">\n",
       "  <thead>\n",
       "    <tr style=\"text-align: right;\">\n",
       "      <th></th>\n",
       "      <th>Categoria</th>\n",
       "      <th>Titulo</th>\n",
       "      <th>Descrição</th>\n",
       "      <th>Data</th>\n",
       "      <th>Pagina</th>\n",
       "      <th>Target</th>\n",
       "      <th>P_Chave</th>\n",
       "    </tr>\n",
       "  </thead>\n",
       "  <tbody>\n",
       "    <tr>\n",
       "      <th>0</th>\n",
       "      <td>bolsonaro</td>\n",
       "      <td>Bolsonaro critica TSE e diz que medidas da Cor...</td>\n",
       "      <td>O presidente Jair Bolsonaro (PL) fez críticas ...</td>\n",
       "      <td>02/09/2022 15:30</td>\n",
       "      <td>1</td>\n",
       "      <td>0</td>\n",
       "      <td>críticas TSE</td>\n",
       "    </tr>\n",
       "    <tr>\n",
       "      <th>1</th>\n",
       "      <td>bolsonaro</td>\n",
       "      <td>Esquerda se solidarizou com facada em 2018, ao...</td>\n",
       "      <td>Diferentemente do que disse o presidente Jair ...</td>\n",
       "      <td>02/09/2022 17:48</td>\n",
       "      <td>1</td>\n",
       "      <td>0</td>\n",
       "      <td>contrário diferentemente Bolsonaro</td>\n",
       "    </tr>\n",
       "    <tr>\n",
       "      <th>2</th>\n",
       "      <td>bolsonaro</td>\n",
       "      <td>Bolsonaro cometeu crime contra a humanidade na...</td>\n",
       "      <td>O júri simbólico do Tribunal Permanente dos Po...</td>\n",
       "      <td>01/09/2022 14:08</td>\n",
       "      <td>2</td>\n",
       "      <td>0</td>\n",
       "      <td>condenou crime sentença Bolsonaro</td>\n",
       "    </tr>\n",
       "    <tr>\n",
       "      <th>3</th>\n",
       "      <td>bolsonaro</td>\n",
       "      <td>Crítico de Bolsonaro compra domínio e ‘recria’...</td>\n",
       "      <td>Um site que antes era usado para exibir feitos...</td>\n",
       "      <td>31/08/2022 12:21</td>\n",
       "      <td>2</td>\n",
       "      <td>0</td>\n",
       "      <td>críticas Bolsonaro presidente ameaça Brasil</td>\n",
       "    </tr>\n",
       "    <tr>\n",
       "      <th>4</th>\n",
       "      <td>bolsonaro</td>\n",
       "      <td>Bolsonaro cometeu crime contra a humanidade na...</td>\n",
       "      <td>O júri simbólico do Tribunal Permanente dos Po...</td>\n",
       "      <td>01/09/2022 14:08</td>\n",
       "      <td>2</td>\n",
       "      <td>0</td>\n",
       "      <td>condenou crime sentença Bolsonaro</td>\n",
       "    </tr>\n",
       "  </tbody>\n",
       "</table>\n",
       "</div>"
      ],
      "text/plain": [
       "   Categoria                                             Titulo  \\\n",
       "0  bolsonaro  Bolsonaro critica TSE e diz que medidas da Cor...   \n",
       "1  bolsonaro  Esquerda se solidarizou com facada em 2018, ao...   \n",
       "2  bolsonaro  Bolsonaro cometeu crime contra a humanidade na...   \n",
       "3  bolsonaro  Crítico de Bolsonaro compra domínio e ‘recria’...   \n",
       "4  bolsonaro  Bolsonaro cometeu crime contra a humanidade na...   \n",
       "\n",
       "                                           Descrição              Data  \\\n",
       "0  O presidente Jair Bolsonaro (PL) fez críticas ...  02/09/2022 15:30   \n",
       "1  Diferentemente do que disse o presidente Jair ...  02/09/2022 17:48   \n",
       "2  O júri simbólico do Tribunal Permanente dos Po...  01/09/2022 14:08   \n",
       "3  Um site que antes era usado para exibir feitos...  31/08/2022 12:21   \n",
       "4  O júri simbólico do Tribunal Permanente dos Po...  01/09/2022 14:08   \n",
       "\n",
       "   Pagina  Target                                      P_Chave  \n",
       "0       1       0                                 críticas TSE  \n",
       "1       1       0           contrário diferentemente Bolsonaro  \n",
       "2       2       0            condenou crime sentença Bolsonaro  \n",
       "3       2       0  críticas Bolsonaro presidente ameaça Brasil  \n",
       "4       2       0            condenou crime sentença Bolsonaro  "
      ]
     },
     "execution_count": 6,
     "metadata": {},
     "output_type": "execute_result"
    }
   ],
   "source": [
    "test = pd.read_excel(filename, sheet_name = 'Teste')\n",
    "test.head(5)"
   ]
  },
  {
   "cell_type": "markdown",
   "metadata": {},
   "source": [
    "___\n",
    "## Classificador automático\n"
   ]
  },
  {
   "cell_type": "markdown",
   "metadata": {},
   "source": [
    "Faça aqui uma descrição do seu assunto e o que considerou como relevante ou não relevante na classificação das notícias (Target).\n",
    "\n",
    "ESCREVA AQUI..."
   ]
  },
  {
   "cell_type": "markdown",
   "metadata": {},
   "source": [
    "___\n",
    "### Montando um Classificador Naive-Bayes\n",
    "\n",
    "Considerando apenas as mensagens da planilha Treinamento, ensine  seu classificador."
   ]
  },
  {
   "cell_type": "code",
   "execution_count": 7,
   "metadata": {},
   "outputs": [],
   "source": [
    "import re \n",
    "\n",
    "\n",
    "def limpador(text):\n",
    "    \"\"\"\n",
    "        Função de limpeza muito simples que troca alguns sinais básicos por espaços\n",
    "    \"\"\"\n",
    "    #import string\n",
    "    punctuation = '[!-.:?;%()‘’“”]' # Note que os sinais [] são delimitadores de um conjunto.\n",
    "    pattern = re.compile(punctuation)\n",
    "    text_subbed = re.sub(pattern, '', text)\n",
    "    text_subbed = text_subbed.lower()\n",
    "    return text_subbed"
   ]
  },
  {
   "cell_type": "code",
   "execution_count": 8,
   "metadata": {},
   "outputs": [
    {
     "data": {
      "text/html": [
       "<div>\n",
       "<style scoped>\n",
       "    .dataframe tbody tr th:only-of-type {\n",
       "        vertical-align: middle;\n",
       "    }\n",
       "\n",
       "    .dataframe tbody tr th {\n",
       "        vertical-align: top;\n",
       "    }\n",
       "\n",
       "    .dataframe thead th {\n",
       "        text-align: right;\n",
       "    }\n",
       "</style>\n",
       "<table border=\"1\" class=\"dataframe\">\n",
       "  <thead>\n",
       "    <tr style=\"text-align: right;\">\n",
       "      <th></th>\n",
       "      <th>Categoria</th>\n",
       "      <th>Titulo</th>\n",
       "      <th>Descrição</th>\n",
       "      <th>Data</th>\n",
       "      <th>Pagina</th>\n",
       "      <th>Target</th>\n",
       "      <th>P_Chave</th>\n",
       "    </tr>\n",
       "  </thead>\n",
       "  <tbody>\n",
       "    <tr>\n",
       "      <th>0</th>\n",
       "      <td>bolsonaro</td>\n",
       "      <td>após repercussão site com críticas ao presiden...</td>\n",
       "      <td>após a repercussão o domínio bolsonarocombr co...</td>\n",
       "      <td>01/09/2022 15:50</td>\n",
       "      <td>1</td>\n",
       "      <td>0</td>\n",
       "      <td>crítica e acusações sobre a família bolsonaro</td>\n",
       "    </tr>\n",
       "    <tr>\n",
       "      <th>1</th>\n",
       "      <td>bolsonaro</td>\n",
       "      <td>bolsonaro chama de narrativa críticas de compo...</td>\n",
       "      <td>o presidente jair bolsonaro pl atribuiu a uma ...</td>\n",
       "      <td>01/09/2022 20:56</td>\n",
       "      <td>1</td>\n",
       "      <td>0</td>\n",
       "      <td>ataques à jornalista</td>\n",
       "    </tr>\n",
       "    <tr>\n",
       "      <th>2</th>\n",
       "      <td>bolsonaro</td>\n",
       "      <td>lula cai dois pontos bolsonaro fica estável di...</td>\n",
       "      <td>uma nova pesquisa datafolha presidencial foi d...</td>\n",
       "      <td>01/09/2022 21:42</td>\n",
       "      <td>1</td>\n",
       "      <td>0</td>\n",
       "      <td>nan</td>\n",
       "    </tr>\n",
       "    <tr>\n",
       "      <th>3</th>\n",
       "      <td>bolsonaro</td>\n",
       "      <td>datafolha entre mulheres lula tem 48 bolsonaro 29</td>\n",
       "      <td>a pesquisa do instituto datafolha divulgada ne...</td>\n",
       "      <td>01/09/2022 22:01</td>\n",
       "      <td>1</td>\n",
       "      <td>0</td>\n",
       "      <td>protagonizou agressão verbal à jornalista vera</td>\n",
       "    </tr>\n",
       "    <tr>\n",
       "      <th>4</th>\n",
       "      <td>bolsonaro</td>\n",
       "      <td>lula diz que orçamento de bolsonaro não prevê ...</td>\n",
       "      <td>o expresidente e candidato luiz inácio lula da...</td>\n",
       "      <td>01/09/2022 22:24</td>\n",
       "      <td>1</td>\n",
       "      <td>0</td>\n",
       "      <td>não inclui reajuste do salário mínimo</td>\n",
       "    </tr>\n",
       "  </tbody>\n",
       "</table>\n",
       "</div>"
      ],
      "text/plain": [
       "   Categoria                                             Titulo  \\\n",
       "0  bolsonaro  após repercussão site com críticas ao presiden...   \n",
       "1  bolsonaro  bolsonaro chama de narrativa críticas de compo...   \n",
       "2  bolsonaro  lula cai dois pontos bolsonaro fica estável di...   \n",
       "3  bolsonaro  datafolha entre mulheres lula tem 48 bolsonaro 29   \n",
       "4  bolsonaro  lula diz que orçamento de bolsonaro não prevê ...   \n",
       "\n",
       "                                           Descrição              Data  \\\n",
       "0  após a repercussão o domínio bolsonarocombr co...  01/09/2022 15:50   \n",
       "1  o presidente jair bolsonaro pl atribuiu a uma ...  01/09/2022 20:56   \n",
       "2  uma nova pesquisa datafolha presidencial foi d...  01/09/2022 21:42   \n",
       "3  a pesquisa do instituto datafolha divulgada ne...  01/09/2022 22:01   \n",
       "4  o expresidente e candidato luiz inácio lula da...  01/09/2022 22:24   \n",
       "\n",
       "   Pagina  Target                                         P_Chave  \n",
       "0       1       0   crítica e acusações sobre a família bolsonaro  \n",
       "1       1       0                            ataques à jornalista  \n",
       "2       1       0                                             nan  \n",
       "3       1       0  protagonizou agressão verbal à jornalista vera  \n",
       "4       1       0           não inclui reajuste do salário mínimo  "
      ]
     },
     "execution_count": 8,
     "metadata": {},
     "output_type": "execute_result"
    }
   ],
   "source": [
    "train['P_Chave']=train['P_Chave'].astype(str)\n",
    "train['Titulo']=train['Titulo'].astype(str)\n",
    "train['Descrição']=train['Descrição'].astype(str)\n",
    "\n",
    "train['Descrição']=train['Descrição'].apply(limpador)\n",
    "train['Titulo']=train['Titulo'].apply(limpador)\n",
    "train['P_Chave']=train['P_Chave'].apply(limpador)\n",
    "\n",
    "train.head()\n"
   ]
  },
  {
   "cell_type": "code",
   "execution_count": 9,
   "metadata": {},
   "outputs": [
    {
     "data": {
      "text/html": [
       "<div>\n",
       "<style scoped>\n",
       "    .dataframe tbody tr th:only-of-type {\n",
       "        vertical-align: middle;\n",
       "    }\n",
       "\n",
       "    .dataframe tbody tr th {\n",
       "        vertical-align: top;\n",
       "    }\n",
       "\n",
       "    .dataframe thead th {\n",
       "        text-align: right;\n",
       "    }\n",
       "</style>\n",
       "<table border=\"1\" class=\"dataframe\">\n",
       "  <thead>\n",
       "    <tr style=\"text-align: right;\">\n",
       "      <th></th>\n",
       "      <th>Titulo</th>\n",
       "      <th>Descrição</th>\n",
       "      <th>P_Chave</th>\n",
       "    </tr>\n",
       "  </thead>\n",
       "  <tbody>\n",
       "    <tr>\n",
       "      <th>0</th>\n",
       "      <td>após repercussão site com críticas ao presiden...</td>\n",
       "      <td>após a repercussão o domínio bolsonarocombr co...</td>\n",
       "      <td>crítica e acusações sobre a família bolsonaro</td>\n",
       "    </tr>\n",
       "    <tr>\n",
       "      <th>1</th>\n",
       "      <td>bolsonaro chama de narrativa críticas de compo...</td>\n",
       "      <td>o presidente jair bolsonaro pl atribuiu a uma ...</td>\n",
       "      <td>ataques à jornalista</td>\n",
       "    </tr>\n",
       "    <tr>\n",
       "      <th>2</th>\n",
       "      <td>lula cai dois pontos bolsonaro fica estável di...</td>\n",
       "      <td>uma nova pesquisa datafolha presidencial foi d...</td>\n",
       "      <td>nan</td>\n",
       "    </tr>\n",
       "    <tr>\n",
       "      <th>3</th>\n",
       "      <td>datafolha entre mulheres lula tem 48 bolsonaro 29</td>\n",
       "      <td>a pesquisa do instituto datafolha divulgada ne...</td>\n",
       "      <td>protagonizou agressão verbal à jornalista vera</td>\n",
       "    </tr>\n",
       "    <tr>\n",
       "      <th>4</th>\n",
       "      <td>lula diz que orçamento de bolsonaro não prevê ...</td>\n",
       "      <td>o expresidente e candidato luiz inácio lula da...</td>\n",
       "      <td>não inclui reajuste do salário mínimo</td>\n",
       "    </tr>\n",
       "  </tbody>\n",
       "</table>\n",
       "</div>"
      ],
      "text/plain": [
       "                                              Titulo  \\\n",
       "0  após repercussão site com críticas ao presiden...   \n",
       "1  bolsonaro chama de narrativa críticas de compo...   \n",
       "2  lula cai dois pontos bolsonaro fica estável di...   \n",
       "3  datafolha entre mulheres lula tem 48 bolsonaro 29   \n",
       "4  lula diz que orçamento de bolsonaro não prevê ...   \n",
       "\n",
       "                                           Descrição  \\\n",
       "0  após a repercussão o domínio bolsonarocombr co...   \n",
       "1  o presidente jair bolsonaro pl atribuiu a uma ...   \n",
       "2  uma nova pesquisa datafolha presidencial foi d...   \n",
       "3  a pesquisa do instituto datafolha divulgada ne...   \n",
       "4  o expresidente e candidato luiz inácio lula da...   \n",
       "\n",
       "                                          P_Chave  \n",
       "0   crítica e acusações sobre a família bolsonaro  \n",
       "1                            ataques à jornalista  \n",
       "2                                             nan  \n",
       "3  protagonizou agressão verbal à jornalista vera  \n",
       "4           não inclui reajuste do salário mínimo  "
      ]
     },
     "execution_count": 9,
     "metadata": {},
     "output_type": "execute_result"
    }
   ],
   "source": [
    "train_0 = train.loc[train['Target'] == 0 , ['Titulo','Descrição','P_Chave']]\n",
    "train_0.head()\n"
   ]
  },
  {
   "cell_type": "code",
   "execution_count": 10,
   "metadata": {},
   "outputs": [
    {
     "data": {
      "text/html": [
       "<div>\n",
       "<style scoped>\n",
       "    .dataframe tbody tr th:only-of-type {\n",
       "        vertical-align: middle;\n",
       "    }\n",
       "\n",
       "    .dataframe tbody tr th {\n",
       "        vertical-align: top;\n",
       "    }\n",
       "\n",
       "    .dataframe thead th {\n",
       "        text-align: right;\n",
       "    }\n",
       "</style>\n",
       "<table border=\"1\" class=\"dataframe\">\n",
       "  <thead>\n",
       "    <tr style=\"text-align: right;\">\n",
       "      <th></th>\n",
       "      <th>Titulo</th>\n",
       "      <th>Descrição</th>\n",
       "      <th>P_Chave</th>\n",
       "    </tr>\n",
       "  </thead>\n",
       "  <tbody>\n",
       "    <tr>\n",
       "      <th>109</th>\n",
       "      <td>bolsonaro diz que projeto da carteira verde e ...</td>\n",
       "      <td>o presidente e candidato à reeleição jair bols...</td>\n",
       "      <td>redução de encargos trabalhistas</td>\n",
       "    </tr>\n",
       "    <tr>\n",
       "      <th>110</th>\n",
       "      <td>entenda por que será difícil manter o ritmo de...</td>\n",
       "      <td>a notícia de aumento de 12 no produto interno ...</td>\n",
       "      <td>aumento pib</td>\n",
       "    </tr>\n",
       "    <tr>\n",
       "      <th>111</th>\n",
       "      <td>bolsonaro comemora queda no preço da gasolina ...</td>\n",
       "      <td>após ter dito na quartafeira que haveria uma b...</td>\n",
       "      <td>redução no preço da gasolina</td>\n",
       "    </tr>\n",
       "    <tr>\n",
       "      <th>112</th>\n",
       "      <td>ministro da justiça manda pf investigar site a...</td>\n",
       "      <td>o ministério da justiça pediu uma investigação...</td>\n",
       "      <td>crime contra a honra do presidente</td>\n",
       "    </tr>\n",
       "    <tr>\n",
       "      <th>113</th>\n",
       "      <td>abin faz seu trabalho diz bolsonaro após pf ap...</td>\n",
       "      <td>o presidente jair bolsonaro pl negou nesta ter...</td>\n",
       "      <td>o presidente negou</td>\n",
       "    </tr>\n",
       "  </tbody>\n",
       "</table>\n",
       "</div>"
      ],
      "text/plain": [
       "                                                Titulo  \\\n",
       "109  bolsonaro diz que projeto da carteira verde e ...   \n",
       "110  entenda por que será difícil manter o ritmo de...   \n",
       "111  bolsonaro comemora queda no preço da gasolina ...   \n",
       "112  ministro da justiça manda pf investigar site a...   \n",
       "113  abin faz seu trabalho diz bolsonaro após pf ap...   \n",
       "\n",
       "                                             Descrição  \\\n",
       "109  o presidente e candidato à reeleição jair bols...   \n",
       "110  a notícia de aumento de 12 no produto interno ...   \n",
       "111  após ter dito na quartafeira que haveria uma b...   \n",
       "112  o ministério da justiça pediu uma investigação...   \n",
       "113  o presidente jair bolsonaro pl negou nesta ter...   \n",
       "\n",
       "                                P_Chave  \n",
       "109    redução de encargos trabalhistas  \n",
       "110                        aumento pib   \n",
       "111        redução no preço da gasolina  \n",
       "112  crime contra a honra do presidente  \n",
       "113                  o presidente negou  "
      ]
     },
     "execution_count": 10,
     "metadata": {},
     "output_type": "execute_result"
    }
   ],
   "source": [
    "train_1 = train.loc[train['Target'] == 1 , ['Titulo', 'Descrição', 'P_Chave']]\n",
    "\n",
    "train_1.head(5)"
   ]
  },
  {
   "cell_type": "code",
   "execution_count": 11,
   "metadata": {},
   "outputs": [
    {
     "data": {
      "text/html": [
       "<div>\n",
       "<style scoped>\n",
       "    .dataframe tbody tr th:only-of-type {\n",
       "        vertical-align: middle;\n",
       "    }\n",
       "\n",
       "    .dataframe tbody tr th {\n",
       "        vertical-align: top;\n",
       "    }\n",
       "\n",
       "    .dataframe thead th {\n",
       "        text-align: right;\n",
       "    }\n",
       "</style>\n",
       "<table border=\"1\" class=\"dataframe\">\n",
       "  <thead>\n",
       "    <tr style=\"text-align: right;\">\n",
       "      <th></th>\n",
       "      <th>Titulo</th>\n",
       "      <th>Descrição</th>\n",
       "      <th>P_Chave</th>\n",
       "    </tr>\n",
       "  </thead>\n",
       "  <tbody>\n",
       "    <tr>\n",
       "      <th>5</th>\n",
       "      <td>datafolha 52 dizem não votar em bolsonaro de j...</td>\n",
       "      <td>nova rodada da pesquisa datafolha divulgada ne...</td>\n",
       "      <td>lidera a rejeição entre os eleitores</td>\n",
       "    </tr>\n",
       "    <tr>\n",
       "      <th>14</th>\n",
       "      <td>lula tem 44 e bolsonaro 32 na pesquisa ipec</td>\n",
       "      <td>o expresidente luiz inácio lula da silva pt se...</td>\n",
       "      <td>expresidente luiz inácio lula da silva pt segu...</td>\n",
       "    </tr>\n",
       "    <tr>\n",
       "      <th>15</th>\n",
       "      <td>média estadão dados aponta lula com 51 dos vot...</td>\n",
       "      <td>o agregador de pesquisas eleitorais do estadão...</td>\n",
       "      <td>luiz inácio lula da silva tem 45 das intenções...</td>\n",
       "    </tr>\n",
       "    <tr>\n",
       "      <th>20</th>\n",
       "      <td>média estadão dados mostra lula com 51 dos vot...</td>\n",
       "      <td>o agregador de pesquisas eleitorais do estadão...</td>\n",
       "      <td>luiz inácio lula da silva tem 45 das intenções...</td>\n",
       "    </tr>\n",
       "    <tr>\n",
       "      <th>237</th>\n",
       "      <td>cármen nega pedido para remover vídeos em que ...</td>\n",
       "      <td>a ministra cármen lúcia do tribunal superior e...</td>\n",
       "      <td>nan</td>\n",
       "    </tr>\n",
       "  </tbody>\n",
       "</table>\n",
       "</div>"
      ],
      "text/plain": [
       "                                                Titulo  \\\n",
       "5    datafolha 52 dizem não votar em bolsonaro de j...   \n",
       "14         lula tem 44 e bolsonaro 32 na pesquisa ipec   \n",
       "15   média estadão dados aponta lula com 51 dos vot...   \n",
       "20   média estadão dados mostra lula com 51 dos vot...   \n",
       "237  cármen nega pedido para remover vídeos em que ...   \n",
       "\n",
       "                                             Descrição  \\\n",
       "5    nova rodada da pesquisa datafolha divulgada ne...   \n",
       "14   o expresidente luiz inácio lula da silva pt se...   \n",
       "15   o agregador de pesquisas eleitorais do estadão...   \n",
       "20   o agregador de pesquisas eleitorais do estadão...   \n",
       "237  a ministra cármen lúcia do tribunal superior e...   \n",
       "\n",
       "                                               P_Chave  \n",
       "5                 lidera a rejeição entre os eleitores  \n",
       "14   expresidente luiz inácio lula da silva pt segu...  \n",
       "15   luiz inácio lula da silva tem 45 das intenções...  \n",
       "20   luiz inácio lula da silva tem 45 das intenções...  \n",
       "237                                                nan  "
      ]
     },
     "execution_count": 11,
     "metadata": {},
     "output_type": "execute_result"
    }
   ],
   "source": [
    "train_2 = train.loc[train['Target'] == 2, ['Titulo','Descrição','P_Chave']]\n",
    "train_2.head()"
   ]
  },
  {
   "cell_type": "code",
   "execution_count": 12,
   "metadata": {
    "scrolled": true
   },
   "outputs": [
    {
     "data": {
      "text/plain": [
       "Titulo       object\n",
       "Descrição    object\n",
       "P_Chave      object\n",
       "dtype: object"
      ]
     },
     "execution_count": 12,
     "metadata": {},
     "output_type": "execute_result"
    }
   ],
   "source": [
    "train_2.dtypes"
   ]
  },
  {
   "cell_type": "markdown",
   "metadata": {},
   "source": [
    "# Lista de Palavras da Coluna Irrelevante (2)"
   ]
  },
  {
   "cell_type": "code",
   "execution_count": 13,
   "metadata": {},
   "outputs": [],
   "source": [
    "lista_train2=[]\n",
    "lista_train2_quero=[]\n",
    "z = 0\n",
    "while z < 3:\n",
    "    for i in range(0,len(train_2)):\n",
    "        quero=train_2.iloc[i,z]\n",
    "        final = quero.split()\n",
    "        lista_train2+=(final)\n",
    "    z += 1\n",
    "w=0\n",
    "excluidos=['[…]','nan','–','de','a','o','e','na','no','do','em','ao','da','é','à','os','nas','nos','das','que',\n",
    "          'dos','as','r','se','para']\n",
    "while w <len(lista_train2):\n",
    "    if lista_train2[w] not in excluidos:\n",
    "        lista_train2_quero.append(lista_train2[w])\n",
    "    w+=1\n",
    "\n",
    "#print(lista_train2_quero)\n"
   ]
  },
  {
   "cell_type": "code",
   "execution_count": 24,
   "metadata": {},
   "outputs": [
    {
     "data": {
      "text/plain": [
       "12796"
      ]
     },
     "execution_count": 24,
     "metadata": {},
     "output_type": "execute_result"
    }
   ],
   "source": [
    "len(lista_train2_quero)"
   ]
  },
  {
   "cell_type": "code",
   "execution_count": 25,
   "metadata": {},
   "outputs": [
    {
     "data": {
      "text/plain": [
       "bolsonaro       0.036574\n",
       "presidente      0.020397\n",
       "jair            0.015942\n",
       "com             0.012817\n",
       "pl              0.011566\n",
       "lula            0.011488\n",
       "um              0.008440\n",
       "uma             0.008206\n",
       "não             0.008049\n",
       "nesta           0.007033\n",
       "pt              0.006799\n",
       "por             0.006643\n",
       "luiz            0.006096\n",
       "inácio          0.005861\n",
       "silva           0.005549\n",
       "diz             0.005080\n",
       "expresidente    0.004533\n",
       "brasil          0.004533\n",
       "foi             0.004376\n",
       "pelo            0.004376\n",
       "dtype: float64"
      ]
     },
     "execution_count": 25,
     "metadata": {},
     "output_type": "execute_result"
    }
   ],
   "source": [
    "serie_2=pd.Series(lista_train2_quero).value_counts(True)\n",
    "\n",
    "serie_2.head(20)"
   ]
  },
  {
   "cell_type": "markdown",
   "metadata": {},
   "source": [
    "# Lista de Palavras da Coluna Positiva (1)\n"
   ]
  },
  {
   "cell_type": "code",
   "execution_count": 14,
   "metadata": {},
   "outputs": [],
   "source": [
    "lista_train1=[]\n",
    "lista_train1_quero=[]\n",
    "z = 0\n",
    "while z < 3:\n",
    "    for i in range(0,len(train_1)):\n",
    "        quero=train_1.iloc[i,z]\n",
    "        final = quero.split()\n",
    "        lista_train1+=(final)\n",
    "    z += 1\n",
    "w=0\n",
    "while w <len(lista_train1):\n",
    "    if lista_train1[w] not in excluidos:\n",
    "        lista_train1_quero.append(lista_train1[w])\n",
    "    w+=1\n",
    "\n",
    "#print(lista_train1_quero)"
   ]
  },
  {
   "cell_type": "code",
   "execution_count": 27,
   "metadata": {},
   "outputs": [
    {
     "data": {
      "text/plain": [
       "bolsonaro       0.037808\n",
       "presidente      0.021102\n",
       "jair            0.016999\n",
       "com             0.015533\n",
       "brasil          0.011430\n",
       "nesta           0.011137\n",
       "um              0.007181\n",
       "sobre           0.007034\n",
       "combustíveis    0.006741\n",
       "pl              0.005862\n",
       "não             0.005715\n",
       "governo         0.005715\n",
       "pec             0.005275\n",
       "por             0.005129\n",
       "uma             0.005129\n",
       "afirmou         0.004689\n",
       "diz             0.004689\n",
       "icms            0.004689\n",
       "petrobras       0.004689\n",
       "vai             0.004396\n",
       "dtype: float64"
      ]
     },
     "execution_count": 27,
     "metadata": {},
     "output_type": "execute_result"
    }
   ],
   "source": [
    "serie_1=pd.Series(lista_train1_quero).value_counts(True)\n",
    "serie_1.head(20)"
   ]
  },
  {
   "cell_type": "markdown",
   "metadata": {},
   "source": [
    "# Lista de Palavras da Coluna Negativa (0)"
   ]
  },
  {
   "cell_type": "code",
   "execution_count": 15,
   "metadata": {},
   "outputs": [],
   "source": [
    "lista_train0=[]\n",
    "lista_train0_quero=[]\n",
    "z = 0\n",
    "while z < 3:\n",
    "    for i in range(0,len(train_0)):\n",
    "        quero=train_0.iloc[i,z]\n",
    "        final = quero.split()\n",
    "        lista_train0+=(final)\n",
    "    z += 1\n",
    "w=0\n",
    "while w <len(lista_train0):\n",
    "    if lista_train0[w] not in excluidos:\n",
    "        lista_train0_quero.append(lista_train0[w])\n",
    "    w+=1\n",
    "\n",
    "#print(lista_train0_quero)"
   ]
  },
  {
   "cell_type": "code",
   "execution_count": 29,
   "metadata": {},
   "outputs": [
    {
     "data": {
      "text/plain": [
       "bolsonaro     0.036884\n",
       "presidente    0.023570\n",
       "jair          0.017092\n",
       "com           0.010795\n",
       "nesta         0.009176\n",
       "por           0.008096\n",
       "pl            0.007197\n",
       "não           0.007197\n",
       "governo       0.007017\n",
       "sobre         0.006837\n",
       "uma           0.006657\n",
       "um            0.006657\n",
       "pelo          0.006657\n",
       "federal       0.006117\n",
       "contra        0.005937\n",
       "reajuste      0.005398\n",
       "foi           0.005038\n",
       "brasil        0.005038\n",
       "república     0.004498\n",
       "petrobras     0.004498\n",
       "dtype: float64"
      ]
     },
     "execution_count": 29,
     "metadata": {},
     "output_type": "execute_result"
    }
   ],
   "source": [
    "serie_0=pd.Series(lista_train0_quero).value_counts(True)\n",
    "serie_0.head(20)"
   ]
  },
  {
   "cell_type": "markdown",
   "metadata": {},
   "source": [
    "# Encontrando Probabilidades Totais"
   ]
  },
  {
   "cell_type": "code",
   "execution_count": 16,
   "metadata": {},
   "outputs": [],
   "source": [
    "lista_total=lista_train0_quero + lista_train1_quero + lista_train2_quero\n",
    "#print(lista_total)"
   ]
  },
  {
   "cell_type": "code",
   "execution_count": 19,
   "metadata": {},
   "outputs": [
    {
     "name": "stdout",
     "output_type": "stream",
     "text": [
      "Probabilidade NEGATIVAS/TOTAL: 0.22074827230121535\n",
      "Probabilidade POSITIVA/TOTAL: 0.27103026451664153\n",
      "Probabilidade NEUTRA/TOTAL: 0.5082214631821431\n"
     ]
    }
   ],
   "source": [
    "prob_0=len(lista_train0_quero)/len(lista_total)\n",
    "prob_1=len(lista_train1_quero)/len(lista_total)\n",
    "prob_2=len(lista_train2_quero)/len(lista_total)\n",
    "\n",
    "print(f'Probabilidade NEGATIVAS/TOTAL: {prob_0}')\n",
    "print(f'Probabilidade POSITIVA/TOTAL: {prob_1}')\n",
    "print(f'Probabilidade NEUTRA/TOTAL: {prob_2}')"
   ]
  },
  {
   "cell_type": "markdown",
   "metadata": {},
   "source": [
    "# Criando o Classificador"
   ]
  },
  {
   "cell_type": "code",
   "execution_count": 32,
   "metadata": {},
   "outputs": [
    {
     "data": {
      "text/html": [
       "<div>\n",
       "<style scoped>\n",
       "    .dataframe tbody tr th:only-of-type {\n",
       "        vertical-align: middle;\n",
       "    }\n",
       "\n",
       "    .dataframe tbody tr th {\n",
       "        vertical-align: top;\n",
       "    }\n",
       "\n",
       "    .dataframe thead th {\n",
       "        text-align: right;\n",
       "    }\n",
       "</style>\n",
       "<table border=\"1\" class=\"dataframe\">\n",
       "  <thead>\n",
       "    <tr style=\"text-align: right;\">\n",
       "      <th></th>\n",
       "      <th>Categoria</th>\n",
       "      <th>Titulo</th>\n",
       "      <th>Descrição</th>\n",
       "      <th>Data</th>\n",
       "      <th>Pagina</th>\n",
       "      <th>Target</th>\n",
       "      <th>P_Chave</th>\n",
       "      <th>Auto_Target</th>\n",
       "    </tr>\n",
       "  </thead>\n",
       "  <tbody>\n",
       "    <tr>\n",
       "      <th>0</th>\n",
       "      <td>bolsonaro</td>\n",
       "      <td>após repercussão site com críticas ao presiden...</td>\n",
       "      <td>após a repercussão o domínio bolsonarocombr co...</td>\n",
       "      <td>01/09/2022 15:50</td>\n",
       "      <td>1</td>\n",
       "      <td>0</td>\n",
       "      <td>crítica e acusações sobre a família bolsonaro</td>\n",
       "      <td>Vazio</td>\n",
       "    </tr>\n",
       "    <tr>\n",
       "      <th>1</th>\n",
       "      <td>bolsonaro</td>\n",
       "      <td>bolsonaro chama de narrativa críticas de compo...</td>\n",
       "      <td>o presidente jair bolsonaro pl atribuiu a uma ...</td>\n",
       "      <td>01/09/2022 20:56</td>\n",
       "      <td>1</td>\n",
       "      <td>0</td>\n",
       "      <td>ataques à jornalista</td>\n",
       "      <td>Vazio</td>\n",
       "    </tr>\n",
       "    <tr>\n",
       "      <th>2</th>\n",
       "      <td>bolsonaro</td>\n",
       "      <td>lula cai dois pontos bolsonaro fica estável di...</td>\n",
       "      <td>uma nova pesquisa datafolha presidencial foi d...</td>\n",
       "      <td>01/09/2022 21:42</td>\n",
       "      <td>1</td>\n",
       "      <td>0</td>\n",
       "      <td>nan</td>\n",
       "      <td>Vazio</td>\n",
       "    </tr>\n",
       "    <tr>\n",
       "      <th>3</th>\n",
       "      <td>bolsonaro</td>\n",
       "      <td>datafolha entre mulheres lula tem 48 bolsonaro 29</td>\n",
       "      <td>a pesquisa do instituto datafolha divulgada ne...</td>\n",
       "      <td>01/09/2022 22:01</td>\n",
       "      <td>1</td>\n",
       "      <td>0</td>\n",
       "      <td>protagonizou agressão verbal à jornalista vera</td>\n",
       "      <td>Vazio</td>\n",
       "    </tr>\n",
       "    <tr>\n",
       "      <th>4</th>\n",
       "      <td>bolsonaro</td>\n",
       "      <td>lula diz que orçamento de bolsonaro não prevê ...</td>\n",
       "      <td>o expresidente e candidato luiz inácio lula da...</td>\n",
       "      <td>01/09/2022 22:24</td>\n",
       "      <td>1</td>\n",
       "      <td>0</td>\n",
       "      <td>não inclui reajuste do salário mínimo</td>\n",
       "      <td>Vazio</td>\n",
       "    </tr>\n",
       "  </tbody>\n",
       "</table>\n",
       "</div>"
      ],
      "text/plain": [
       "   Categoria                                             Titulo  \\\n",
       "0  bolsonaro  após repercussão site com críticas ao presiden...   \n",
       "1  bolsonaro  bolsonaro chama de narrativa críticas de compo...   \n",
       "2  bolsonaro  lula cai dois pontos bolsonaro fica estável di...   \n",
       "3  bolsonaro  datafolha entre mulheres lula tem 48 bolsonaro 29   \n",
       "4  bolsonaro  lula diz que orçamento de bolsonaro não prevê ...   \n",
       "\n",
       "                                           Descrição              Data  \\\n",
       "0  após a repercussão o domínio bolsonarocombr co...  01/09/2022 15:50   \n",
       "1  o presidente jair bolsonaro pl atribuiu a uma ...  01/09/2022 20:56   \n",
       "2  uma nova pesquisa datafolha presidencial foi d...  01/09/2022 21:42   \n",
       "3  a pesquisa do instituto datafolha divulgada ne...  01/09/2022 22:01   \n",
       "4  o expresidente e candidato luiz inácio lula da...  01/09/2022 22:24   \n",
       "\n",
       "   Pagina  Target                                         P_Chave Auto_Target  \n",
       "0       1       0   crítica e acusações sobre a família bolsonaro       Vazio  \n",
       "1       1       0                            ataques à jornalista       Vazio  \n",
       "2       1       0                                             nan       Vazio  \n",
       "3       1       0  protagonizou agressão verbal à jornalista vera       Vazio  \n",
       "4       1       0           não inclui reajuste do salário mínimo       Vazio  "
      ]
     },
     "execution_count": 32,
     "metadata": {},
     "output_type": "execute_result"
    }
   ],
   "source": [
    "train['Auto_Target']='Vazio'\n",
    "train.head()"
   ]
  },
  {
   "cell_type": "markdown",
   "metadata": {},
   "source": [
    "___\n",
    "### Verificando a performance do Classificador\n",
    "\n",
    "Agora você deve testar o seu classificador com a base de Testes."
   ]
  },
  {
   "cell_type": "code",
   "execution_count": null,
   "metadata": {},
   "outputs": [],
   "source": []
  },
  {
   "cell_type": "code",
   "execution_count": null,
   "metadata": {},
   "outputs": [],
   "source": []
  },
  {
   "cell_type": "code",
   "execution_count": null,
   "metadata": {},
   "outputs": [],
   "source": []
  },
  {
   "cell_type": "markdown",
   "metadata": {},
   "source": [
    "___\n",
    "### Concluindo"
   ]
  },
  {
   "cell_type": "code",
   "execution_count": null,
   "metadata": {},
   "outputs": [],
   "source": []
  },
  {
   "cell_type": "code",
   "execution_count": null,
   "metadata": {},
   "outputs": [],
   "source": []
  },
  {
   "cell_type": "code",
   "execution_count": null,
   "metadata": {},
   "outputs": [],
   "source": []
  },
  {
   "cell_type": "markdown",
   "metadata": {},
   "source": [
    "___\n",
    "### Qualidade do Classificador a partir de novas separações das notícias entre Treinamento e Teste\n",
    "\n",
    "Caso for fazer esse item do Projeto"
   ]
  },
  {
   "cell_type": "code",
   "execution_count": null,
   "metadata": {},
   "outputs": [],
   "source": []
  },
  {
   "cell_type": "code",
   "execution_count": null,
   "metadata": {},
   "outputs": [],
   "source": []
  },
  {
   "cell_type": "code",
   "execution_count": null,
   "metadata": {},
   "outputs": [],
   "source": []
  },
  {
   "cell_type": "markdown",
   "metadata": {},
   "source": [
    "___\n",
    "## Aperfeiçoamento:\n",
    "\n",
    "Trabalhos que conseguirem pelo menos conceito B vão evoluir em conceito dependendo da quantidade de itens avançados:\n",
    "\n",
    "* IMPLEMENTOU outras limpezas e transformações que não afetem a qualidade da informação contida nas notícias. Ex: stemming, lemmatization, stopwords\n",
    "* CONSIDEROU mais de duas caterogias na variável Target e INCREMENTOU a quantidade de notícias, mantendo pelo menos 250 notícias por caterogia (OBRIGATÓRIO PARA TRIOS, sem contar como item avançado)\n",
    "* Para Target com duas categorias: CRIOU pelo menos quatro categorias intermediárias de relevância baseadas na probabilidade: ex.: muito relevante, relevante, neutro, irrelevante, muito irrelevante\n",
    "* EXPLICOU porquê não pode usar o próprio classificador para gerar mais amostras de treinamento\n",
    "* PROPÔS diferentes cenários para Naïve Bayes fora do contexto do projeto (pelo menos dois cenários, exceto aqueles já apresentados em sala pelos professores: por exemplo, filtro de spam)\n",
    "* SUGERIU e EXPLICOU melhorias reais com indicações concretas de como implementar (indicar como fazer e indicar material de pesquisa)\n",
    "* FEZ o item Qualidade do Classificador a partir de novas separações das Notícias entre Treinamento e Teste descrito no enunciado do projeto (OBRIGATÓRIO para conceitos A ou A+)"
   ]
  },
  {
   "cell_type": "markdown",
   "metadata": {},
   "source": [
    "___\n",
    "## Referências"
   ]
  },
  {
   "cell_type": "markdown",
   "metadata": {},
   "source": [
    "[Naive Bayes and Text Classification](https://arxiv.org/pdf/1410.5329.pdf)  **Mais completo**\n",
    "\n",
    "[A practical explanation of a Naive Bayes Classifier](https://monkeylearn.com/blog/practical-explanation-naive-bayes-classifier/) **Mais simples**"
   ]
  },
  {
   "cell_type": "code",
   "execution_count": null,
   "metadata": {},
   "outputs": [],
   "source": []
  }
 ],
 "metadata": {
  "kernelspec": {
   "display_name": "Python 3.9.7 ('base')",
   "language": "python",
   "name": "python3"
  },
  "language_info": {
   "codemirror_mode": {
    "name": "ipython",
    "version": 3
   },
   "file_extension": ".py",
   "mimetype": "text/x-python",
   "name": "python",
   "nbconvert_exporter": "python",
   "pygments_lexer": "ipython3",
   "version": "3.9.7"
  },
  "vscode": {
   "interpreter": {
    "hash": "bd2d49180acf4888e6c19e4e0f59a062d636affdef1eef64c56316519b0294c5"
   }
  }
 },
 "nbformat": 4,
 "nbformat_minor": 4
}
